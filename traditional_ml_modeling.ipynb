{
  "nbformat": 4,
  "nbformat_minor": 0,
  "metadata": {
    "colab": {
      "provenance": [],
      "collapsed_sections": [
        "mDCvBAmb9_Hq",
        "qScyEIJq-LG8",
        "7XSF3We3-Yyc"
      ]
    },
    "kernelspec": {
      "name": "python3",
      "display_name": "Python 3"
    },
    "language_info": {
      "name": "python"
    },
    "widgets": {
      "application/vnd.jupyter.widget-state+json": {
        "dba465f7710e464cbb892eb3cca41d35": {
          "model_module": "@jupyter-widgets/controls",
          "model_name": "HBoxModel",
          "model_module_version": "1.5.0",
          "state": {
            "_dom_classes": [],
            "_model_module": "@jupyter-widgets/controls",
            "_model_module_version": "1.5.0",
            "_model_name": "HBoxModel",
            "_view_count": null,
            "_view_module": "@jupyter-widgets/controls",
            "_view_module_version": "1.5.0",
            "_view_name": "HBoxView",
            "box_style": "",
            "children": [
              "IPY_MODEL_cd7b394e425e47f299bc74cee158438f",
              "IPY_MODEL_81b6c4d88f97469eb0d8d62f6be119af",
              "IPY_MODEL_fe02e477c95f46528bd907dccefd0ba3"
            ],
            "layout": "IPY_MODEL_85de38545ecb40849da6989d9647e120"
          }
        },
        "cd7b394e425e47f299bc74cee158438f": {
          "model_module": "@jupyter-widgets/controls",
          "model_name": "HTMLModel",
          "model_module_version": "1.5.0",
          "state": {
            "_dom_classes": [],
            "_model_module": "@jupyter-widgets/controls",
            "_model_module_version": "1.5.0",
            "_model_name": "HTMLModel",
            "_view_count": null,
            "_view_module": "@jupyter-widgets/controls",
            "_view_module_version": "1.5.0",
            "_view_name": "HTMLView",
            "description": "",
            "description_tooltip": null,
            "layout": "IPY_MODEL_afe262fa47f94902ae033b1533e7fa7f",
            "placeholder": "​",
            "style": "IPY_MODEL_5de16e86608446d8b75cda61d8ec5cfd",
            "value": "config.json: 100%"
          }
        },
        "81b6c4d88f97469eb0d8d62f6be119af": {
          "model_module": "@jupyter-widgets/controls",
          "model_name": "FloatProgressModel",
          "model_module_version": "1.5.0",
          "state": {
            "_dom_classes": [],
            "_model_module": "@jupyter-widgets/controls",
            "_model_module_version": "1.5.0",
            "_model_name": "FloatProgressModel",
            "_view_count": null,
            "_view_module": "@jupyter-widgets/controls",
            "_view_module_version": "1.5.0",
            "_view_name": "ProgressView",
            "bar_style": "success",
            "description": "",
            "description_tooltip": null,
            "layout": "IPY_MODEL_b028f455bf1442f1891cc7ef71536f4a",
            "max": 694,
            "min": 0,
            "orientation": "horizontal",
            "style": "IPY_MODEL_3216b47cc6de4b159619be43fa78cfed",
            "value": 694
          }
        },
        "fe02e477c95f46528bd907dccefd0ba3": {
          "model_module": "@jupyter-widgets/controls",
          "model_name": "HTMLModel",
          "model_module_version": "1.5.0",
          "state": {
            "_dom_classes": [],
            "_model_module": "@jupyter-widgets/controls",
            "_model_module_version": "1.5.0",
            "_model_name": "HTMLModel",
            "_view_count": null,
            "_view_module": "@jupyter-widgets/controls",
            "_view_module_version": "1.5.0",
            "_view_name": "HTMLView",
            "description": "",
            "description_tooltip": null,
            "layout": "IPY_MODEL_555852601bf940e084315d6d79a8f63f",
            "placeholder": "​",
            "style": "IPY_MODEL_bb06beac0f6f4fd4b948b62a6a334939",
            "value": " 694/694 [00:00&lt;00:00, 11.0kB/s]"
          }
        },
        "85de38545ecb40849da6989d9647e120": {
          "model_module": "@jupyter-widgets/base",
          "model_name": "LayoutModel",
          "model_module_version": "1.2.0",
          "state": {
            "_model_module": "@jupyter-widgets/base",
            "_model_module_version": "1.2.0",
            "_model_name": "LayoutModel",
            "_view_count": null,
            "_view_module": "@jupyter-widgets/base",
            "_view_module_version": "1.2.0",
            "_view_name": "LayoutView",
            "align_content": null,
            "align_items": null,
            "align_self": null,
            "border": null,
            "bottom": null,
            "display": null,
            "flex": null,
            "flex_flow": null,
            "grid_area": null,
            "grid_auto_columns": null,
            "grid_auto_flow": null,
            "grid_auto_rows": null,
            "grid_column": null,
            "grid_gap": null,
            "grid_row": null,
            "grid_template_areas": null,
            "grid_template_columns": null,
            "grid_template_rows": null,
            "height": null,
            "justify_content": null,
            "justify_items": null,
            "left": null,
            "margin": null,
            "max_height": null,
            "max_width": null,
            "min_height": null,
            "min_width": null,
            "object_fit": null,
            "object_position": null,
            "order": null,
            "overflow": null,
            "overflow_x": null,
            "overflow_y": null,
            "padding": null,
            "right": null,
            "top": null,
            "visibility": null,
            "width": null
          }
        },
        "afe262fa47f94902ae033b1533e7fa7f": {
          "model_module": "@jupyter-widgets/base",
          "model_name": "LayoutModel",
          "model_module_version": "1.2.0",
          "state": {
            "_model_module": "@jupyter-widgets/base",
            "_model_module_version": "1.2.0",
            "_model_name": "LayoutModel",
            "_view_count": null,
            "_view_module": "@jupyter-widgets/base",
            "_view_module_version": "1.2.0",
            "_view_name": "LayoutView",
            "align_content": null,
            "align_items": null,
            "align_self": null,
            "border": null,
            "bottom": null,
            "display": null,
            "flex": null,
            "flex_flow": null,
            "grid_area": null,
            "grid_auto_columns": null,
            "grid_auto_flow": null,
            "grid_auto_rows": null,
            "grid_column": null,
            "grid_gap": null,
            "grid_row": null,
            "grid_template_areas": null,
            "grid_template_columns": null,
            "grid_template_rows": null,
            "height": null,
            "justify_content": null,
            "justify_items": null,
            "left": null,
            "margin": null,
            "max_height": null,
            "max_width": null,
            "min_height": null,
            "min_width": null,
            "object_fit": null,
            "object_position": null,
            "order": null,
            "overflow": null,
            "overflow_x": null,
            "overflow_y": null,
            "padding": null,
            "right": null,
            "top": null,
            "visibility": null,
            "width": null
          }
        },
        "5de16e86608446d8b75cda61d8ec5cfd": {
          "model_module": "@jupyter-widgets/controls",
          "model_name": "DescriptionStyleModel",
          "model_module_version": "1.5.0",
          "state": {
            "_model_module": "@jupyter-widgets/controls",
            "_model_module_version": "1.5.0",
            "_model_name": "DescriptionStyleModel",
            "_view_count": null,
            "_view_module": "@jupyter-widgets/base",
            "_view_module_version": "1.2.0",
            "_view_name": "StyleView",
            "description_width": ""
          }
        },
        "b028f455bf1442f1891cc7ef71536f4a": {
          "model_module": "@jupyter-widgets/base",
          "model_name": "LayoutModel",
          "model_module_version": "1.2.0",
          "state": {
            "_model_module": "@jupyter-widgets/base",
            "_model_module_version": "1.2.0",
            "_model_name": "LayoutModel",
            "_view_count": null,
            "_view_module": "@jupyter-widgets/base",
            "_view_module_version": "1.2.0",
            "_view_name": "LayoutView",
            "align_content": null,
            "align_items": null,
            "align_self": null,
            "border": null,
            "bottom": null,
            "display": null,
            "flex": null,
            "flex_flow": null,
            "grid_area": null,
            "grid_auto_columns": null,
            "grid_auto_flow": null,
            "grid_auto_rows": null,
            "grid_column": null,
            "grid_gap": null,
            "grid_row": null,
            "grid_template_areas": null,
            "grid_template_columns": null,
            "grid_template_rows": null,
            "height": null,
            "justify_content": null,
            "justify_items": null,
            "left": null,
            "margin": null,
            "max_height": null,
            "max_width": null,
            "min_height": null,
            "min_width": null,
            "object_fit": null,
            "object_position": null,
            "order": null,
            "overflow": null,
            "overflow_x": null,
            "overflow_y": null,
            "padding": null,
            "right": null,
            "top": null,
            "visibility": null,
            "width": null
          }
        },
        "3216b47cc6de4b159619be43fa78cfed": {
          "model_module": "@jupyter-widgets/controls",
          "model_name": "ProgressStyleModel",
          "model_module_version": "1.5.0",
          "state": {
            "_model_module": "@jupyter-widgets/controls",
            "_model_module_version": "1.5.0",
            "_model_name": "ProgressStyleModel",
            "_view_count": null,
            "_view_module": "@jupyter-widgets/base",
            "_view_module_version": "1.2.0",
            "_view_name": "StyleView",
            "bar_color": null,
            "description_width": ""
          }
        },
        "555852601bf940e084315d6d79a8f63f": {
          "model_module": "@jupyter-widgets/base",
          "model_name": "LayoutModel",
          "model_module_version": "1.2.0",
          "state": {
            "_model_module": "@jupyter-widgets/base",
            "_model_module_version": "1.2.0",
            "_model_name": "LayoutModel",
            "_view_count": null,
            "_view_module": "@jupyter-widgets/base",
            "_view_module_version": "1.2.0",
            "_view_name": "LayoutView",
            "align_content": null,
            "align_items": null,
            "align_self": null,
            "border": null,
            "bottom": null,
            "display": null,
            "flex": null,
            "flex_flow": null,
            "grid_area": null,
            "grid_auto_columns": null,
            "grid_auto_flow": null,
            "grid_auto_rows": null,
            "grid_column": null,
            "grid_gap": null,
            "grid_row": null,
            "grid_template_areas": null,
            "grid_template_columns": null,
            "grid_template_rows": null,
            "height": null,
            "justify_content": null,
            "justify_items": null,
            "left": null,
            "margin": null,
            "max_height": null,
            "max_width": null,
            "min_height": null,
            "min_width": null,
            "object_fit": null,
            "object_position": null,
            "order": null,
            "overflow": null,
            "overflow_x": null,
            "overflow_y": null,
            "padding": null,
            "right": null,
            "top": null,
            "visibility": null,
            "width": null
          }
        },
        "bb06beac0f6f4fd4b948b62a6a334939": {
          "model_module": "@jupyter-widgets/controls",
          "model_name": "DescriptionStyleModel",
          "model_module_version": "1.5.0",
          "state": {
            "_model_module": "@jupyter-widgets/controls",
            "_model_module_version": "1.5.0",
            "_model_name": "DescriptionStyleModel",
            "_view_count": null,
            "_view_module": "@jupyter-widgets/base",
            "_view_module_version": "1.2.0",
            "_view_name": "StyleView",
            "description_width": ""
          }
        },
        "9942fae8fa9448a593a4a72555435256": {
          "model_module": "@jupyter-widgets/controls",
          "model_name": "HBoxModel",
          "model_module_version": "1.5.0",
          "state": {
            "_dom_classes": [],
            "_model_module": "@jupyter-widgets/controls",
            "_model_module_version": "1.5.0",
            "_model_name": "HBoxModel",
            "_view_count": null,
            "_view_module": "@jupyter-widgets/controls",
            "_view_module_version": "1.5.0",
            "_view_name": "HBoxView",
            "box_style": "",
            "children": [
              "IPY_MODEL_ec91f9c4dba24c39b95797b0d5492049",
              "IPY_MODEL_25381068e7534b2999f9e2ebdffbdd28",
              "IPY_MODEL_c14960284d8440a9b89a4bd5e9d8d1ff"
            ],
            "layout": "IPY_MODEL_0cda96d336fc4ce79632e665095c5cd7"
          }
        },
        "ec91f9c4dba24c39b95797b0d5492049": {
          "model_module": "@jupyter-widgets/controls",
          "model_name": "HTMLModel",
          "model_module_version": "1.5.0",
          "state": {
            "_dom_classes": [],
            "_model_module": "@jupyter-widgets/controls",
            "_model_module_version": "1.5.0",
            "_model_name": "HTMLModel",
            "_view_count": null,
            "_view_module": "@jupyter-widgets/controls",
            "_view_module_version": "1.5.0",
            "_view_name": "HTMLView",
            "description": "",
            "description_tooltip": null,
            "layout": "IPY_MODEL_30467be74f7544f096cc1cd022145813",
            "placeholder": "​",
            "style": "IPY_MODEL_4233b838ac7b447fa9f26c45b2d4bcc4",
            "value": "vocab.json: 100%"
          }
        },
        "25381068e7534b2999f9e2ebdffbdd28": {
          "model_module": "@jupyter-widgets/controls",
          "model_name": "FloatProgressModel",
          "model_module_version": "1.5.0",
          "state": {
            "_dom_classes": [],
            "_model_module": "@jupyter-widgets/controls",
            "_model_module_version": "1.5.0",
            "_model_name": "FloatProgressModel",
            "_view_count": null,
            "_view_module": "@jupyter-widgets/controls",
            "_view_module_version": "1.5.0",
            "_view_name": "ProgressView",
            "bar_style": "success",
            "description": "",
            "description_tooltip": null,
            "layout": "IPY_MODEL_117139b7d896424eba857b507d902c10",
            "max": 898823,
            "min": 0,
            "orientation": "horizontal",
            "style": "IPY_MODEL_f9df1a4609f84a1b86ffc871bb3cd453",
            "value": 898823
          }
        },
        "c14960284d8440a9b89a4bd5e9d8d1ff": {
          "model_module": "@jupyter-widgets/controls",
          "model_name": "HTMLModel",
          "model_module_version": "1.5.0",
          "state": {
            "_dom_classes": [],
            "_model_module": "@jupyter-widgets/controls",
            "_model_module_version": "1.5.0",
            "_model_name": "HTMLModel",
            "_view_count": null,
            "_view_module": "@jupyter-widgets/controls",
            "_view_module_version": "1.5.0",
            "_view_name": "HTMLView",
            "description": "",
            "description_tooltip": null,
            "layout": "IPY_MODEL_6368de6ad17c451ebe9a08810c0587cb",
            "placeholder": "​",
            "style": "IPY_MODEL_88ebe89ee7e949238af2225a88aeb142",
            "value": " 899k/899k [00:00&lt;00:00, 6.35MB/s]"
          }
        },
        "0cda96d336fc4ce79632e665095c5cd7": {
          "model_module": "@jupyter-widgets/base",
          "model_name": "LayoutModel",
          "model_module_version": "1.2.0",
          "state": {
            "_model_module": "@jupyter-widgets/base",
            "_model_module_version": "1.2.0",
            "_model_name": "LayoutModel",
            "_view_count": null,
            "_view_module": "@jupyter-widgets/base",
            "_view_module_version": "1.2.0",
            "_view_name": "LayoutView",
            "align_content": null,
            "align_items": null,
            "align_self": null,
            "border": null,
            "bottom": null,
            "display": null,
            "flex": null,
            "flex_flow": null,
            "grid_area": null,
            "grid_auto_columns": null,
            "grid_auto_flow": null,
            "grid_auto_rows": null,
            "grid_column": null,
            "grid_gap": null,
            "grid_row": null,
            "grid_template_areas": null,
            "grid_template_columns": null,
            "grid_template_rows": null,
            "height": null,
            "justify_content": null,
            "justify_items": null,
            "left": null,
            "margin": null,
            "max_height": null,
            "max_width": null,
            "min_height": null,
            "min_width": null,
            "object_fit": null,
            "object_position": null,
            "order": null,
            "overflow": null,
            "overflow_x": null,
            "overflow_y": null,
            "padding": null,
            "right": null,
            "top": null,
            "visibility": null,
            "width": null
          }
        },
        "30467be74f7544f096cc1cd022145813": {
          "model_module": "@jupyter-widgets/base",
          "model_name": "LayoutModel",
          "model_module_version": "1.2.0",
          "state": {
            "_model_module": "@jupyter-widgets/base",
            "_model_module_version": "1.2.0",
            "_model_name": "LayoutModel",
            "_view_count": null,
            "_view_module": "@jupyter-widgets/base",
            "_view_module_version": "1.2.0",
            "_view_name": "LayoutView",
            "align_content": null,
            "align_items": null,
            "align_self": null,
            "border": null,
            "bottom": null,
            "display": null,
            "flex": null,
            "flex_flow": null,
            "grid_area": null,
            "grid_auto_columns": null,
            "grid_auto_flow": null,
            "grid_auto_rows": null,
            "grid_column": null,
            "grid_gap": null,
            "grid_row": null,
            "grid_template_areas": null,
            "grid_template_columns": null,
            "grid_template_rows": null,
            "height": null,
            "justify_content": null,
            "justify_items": null,
            "left": null,
            "margin": null,
            "max_height": null,
            "max_width": null,
            "min_height": null,
            "min_width": null,
            "object_fit": null,
            "object_position": null,
            "order": null,
            "overflow": null,
            "overflow_x": null,
            "overflow_y": null,
            "padding": null,
            "right": null,
            "top": null,
            "visibility": null,
            "width": null
          }
        },
        "4233b838ac7b447fa9f26c45b2d4bcc4": {
          "model_module": "@jupyter-widgets/controls",
          "model_name": "DescriptionStyleModel",
          "model_module_version": "1.5.0",
          "state": {
            "_model_module": "@jupyter-widgets/controls",
            "_model_module_version": "1.5.0",
            "_model_name": "DescriptionStyleModel",
            "_view_count": null,
            "_view_module": "@jupyter-widgets/base",
            "_view_module_version": "1.2.0",
            "_view_name": "StyleView",
            "description_width": ""
          }
        },
        "117139b7d896424eba857b507d902c10": {
          "model_module": "@jupyter-widgets/base",
          "model_name": "LayoutModel",
          "model_module_version": "1.2.0",
          "state": {
            "_model_module": "@jupyter-widgets/base",
            "_model_module_version": "1.2.0",
            "_model_name": "LayoutModel",
            "_view_count": null,
            "_view_module": "@jupyter-widgets/base",
            "_view_module_version": "1.2.0",
            "_view_name": "LayoutView",
            "align_content": null,
            "align_items": null,
            "align_self": null,
            "border": null,
            "bottom": null,
            "display": null,
            "flex": null,
            "flex_flow": null,
            "grid_area": null,
            "grid_auto_columns": null,
            "grid_auto_flow": null,
            "grid_auto_rows": null,
            "grid_column": null,
            "grid_gap": null,
            "grid_row": null,
            "grid_template_areas": null,
            "grid_template_columns": null,
            "grid_template_rows": null,
            "height": null,
            "justify_content": null,
            "justify_items": null,
            "left": null,
            "margin": null,
            "max_height": null,
            "max_width": null,
            "min_height": null,
            "min_width": null,
            "object_fit": null,
            "object_position": null,
            "order": null,
            "overflow": null,
            "overflow_x": null,
            "overflow_y": null,
            "padding": null,
            "right": null,
            "top": null,
            "visibility": null,
            "width": null
          }
        },
        "f9df1a4609f84a1b86ffc871bb3cd453": {
          "model_module": "@jupyter-widgets/controls",
          "model_name": "ProgressStyleModel",
          "model_module_version": "1.5.0",
          "state": {
            "_model_module": "@jupyter-widgets/controls",
            "_model_module_version": "1.5.0",
            "_model_name": "ProgressStyleModel",
            "_view_count": null,
            "_view_module": "@jupyter-widgets/base",
            "_view_module_version": "1.2.0",
            "_view_name": "StyleView",
            "bar_color": null,
            "description_width": ""
          }
        },
        "6368de6ad17c451ebe9a08810c0587cb": {
          "model_module": "@jupyter-widgets/base",
          "model_name": "LayoutModel",
          "model_module_version": "1.2.0",
          "state": {
            "_model_module": "@jupyter-widgets/base",
            "_model_module_version": "1.2.0",
            "_model_name": "LayoutModel",
            "_view_count": null,
            "_view_module": "@jupyter-widgets/base",
            "_view_module_version": "1.2.0",
            "_view_name": "LayoutView",
            "align_content": null,
            "align_items": null,
            "align_self": null,
            "border": null,
            "bottom": null,
            "display": null,
            "flex": null,
            "flex_flow": null,
            "grid_area": null,
            "grid_auto_columns": null,
            "grid_auto_flow": null,
            "grid_auto_rows": null,
            "grid_column": null,
            "grid_gap": null,
            "grid_row": null,
            "grid_template_areas": null,
            "grid_template_columns": null,
            "grid_template_rows": null,
            "height": null,
            "justify_content": null,
            "justify_items": null,
            "left": null,
            "margin": null,
            "max_height": null,
            "max_width": null,
            "min_height": null,
            "min_width": null,
            "object_fit": null,
            "object_position": null,
            "order": null,
            "overflow": null,
            "overflow_x": null,
            "overflow_y": null,
            "padding": null,
            "right": null,
            "top": null,
            "visibility": null,
            "width": null
          }
        },
        "88ebe89ee7e949238af2225a88aeb142": {
          "model_module": "@jupyter-widgets/controls",
          "model_name": "DescriptionStyleModel",
          "model_module_version": "1.5.0",
          "state": {
            "_model_module": "@jupyter-widgets/controls",
            "_model_module_version": "1.5.0",
            "_model_name": "DescriptionStyleModel",
            "_view_count": null,
            "_view_module": "@jupyter-widgets/base",
            "_view_module_version": "1.2.0",
            "_view_name": "StyleView",
            "description_width": ""
          }
        },
        "7a804fef00ba4f9085791724aef29fa1": {
          "model_module": "@jupyter-widgets/controls",
          "model_name": "HBoxModel",
          "model_module_version": "1.5.0",
          "state": {
            "_dom_classes": [],
            "_model_module": "@jupyter-widgets/controls",
            "_model_module_version": "1.5.0",
            "_model_name": "HBoxModel",
            "_view_count": null,
            "_view_module": "@jupyter-widgets/controls",
            "_view_module_version": "1.5.0",
            "_view_name": "HBoxView",
            "box_style": "",
            "children": [
              "IPY_MODEL_513d2f5691034e31b55ea92fb67fecf6",
              "IPY_MODEL_1f5e9323ce23440690c509495d717b35",
              "IPY_MODEL_84ae0e560bd9422fa594307a9384e78a"
            ],
            "layout": "IPY_MODEL_1a13e43aa2034d3fb2f75b59c9cf38b0"
          }
        },
        "513d2f5691034e31b55ea92fb67fecf6": {
          "model_module": "@jupyter-widgets/controls",
          "model_name": "HTMLModel",
          "model_module_version": "1.5.0",
          "state": {
            "_dom_classes": [],
            "_model_module": "@jupyter-widgets/controls",
            "_model_module_version": "1.5.0",
            "_model_name": "HTMLModel",
            "_view_count": null,
            "_view_module": "@jupyter-widgets/controls",
            "_view_module_version": "1.5.0",
            "_view_name": "HTMLView",
            "description": "",
            "description_tooltip": null,
            "layout": "IPY_MODEL_c87c59b616da4e5ca17378578a5dfc42",
            "placeholder": "​",
            "style": "IPY_MODEL_16f8b1702d7641c483b77a407c345879",
            "value": "merges.txt: 100%"
          }
        },
        "1f5e9323ce23440690c509495d717b35": {
          "model_module": "@jupyter-widgets/controls",
          "model_name": "FloatProgressModel",
          "model_module_version": "1.5.0",
          "state": {
            "_dom_classes": [],
            "_model_module": "@jupyter-widgets/controls",
            "_model_module_version": "1.5.0",
            "_model_name": "FloatProgressModel",
            "_view_count": null,
            "_view_module": "@jupyter-widgets/controls",
            "_view_module_version": "1.5.0",
            "_view_name": "ProgressView",
            "bar_style": "success",
            "description": "",
            "description_tooltip": null,
            "layout": "IPY_MODEL_1be29642d3a04e34839d7427b5590c1f",
            "max": 456318,
            "min": 0,
            "orientation": "horizontal",
            "style": "IPY_MODEL_c46e8f342469456e83505dce5c5bccc3",
            "value": 456318
          }
        },
        "84ae0e560bd9422fa594307a9384e78a": {
          "model_module": "@jupyter-widgets/controls",
          "model_name": "HTMLModel",
          "model_module_version": "1.5.0",
          "state": {
            "_dom_classes": [],
            "_model_module": "@jupyter-widgets/controls",
            "_model_module_version": "1.5.0",
            "_model_name": "HTMLModel",
            "_view_count": null,
            "_view_module": "@jupyter-widgets/controls",
            "_view_module_version": "1.5.0",
            "_view_name": "HTMLView",
            "description": "",
            "description_tooltip": null,
            "layout": "IPY_MODEL_b4289cef7c2b4db89f06ff29ea8607d3",
            "placeholder": "​",
            "style": "IPY_MODEL_323f9620b1af447f823a63d645ad5a6a",
            "value": " 456k/456k [00:00&lt;00:00, 11.3MB/s]"
          }
        },
        "1a13e43aa2034d3fb2f75b59c9cf38b0": {
          "model_module": "@jupyter-widgets/base",
          "model_name": "LayoutModel",
          "model_module_version": "1.2.0",
          "state": {
            "_model_module": "@jupyter-widgets/base",
            "_model_module_version": "1.2.0",
            "_model_name": "LayoutModel",
            "_view_count": null,
            "_view_module": "@jupyter-widgets/base",
            "_view_module_version": "1.2.0",
            "_view_name": "LayoutView",
            "align_content": null,
            "align_items": null,
            "align_self": null,
            "border": null,
            "bottom": null,
            "display": null,
            "flex": null,
            "flex_flow": null,
            "grid_area": null,
            "grid_auto_columns": null,
            "grid_auto_flow": null,
            "grid_auto_rows": null,
            "grid_column": null,
            "grid_gap": null,
            "grid_row": null,
            "grid_template_areas": null,
            "grid_template_columns": null,
            "grid_template_rows": null,
            "height": null,
            "justify_content": null,
            "justify_items": null,
            "left": null,
            "margin": null,
            "max_height": null,
            "max_width": null,
            "min_height": null,
            "min_width": null,
            "object_fit": null,
            "object_position": null,
            "order": null,
            "overflow": null,
            "overflow_x": null,
            "overflow_y": null,
            "padding": null,
            "right": null,
            "top": null,
            "visibility": null,
            "width": null
          }
        },
        "c87c59b616da4e5ca17378578a5dfc42": {
          "model_module": "@jupyter-widgets/base",
          "model_name": "LayoutModel",
          "model_module_version": "1.2.0",
          "state": {
            "_model_module": "@jupyter-widgets/base",
            "_model_module_version": "1.2.0",
            "_model_name": "LayoutModel",
            "_view_count": null,
            "_view_module": "@jupyter-widgets/base",
            "_view_module_version": "1.2.0",
            "_view_name": "LayoutView",
            "align_content": null,
            "align_items": null,
            "align_self": null,
            "border": null,
            "bottom": null,
            "display": null,
            "flex": null,
            "flex_flow": null,
            "grid_area": null,
            "grid_auto_columns": null,
            "grid_auto_flow": null,
            "grid_auto_rows": null,
            "grid_column": null,
            "grid_gap": null,
            "grid_row": null,
            "grid_template_areas": null,
            "grid_template_columns": null,
            "grid_template_rows": null,
            "height": null,
            "justify_content": null,
            "justify_items": null,
            "left": null,
            "margin": null,
            "max_height": null,
            "max_width": null,
            "min_height": null,
            "min_width": null,
            "object_fit": null,
            "object_position": null,
            "order": null,
            "overflow": null,
            "overflow_x": null,
            "overflow_y": null,
            "padding": null,
            "right": null,
            "top": null,
            "visibility": null,
            "width": null
          }
        },
        "16f8b1702d7641c483b77a407c345879": {
          "model_module": "@jupyter-widgets/controls",
          "model_name": "DescriptionStyleModel",
          "model_module_version": "1.5.0",
          "state": {
            "_model_module": "@jupyter-widgets/controls",
            "_model_module_version": "1.5.0",
            "_model_name": "DescriptionStyleModel",
            "_view_count": null,
            "_view_module": "@jupyter-widgets/base",
            "_view_module_version": "1.2.0",
            "_view_name": "StyleView",
            "description_width": ""
          }
        },
        "1be29642d3a04e34839d7427b5590c1f": {
          "model_module": "@jupyter-widgets/base",
          "model_name": "LayoutModel",
          "model_module_version": "1.2.0",
          "state": {
            "_model_module": "@jupyter-widgets/base",
            "_model_module_version": "1.2.0",
            "_model_name": "LayoutModel",
            "_view_count": null,
            "_view_module": "@jupyter-widgets/base",
            "_view_module_version": "1.2.0",
            "_view_name": "LayoutView",
            "align_content": null,
            "align_items": null,
            "align_self": null,
            "border": null,
            "bottom": null,
            "display": null,
            "flex": null,
            "flex_flow": null,
            "grid_area": null,
            "grid_auto_columns": null,
            "grid_auto_flow": null,
            "grid_auto_rows": null,
            "grid_column": null,
            "grid_gap": null,
            "grid_row": null,
            "grid_template_areas": null,
            "grid_template_columns": null,
            "grid_template_rows": null,
            "height": null,
            "justify_content": null,
            "justify_items": null,
            "left": null,
            "margin": null,
            "max_height": null,
            "max_width": null,
            "min_height": null,
            "min_width": null,
            "object_fit": null,
            "object_position": null,
            "order": null,
            "overflow": null,
            "overflow_x": null,
            "overflow_y": null,
            "padding": null,
            "right": null,
            "top": null,
            "visibility": null,
            "width": null
          }
        },
        "c46e8f342469456e83505dce5c5bccc3": {
          "model_module": "@jupyter-widgets/controls",
          "model_name": "ProgressStyleModel",
          "model_module_version": "1.5.0",
          "state": {
            "_model_module": "@jupyter-widgets/controls",
            "_model_module_version": "1.5.0",
            "_model_name": "ProgressStyleModel",
            "_view_count": null,
            "_view_module": "@jupyter-widgets/base",
            "_view_module_version": "1.2.0",
            "_view_name": "StyleView",
            "bar_color": null,
            "description_width": ""
          }
        },
        "b4289cef7c2b4db89f06ff29ea8607d3": {
          "model_module": "@jupyter-widgets/base",
          "model_name": "LayoutModel",
          "model_module_version": "1.2.0",
          "state": {
            "_model_module": "@jupyter-widgets/base",
            "_model_module_version": "1.2.0",
            "_model_name": "LayoutModel",
            "_view_count": null,
            "_view_module": "@jupyter-widgets/base",
            "_view_module_version": "1.2.0",
            "_view_name": "LayoutView",
            "align_content": null,
            "align_items": null,
            "align_self": null,
            "border": null,
            "bottom": null,
            "display": null,
            "flex": null,
            "flex_flow": null,
            "grid_area": null,
            "grid_auto_columns": null,
            "grid_auto_flow": null,
            "grid_auto_rows": null,
            "grid_column": null,
            "grid_gap": null,
            "grid_row": null,
            "grid_template_areas": null,
            "grid_template_columns": null,
            "grid_template_rows": null,
            "height": null,
            "justify_content": null,
            "justify_items": null,
            "left": null,
            "margin": null,
            "max_height": null,
            "max_width": null,
            "min_height": null,
            "min_width": null,
            "object_fit": null,
            "object_position": null,
            "order": null,
            "overflow": null,
            "overflow_x": null,
            "overflow_y": null,
            "padding": null,
            "right": null,
            "top": null,
            "visibility": null,
            "width": null
          }
        },
        "323f9620b1af447f823a63d645ad5a6a": {
          "model_module": "@jupyter-widgets/controls",
          "model_name": "DescriptionStyleModel",
          "model_module_version": "1.5.0",
          "state": {
            "_model_module": "@jupyter-widgets/controls",
            "_model_module_version": "1.5.0",
            "_model_name": "DescriptionStyleModel",
            "_view_count": null,
            "_view_module": "@jupyter-widgets/base",
            "_view_module_version": "1.2.0",
            "_view_name": "StyleView",
            "description_width": ""
          }
        },
        "41e3ac359b734b5c8b7958a6a4733bd6": {
          "model_module": "@jupyter-widgets/controls",
          "model_name": "HBoxModel",
          "model_module_version": "1.5.0",
          "state": {
            "_dom_classes": [],
            "_model_module": "@jupyter-widgets/controls",
            "_model_module_version": "1.5.0",
            "_model_name": "HBoxModel",
            "_view_count": null,
            "_view_module": "@jupyter-widgets/controls",
            "_view_module_version": "1.5.0",
            "_view_name": "HBoxView",
            "box_style": "",
            "children": [
              "IPY_MODEL_bb8841102c674db18aaf2971022b100d",
              "IPY_MODEL_1c6d85f2269a449d988737e48177ff90",
              "IPY_MODEL_f0435c3a34ef48459536543f721358d9"
            ],
            "layout": "IPY_MODEL_8f238f50a0ad4bc6b3bf9bab93524267"
          }
        },
        "bb8841102c674db18aaf2971022b100d": {
          "model_module": "@jupyter-widgets/controls",
          "model_name": "HTMLModel",
          "model_module_version": "1.5.0",
          "state": {
            "_dom_classes": [],
            "_model_module": "@jupyter-widgets/controls",
            "_model_module_version": "1.5.0",
            "_model_name": "HTMLModel",
            "_view_count": null,
            "_view_module": "@jupyter-widgets/controls",
            "_view_module_version": "1.5.0",
            "_view_name": "HTMLView",
            "description": "",
            "description_tooltip": null,
            "layout": "IPY_MODEL_0ab57418c6a5488597244c44de8a3b4d",
            "placeholder": "​",
            "style": "IPY_MODEL_94a13009201047fc99cb0536539b6127",
            "value": "tokenizer.json: 100%"
          }
        },
        "1c6d85f2269a449d988737e48177ff90": {
          "model_module": "@jupyter-widgets/controls",
          "model_name": "FloatProgressModel",
          "model_module_version": "1.5.0",
          "state": {
            "_dom_classes": [],
            "_model_module": "@jupyter-widgets/controls",
            "_model_module_version": "1.5.0",
            "_model_name": "FloatProgressModel",
            "_view_count": null,
            "_view_module": "@jupyter-widgets/controls",
            "_view_module_version": "1.5.0",
            "_view_name": "ProgressView",
            "bar_style": "success",
            "description": "",
            "description_tooltip": null,
            "layout": "IPY_MODEL_f1211fb8bb9e40828585d72e18e01470",
            "max": 1355863,
            "min": 0,
            "orientation": "horizontal",
            "style": "IPY_MODEL_f03a512754fb4105ad881ba482d2c840",
            "value": 1355863
          }
        },
        "f0435c3a34ef48459536543f721358d9": {
          "model_module": "@jupyter-widgets/controls",
          "model_name": "HTMLModel",
          "model_module_version": "1.5.0",
          "state": {
            "_dom_classes": [],
            "_model_module": "@jupyter-widgets/controls",
            "_model_module_version": "1.5.0",
            "_model_name": "HTMLModel",
            "_view_count": null,
            "_view_module": "@jupyter-widgets/controls",
            "_view_module_version": "1.5.0",
            "_view_name": "HTMLView",
            "description": "",
            "description_tooltip": null,
            "layout": "IPY_MODEL_e7c90453dc6448a1b2f505876c2016b2",
            "placeholder": "​",
            "style": "IPY_MODEL_367ece88adb747b9819b400c138a73fb",
            "value": " 1.36M/1.36M [00:00&lt;00:00, 14.5MB/s]"
          }
        },
        "8f238f50a0ad4bc6b3bf9bab93524267": {
          "model_module": "@jupyter-widgets/base",
          "model_name": "LayoutModel",
          "model_module_version": "1.2.0",
          "state": {
            "_model_module": "@jupyter-widgets/base",
            "_model_module_version": "1.2.0",
            "_model_name": "LayoutModel",
            "_view_count": null,
            "_view_module": "@jupyter-widgets/base",
            "_view_module_version": "1.2.0",
            "_view_name": "LayoutView",
            "align_content": null,
            "align_items": null,
            "align_self": null,
            "border": null,
            "bottom": null,
            "display": null,
            "flex": null,
            "flex_flow": null,
            "grid_area": null,
            "grid_auto_columns": null,
            "grid_auto_flow": null,
            "grid_auto_rows": null,
            "grid_column": null,
            "grid_gap": null,
            "grid_row": null,
            "grid_template_areas": null,
            "grid_template_columns": null,
            "grid_template_rows": null,
            "height": null,
            "justify_content": null,
            "justify_items": null,
            "left": null,
            "margin": null,
            "max_height": null,
            "max_width": null,
            "min_height": null,
            "min_width": null,
            "object_fit": null,
            "object_position": null,
            "order": null,
            "overflow": null,
            "overflow_x": null,
            "overflow_y": null,
            "padding": null,
            "right": null,
            "top": null,
            "visibility": null,
            "width": null
          }
        },
        "0ab57418c6a5488597244c44de8a3b4d": {
          "model_module": "@jupyter-widgets/base",
          "model_name": "LayoutModel",
          "model_module_version": "1.2.0",
          "state": {
            "_model_module": "@jupyter-widgets/base",
            "_model_module_version": "1.2.0",
            "_model_name": "LayoutModel",
            "_view_count": null,
            "_view_module": "@jupyter-widgets/base",
            "_view_module_version": "1.2.0",
            "_view_name": "LayoutView",
            "align_content": null,
            "align_items": null,
            "align_self": null,
            "border": null,
            "bottom": null,
            "display": null,
            "flex": null,
            "flex_flow": null,
            "grid_area": null,
            "grid_auto_columns": null,
            "grid_auto_flow": null,
            "grid_auto_rows": null,
            "grid_column": null,
            "grid_gap": null,
            "grid_row": null,
            "grid_template_areas": null,
            "grid_template_columns": null,
            "grid_template_rows": null,
            "height": null,
            "justify_content": null,
            "justify_items": null,
            "left": null,
            "margin": null,
            "max_height": null,
            "max_width": null,
            "min_height": null,
            "min_width": null,
            "object_fit": null,
            "object_position": null,
            "order": null,
            "overflow": null,
            "overflow_x": null,
            "overflow_y": null,
            "padding": null,
            "right": null,
            "top": null,
            "visibility": null,
            "width": null
          }
        },
        "94a13009201047fc99cb0536539b6127": {
          "model_module": "@jupyter-widgets/controls",
          "model_name": "DescriptionStyleModel",
          "model_module_version": "1.5.0",
          "state": {
            "_model_module": "@jupyter-widgets/controls",
            "_model_module_version": "1.5.0",
            "_model_name": "DescriptionStyleModel",
            "_view_count": null,
            "_view_module": "@jupyter-widgets/base",
            "_view_module_version": "1.2.0",
            "_view_name": "StyleView",
            "description_width": ""
          }
        },
        "f1211fb8bb9e40828585d72e18e01470": {
          "model_module": "@jupyter-widgets/base",
          "model_name": "LayoutModel",
          "model_module_version": "1.2.0",
          "state": {
            "_model_module": "@jupyter-widgets/base",
            "_model_module_version": "1.2.0",
            "_model_name": "LayoutModel",
            "_view_count": null,
            "_view_module": "@jupyter-widgets/base",
            "_view_module_version": "1.2.0",
            "_view_name": "LayoutView",
            "align_content": null,
            "align_items": null,
            "align_self": null,
            "border": null,
            "bottom": null,
            "display": null,
            "flex": null,
            "flex_flow": null,
            "grid_area": null,
            "grid_auto_columns": null,
            "grid_auto_flow": null,
            "grid_auto_rows": null,
            "grid_column": null,
            "grid_gap": null,
            "grid_row": null,
            "grid_template_areas": null,
            "grid_template_columns": null,
            "grid_template_rows": null,
            "height": null,
            "justify_content": null,
            "justify_items": null,
            "left": null,
            "margin": null,
            "max_height": null,
            "max_width": null,
            "min_height": null,
            "min_width": null,
            "object_fit": null,
            "object_position": null,
            "order": null,
            "overflow": null,
            "overflow_x": null,
            "overflow_y": null,
            "padding": null,
            "right": null,
            "top": null,
            "visibility": null,
            "width": null
          }
        },
        "f03a512754fb4105ad881ba482d2c840": {
          "model_module": "@jupyter-widgets/controls",
          "model_name": "ProgressStyleModel",
          "model_module_version": "1.5.0",
          "state": {
            "_model_module": "@jupyter-widgets/controls",
            "_model_module_version": "1.5.0",
            "_model_name": "ProgressStyleModel",
            "_view_count": null,
            "_view_module": "@jupyter-widgets/base",
            "_view_module_version": "1.2.0",
            "_view_name": "StyleView",
            "bar_color": null,
            "description_width": ""
          }
        },
        "e7c90453dc6448a1b2f505876c2016b2": {
          "model_module": "@jupyter-widgets/base",
          "model_name": "LayoutModel",
          "model_module_version": "1.2.0",
          "state": {
            "_model_module": "@jupyter-widgets/base",
            "_model_module_version": "1.2.0",
            "_model_name": "LayoutModel",
            "_view_count": null,
            "_view_module": "@jupyter-widgets/base",
            "_view_module_version": "1.2.0",
            "_view_name": "LayoutView",
            "align_content": null,
            "align_items": null,
            "align_self": null,
            "border": null,
            "bottom": null,
            "display": null,
            "flex": null,
            "flex_flow": null,
            "grid_area": null,
            "grid_auto_columns": null,
            "grid_auto_flow": null,
            "grid_auto_rows": null,
            "grid_column": null,
            "grid_gap": null,
            "grid_row": null,
            "grid_template_areas": null,
            "grid_template_columns": null,
            "grid_template_rows": null,
            "height": null,
            "justify_content": null,
            "justify_items": null,
            "left": null,
            "margin": null,
            "max_height": null,
            "max_width": null,
            "min_height": null,
            "min_width": null,
            "object_fit": null,
            "object_position": null,
            "order": null,
            "overflow": null,
            "overflow_x": null,
            "overflow_y": null,
            "padding": null,
            "right": null,
            "top": null,
            "visibility": null,
            "width": null
          }
        },
        "367ece88adb747b9819b400c138a73fb": {
          "model_module": "@jupyter-widgets/controls",
          "model_name": "DescriptionStyleModel",
          "model_module_version": "1.5.0",
          "state": {
            "_model_module": "@jupyter-widgets/controls",
            "_model_module_version": "1.5.0",
            "_model_name": "DescriptionStyleModel",
            "_view_count": null,
            "_view_module": "@jupyter-widgets/base",
            "_view_module_version": "1.2.0",
            "_view_name": "StyleView",
            "description_width": ""
          }
        },
        "948e00f4f49f46e4853be71ed4df442d": {
          "model_module": "@jupyter-widgets/controls",
          "model_name": "HBoxModel",
          "model_module_version": "1.5.0",
          "state": {
            "_dom_classes": [],
            "_model_module": "@jupyter-widgets/controls",
            "_model_module_version": "1.5.0",
            "_model_name": "HBoxModel",
            "_view_count": null,
            "_view_module": "@jupyter-widgets/controls",
            "_view_module_version": "1.5.0",
            "_view_name": "HBoxView",
            "box_style": "",
            "children": [
              "IPY_MODEL_573c2c12539948fab59e91aea0a93c26",
              "IPY_MODEL_56a7520b3d414c4ebf86c6017b76f399",
              "IPY_MODEL_2172de6798144ee49589155653536863"
            ],
            "layout": "IPY_MODEL_5d0928ac443441b0a8d367c400d510e1"
          }
        },
        "573c2c12539948fab59e91aea0a93c26": {
          "model_module": "@jupyter-widgets/controls",
          "model_name": "HTMLModel",
          "model_module_version": "1.5.0",
          "state": {
            "_dom_classes": [],
            "_model_module": "@jupyter-widgets/controls",
            "_model_module_version": "1.5.0",
            "_model_name": "HTMLModel",
            "_view_count": null,
            "_view_module": "@jupyter-widgets/controls",
            "_view_module_version": "1.5.0",
            "_view_name": "HTMLView",
            "description": "",
            "description_tooltip": null,
            "layout": "IPY_MODEL_c02ceef613864494b7f7c6c2b7792505",
            "placeholder": "​",
            "style": "IPY_MODEL_6d4762d936f6414fbb8489870830f680",
            "value": "Map: 100%"
          }
        },
        "56a7520b3d414c4ebf86c6017b76f399": {
          "model_module": "@jupyter-widgets/controls",
          "model_name": "FloatProgressModel",
          "model_module_version": "1.5.0",
          "state": {
            "_dom_classes": [],
            "_model_module": "@jupyter-widgets/controls",
            "_model_module_version": "1.5.0",
            "_model_name": "FloatProgressModel",
            "_view_count": null,
            "_view_module": "@jupyter-widgets/controls",
            "_view_module_version": "1.5.0",
            "_view_name": "ProgressView",
            "bar_style": "success",
            "description": "",
            "description_tooltip": null,
            "layout": "IPY_MODEL_6bcdc9ad183b4c4595e0c7e93f61c0eb",
            "max": 1600,
            "min": 0,
            "orientation": "horizontal",
            "style": "IPY_MODEL_bd136157fdf341f187e32f7acc0c77f9",
            "value": 1600
          }
        },
        "2172de6798144ee49589155653536863": {
          "model_module": "@jupyter-widgets/controls",
          "model_name": "HTMLModel",
          "model_module_version": "1.5.0",
          "state": {
            "_dom_classes": [],
            "_model_module": "@jupyter-widgets/controls",
            "_model_module_version": "1.5.0",
            "_model_name": "HTMLModel",
            "_view_count": null,
            "_view_module": "@jupyter-widgets/controls",
            "_view_module_version": "1.5.0",
            "_view_name": "HTMLView",
            "description": "",
            "description_tooltip": null,
            "layout": "IPY_MODEL_35df959bd1f24c448f83c1243fb5899f",
            "placeholder": "​",
            "style": "IPY_MODEL_1ed46bfc09bb48d797ea411f6145879b",
            "value": " 1600/1600 [00:09&lt;00:00, 174.37 examples/s]"
          }
        },
        "5d0928ac443441b0a8d367c400d510e1": {
          "model_module": "@jupyter-widgets/base",
          "model_name": "LayoutModel",
          "model_module_version": "1.2.0",
          "state": {
            "_model_module": "@jupyter-widgets/base",
            "_model_module_version": "1.2.0",
            "_model_name": "LayoutModel",
            "_view_count": null,
            "_view_module": "@jupyter-widgets/base",
            "_view_module_version": "1.2.0",
            "_view_name": "LayoutView",
            "align_content": null,
            "align_items": null,
            "align_self": null,
            "border": null,
            "bottom": null,
            "display": null,
            "flex": null,
            "flex_flow": null,
            "grid_area": null,
            "grid_auto_columns": null,
            "grid_auto_flow": null,
            "grid_auto_rows": null,
            "grid_column": null,
            "grid_gap": null,
            "grid_row": null,
            "grid_template_areas": null,
            "grid_template_columns": null,
            "grid_template_rows": null,
            "height": null,
            "justify_content": null,
            "justify_items": null,
            "left": null,
            "margin": null,
            "max_height": null,
            "max_width": null,
            "min_height": null,
            "min_width": null,
            "object_fit": null,
            "object_position": null,
            "order": null,
            "overflow": null,
            "overflow_x": null,
            "overflow_y": null,
            "padding": null,
            "right": null,
            "top": null,
            "visibility": null,
            "width": null
          }
        },
        "c02ceef613864494b7f7c6c2b7792505": {
          "model_module": "@jupyter-widgets/base",
          "model_name": "LayoutModel",
          "model_module_version": "1.2.0",
          "state": {
            "_model_module": "@jupyter-widgets/base",
            "_model_module_version": "1.2.0",
            "_model_name": "LayoutModel",
            "_view_count": null,
            "_view_module": "@jupyter-widgets/base",
            "_view_module_version": "1.2.0",
            "_view_name": "LayoutView",
            "align_content": null,
            "align_items": null,
            "align_self": null,
            "border": null,
            "bottom": null,
            "display": null,
            "flex": null,
            "flex_flow": null,
            "grid_area": null,
            "grid_auto_columns": null,
            "grid_auto_flow": null,
            "grid_auto_rows": null,
            "grid_column": null,
            "grid_gap": null,
            "grid_row": null,
            "grid_template_areas": null,
            "grid_template_columns": null,
            "grid_template_rows": null,
            "height": null,
            "justify_content": null,
            "justify_items": null,
            "left": null,
            "margin": null,
            "max_height": null,
            "max_width": null,
            "min_height": null,
            "min_width": null,
            "object_fit": null,
            "object_position": null,
            "order": null,
            "overflow": null,
            "overflow_x": null,
            "overflow_y": null,
            "padding": null,
            "right": null,
            "top": null,
            "visibility": null,
            "width": null
          }
        },
        "6d4762d936f6414fbb8489870830f680": {
          "model_module": "@jupyter-widgets/controls",
          "model_name": "DescriptionStyleModel",
          "model_module_version": "1.5.0",
          "state": {
            "_model_module": "@jupyter-widgets/controls",
            "_model_module_version": "1.5.0",
            "_model_name": "DescriptionStyleModel",
            "_view_count": null,
            "_view_module": "@jupyter-widgets/base",
            "_view_module_version": "1.2.0",
            "_view_name": "StyleView",
            "description_width": ""
          }
        },
        "6bcdc9ad183b4c4595e0c7e93f61c0eb": {
          "model_module": "@jupyter-widgets/base",
          "model_name": "LayoutModel",
          "model_module_version": "1.2.0",
          "state": {
            "_model_module": "@jupyter-widgets/base",
            "_model_module_version": "1.2.0",
            "_model_name": "LayoutModel",
            "_view_count": null,
            "_view_module": "@jupyter-widgets/base",
            "_view_module_version": "1.2.0",
            "_view_name": "LayoutView",
            "align_content": null,
            "align_items": null,
            "align_self": null,
            "border": null,
            "bottom": null,
            "display": null,
            "flex": null,
            "flex_flow": null,
            "grid_area": null,
            "grid_auto_columns": null,
            "grid_auto_flow": null,
            "grid_auto_rows": null,
            "grid_column": null,
            "grid_gap": null,
            "grid_row": null,
            "grid_template_areas": null,
            "grid_template_columns": null,
            "grid_template_rows": null,
            "height": null,
            "justify_content": null,
            "justify_items": null,
            "left": null,
            "margin": null,
            "max_height": null,
            "max_width": null,
            "min_height": null,
            "min_width": null,
            "object_fit": null,
            "object_position": null,
            "order": null,
            "overflow": null,
            "overflow_x": null,
            "overflow_y": null,
            "padding": null,
            "right": null,
            "top": null,
            "visibility": null,
            "width": null
          }
        },
        "bd136157fdf341f187e32f7acc0c77f9": {
          "model_module": "@jupyter-widgets/controls",
          "model_name": "ProgressStyleModel",
          "model_module_version": "1.5.0",
          "state": {
            "_model_module": "@jupyter-widgets/controls",
            "_model_module_version": "1.5.0",
            "_model_name": "ProgressStyleModel",
            "_view_count": null,
            "_view_module": "@jupyter-widgets/base",
            "_view_module_version": "1.2.0",
            "_view_name": "StyleView",
            "bar_color": null,
            "description_width": ""
          }
        },
        "35df959bd1f24c448f83c1243fb5899f": {
          "model_module": "@jupyter-widgets/base",
          "model_name": "LayoutModel",
          "model_module_version": "1.2.0",
          "state": {
            "_model_module": "@jupyter-widgets/base",
            "_model_module_version": "1.2.0",
            "_model_name": "LayoutModel",
            "_view_count": null,
            "_view_module": "@jupyter-widgets/base",
            "_view_module_version": "1.2.0",
            "_view_name": "LayoutView",
            "align_content": null,
            "align_items": null,
            "align_self": null,
            "border": null,
            "bottom": null,
            "display": null,
            "flex": null,
            "flex_flow": null,
            "grid_area": null,
            "grid_auto_columns": null,
            "grid_auto_flow": null,
            "grid_auto_rows": null,
            "grid_column": null,
            "grid_gap": null,
            "grid_row": null,
            "grid_template_areas": null,
            "grid_template_columns": null,
            "grid_template_rows": null,
            "height": null,
            "justify_content": null,
            "justify_items": null,
            "left": null,
            "margin": null,
            "max_height": null,
            "max_width": null,
            "min_height": null,
            "min_width": null,
            "object_fit": null,
            "object_position": null,
            "order": null,
            "overflow": null,
            "overflow_x": null,
            "overflow_y": null,
            "padding": null,
            "right": null,
            "top": null,
            "visibility": null,
            "width": null
          }
        },
        "1ed46bfc09bb48d797ea411f6145879b": {
          "model_module": "@jupyter-widgets/controls",
          "model_name": "DescriptionStyleModel",
          "model_module_version": "1.5.0",
          "state": {
            "_model_module": "@jupyter-widgets/controls",
            "_model_module_version": "1.5.0",
            "_model_name": "DescriptionStyleModel",
            "_view_count": null,
            "_view_module": "@jupyter-widgets/base",
            "_view_module_version": "1.2.0",
            "_view_name": "StyleView",
            "description_width": ""
          }
        },
        "eb5e920458af479c8560b61e9caca2ce": {
          "model_module": "@jupyter-widgets/controls",
          "model_name": "HBoxModel",
          "model_module_version": "1.5.0",
          "state": {
            "_dom_classes": [],
            "_model_module": "@jupyter-widgets/controls",
            "_model_module_version": "1.5.0",
            "_model_name": "HBoxModel",
            "_view_count": null,
            "_view_module": "@jupyter-widgets/controls",
            "_view_module_version": "1.5.0",
            "_view_name": "HBoxView",
            "box_style": "",
            "children": [
              "IPY_MODEL_acda5469b0c04cafbaf1015f9578e04b",
              "IPY_MODEL_a95ab99654e5474cb0ac8824b199d651",
              "IPY_MODEL_04ff8de9e878424ba6df42b9fb96a1b2"
            ],
            "layout": "IPY_MODEL_b3c9d16b0b3a4c0fb45d93dfee1afe33"
          }
        },
        "acda5469b0c04cafbaf1015f9578e04b": {
          "model_module": "@jupyter-widgets/controls",
          "model_name": "HTMLModel",
          "model_module_version": "1.5.0",
          "state": {
            "_dom_classes": [],
            "_model_module": "@jupyter-widgets/controls",
            "_model_module_version": "1.5.0",
            "_model_name": "HTMLModel",
            "_view_count": null,
            "_view_module": "@jupyter-widgets/controls",
            "_view_module_version": "1.5.0",
            "_view_name": "HTMLView",
            "description": "",
            "description_tooltip": null,
            "layout": "IPY_MODEL_fd103aa71bee454a8abd0f98d9af0496",
            "placeholder": "​",
            "style": "IPY_MODEL_6f8a9ab10a92475e8400dc6ed8368c2c",
            "value": "Map: 100%"
          }
        },
        "a95ab99654e5474cb0ac8824b199d651": {
          "model_module": "@jupyter-widgets/controls",
          "model_name": "FloatProgressModel",
          "model_module_version": "1.5.0",
          "state": {
            "_dom_classes": [],
            "_model_module": "@jupyter-widgets/controls",
            "_model_module_version": "1.5.0",
            "_model_name": "FloatProgressModel",
            "_view_count": null,
            "_view_module": "@jupyter-widgets/controls",
            "_view_module_version": "1.5.0",
            "_view_name": "ProgressView",
            "bar_style": "success",
            "description": "",
            "description_tooltip": null,
            "layout": "IPY_MODEL_1505d67da403468e8568bee02750f98d",
            "max": 401,
            "min": 0,
            "orientation": "horizontal",
            "style": "IPY_MODEL_d5290b089a0946c3b5b81c232a6e2d12",
            "value": 401
          }
        },
        "04ff8de9e878424ba6df42b9fb96a1b2": {
          "model_module": "@jupyter-widgets/controls",
          "model_name": "HTMLModel",
          "model_module_version": "1.5.0",
          "state": {
            "_dom_classes": [],
            "_model_module": "@jupyter-widgets/controls",
            "_model_module_version": "1.5.0",
            "_model_name": "HTMLModel",
            "_view_count": null,
            "_view_module": "@jupyter-widgets/controls",
            "_view_module_version": "1.5.0",
            "_view_name": "HTMLView",
            "description": "",
            "description_tooltip": null,
            "layout": "IPY_MODEL_7c2f937eaffd4a8185146540cbb24b5a",
            "placeholder": "​",
            "style": "IPY_MODEL_8afd21c3fab849c18fda10c5c664afc0",
            "value": " 401/401 [00:01&lt;00:00, 218.75 examples/s]"
          }
        },
        "b3c9d16b0b3a4c0fb45d93dfee1afe33": {
          "model_module": "@jupyter-widgets/base",
          "model_name": "LayoutModel",
          "model_module_version": "1.2.0",
          "state": {
            "_model_module": "@jupyter-widgets/base",
            "_model_module_version": "1.2.0",
            "_model_name": "LayoutModel",
            "_view_count": null,
            "_view_module": "@jupyter-widgets/base",
            "_view_module_version": "1.2.0",
            "_view_name": "LayoutView",
            "align_content": null,
            "align_items": null,
            "align_self": null,
            "border": null,
            "bottom": null,
            "display": null,
            "flex": null,
            "flex_flow": null,
            "grid_area": null,
            "grid_auto_columns": null,
            "grid_auto_flow": null,
            "grid_auto_rows": null,
            "grid_column": null,
            "grid_gap": null,
            "grid_row": null,
            "grid_template_areas": null,
            "grid_template_columns": null,
            "grid_template_rows": null,
            "height": null,
            "justify_content": null,
            "justify_items": null,
            "left": null,
            "margin": null,
            "max_height": null,
            "max_width": null,
            "min_height": null,
            "min_width": null,
            "object_fit": null,
            "object_position": null,
            "order": null,
            "overflow": null,
            "overflow_x": null,
            "overflow_y": null,
            "padding": null,
            "right": null,
            "top": null,
            "visibility": null,
            "width": null
          }
        },
        "fd103aa71bee454a8abd0f98d9af0496": {
          "model_module": "@jupyter-widgets/base",
          "model_name": "LayoutModel",
          "model_module_version": "1.2.0",
          "state": {
            "_model_module": "@jupyter-widgets/base",
            "_model_module_version": "1.2.0",
            "_model_name": "LayoutModel",
            "_view_count": null,
            "_view_module": "@jupyter-widgets/base",
            "_view_module_version": "1.2.0",
            "_view_name": "LayoutView",
            "align_content": null,
            "align_items": null,
            "align_self": null,
            "border": null,
            "bottom": null,
            "display": null,
            "flex": null,
            "flex_flow": null,
            "grid_area": null,
            "grid_auto_columns": null,
            "grid_auto_flow": null,
            "grid_auto_rows": null,
            "grid_column": null,
            "grid_gap": null,
            "grid_row": null,
            "grid_template_areas": null,
            "grid_template_columns": null,
            "grid_template_rows": null,
            "height": null,
            "justify_content": null,
            "justify_items": null,
            "left": null,
            "margin": null,
            "max_height": null,
            "max_width": null,
            "min_height": null,
            "min_width": null,
            "object_fit": null,
            "object_position": null,
            "order": null,
            "overflow": null,
            "overflow_x": null,
            "overflow_y": null,
            "padding": null,
            "right": null,
            "top": null,
            "visibility": null,
            "width": null
          }
        },
        "6f8a9ab10a92475e8400dc6ed8368c2c": {
          "model_module": "@jupyter-widgets/controls",
          "model_name": "DescriptionStyleModel",
          "model_module_version": "1.5.0",
          "state": {
            "_model_module": "@jupyter-widgets/controls",
            "_model_module_version": "1.5.0",
            "_model_name": "DescriptionStyleModel",
            "_view_count": null,
            "_view_module": "@jupyter-widgets/base",
            "_view_module_version": "1.2.0",
            "_view_name": "StyleView",
            "description_width": ""
          }
        },
        "1505d67da403468e8568bee02750f98d": {
          "model_module": "@jupyter-widgets/base",
          "model_name": "LayoutModel",
          "model_module_version": "1.2.0",
          "state": {
            "_model_module": "@jupyter-widgets/base",
            "_model_module_version": "1.2.0",
            "_model_name": "LayoutModel",
            "_view_count": null,
            "_view_module": "@jupyter-widgets/base",
            "_view_module_version": "1.2.0",
            "_view_name": "LayoutView",
            "align_content": null,
            "align_items": null,
            "align_self": null,
            "border": null,
            "bottom": null,
            "display": null,
            "flex": null,
            "flex_flow": null,
            "grid_area": null,
            "grid_auto_columns": null,
            "grid_auto_flow": null,
            "grid_auto_rows": null,
            "grid_column": null,
            "grid_gap": null,
            "grid_row": null,
            "grid_template_areas": null,
            "grid_template_columns": null,
            "grid_template_rows": null,
            "height": null,
            "justify_content": null,
            "justify_items": null,
            "left": null,
            "margin": null,
            "max_height": null,
            "max_width": null,
            "min_height": null,
            "min_width": null,
            "object_fit": null,
            "object_position": null,
            "order": null,
            "overflow": null,
            "overflow_x": null,
            "overflow_y": null,
            "padding": null,
            "right": null,
            "top": null,
            "visibility": null,
            "width": null
          }
        },
        "d5290b089a0946c3b5b81c232a6e2d12": {
          "model_module": "@jupyter-widgets/controls",
          "model_name": "ProgressStyleModel",
          "model_module_version": "1.5.0",
          "state": {
            "_model_module": "@jupyter-widgets/controls",
            "_model_module_version": "1.5.0",
            "_model_name": "ProgressStyleModel",
            "_view_count": null,
            "_view_module": "@jupyter-widgets/base",
            "_view_module_version": "1.2.0",
            "_view_name": "StyleView",
            "bar_color": null,
            "description_width": ""
          }
        },
        "7c2f937eaffd4a8185146540cbb24b5a": {
          "model_module": "@jupyter-widgets/base",
          "model_name": "LayoutModel",
          "model_module_version": "1.2.0",
          "state": {
            "_model_module": "@jupyter-widgets/base",
            "_model_module_version": "1.2.0",
            "_model_name": "LayoutModel",
            "_view_count": null,
            "_view_module": "@jupyter-widgets/base",
            "_view_module_version": "1.2.0",
            "_view_name": "LayoutView",
            "align_content": null,
            "align_items": null,
            "align_self": null,
            "border": null,
            "bottom": null,
            "display": null,
            "flex": null,
            "flex_flow": null,
            "grid_area": null,
            "grid_auto_columns": null,
            "grid_auto_flow": null,
            "grid_auto_rows": null,
            "grid_column": null,
            "grid_gap": null,
            "grid_row": null,
            "grid_template_areas": null,
            "grid_template_columns": null,
            "grid_template_rows": null,
            "height": null,
            "justify_content": null,
            "justify_items": null,
            "left": null,
            "margin": null,
            "max_height": null,
            "max_width": null,
            "min_height": null,
            "min_width": null,
            "object_fit": null,
            "object_position": null,
            "order": null,
            "overflow": null,
            "overflow_x": null,
            "overflow_y": null,
            "padding": null,
            "right": null,
            "top": null,
            "visibility": null,
            "width": null
          }
        },
        "8afd21c3fab849c18fda10c5c664afc0": {
          "model_module": "@jupyter-widgets/controls",
          "model_name": "DescriptionStyleModel",
          "model_module_version": "1.5.0",
          "state": {
            "_model_module": "@jupyter-widgets/controls",
            "_model_module_version": "1.5.0",
            "_model_name": "DescriptionStyleModel",
            "_view_count": null,
            "_view_module": "@jupyter-widgets/base",
            "_view_module_version": "1.2.0",
            "_view_name": "StyleView",
            "description_width": ""
          }
        }
      }
    }
  },
  "cells": [
    {
      "cell_type": "markdown",
      "source": [
        "## Load Required Packages & Tools..."
      ],
      "metadata": {
        "id": "mDCvBAmb9_Hq"
      }
    },
    {
      "cell_type": "code",
      "execution_count": null,
      "metadata": {
        "id": "KDrIl73192P6"
      },
      "outputs": [],
      "source": [
        "import nltk\n",
        "import pandas as pd\n",
        "import seaborn as sns\n",
        "import numpy as np\n",
        "import matplotlib.pyplot as plt\n",
        "import statistics\n",
        "import json\n",
        "import pickle\n",
        "from sklearn.svm import SVC\n",
        "from sklearn.metrics import accuracy_score, classification_report, confusion_matrix, roc_curve, roc_auc_score, precision_recall_curve, auc\n",
        "\n",
        "work_dir = '/content/drive/MyDrive/BMI_6330-Natural_Language_Processing/ml_model/'\n",
        "out_dir = '/content/drive/MyDrive/BMI_6330-Natural_Language_Processing/heuristic_model/output_data/'"
      ]
    },
    {
      "cell_type": "markdown",
      "source": [
        "## Read in Training & Test Datasets..."
      ],
      "metadata": {
        "id": "qScyEIJq-LG8"
      }
    },
    {
      "cell_type": "code",
      "source": [
        "from google.colab import drive\n",
        "drive.mount('/content/drive')\n",
        "\n",
        "wdir = '/content/drive/MyDrive/BMI_6330-Natural_Language_Processing'\n",
        "\n",
        "train = pd.read_csv(wdir+\"/TRAIN.csv\")\n",
        "test = pd.read_csv(wdir+\"/TEST.csv\")\n",
        "\n",
        "train.drop(labels=\"Unnamed: 0\",axis=1, inplace=True)\n",
        "test.drop(labels=\"Unnamed: 0\",axis=1, inplace=True)\n",
        "\n",
        "print('Number of Posts in Training Set: ' + str(len(train)) + \" + Number of Posts in Test Set: \" + str(len(test)))"
      ],
      "metadata": {
        "colab": {
          "base_uri": "https://localhost:8080/"
        },
        "id": "Cqj_dQyF-MIl",
        "outputId": "c01d0a93-98fc-4325-c48c-13b7b8d82fc8"
      },
      "execution_count": null,
      "outputs": [
        {
          "output_type": "stream",
          "name": "stdout",
          "text": [
            "Mounted at /content/drive\n",
            "Number of Posts in Training Set: 1600 + Number of Posts in Test Set: 401\n"
          ]
        }
      ]
    },
    {
      "cell_type": "markdown",
      "source": [
        "## Format Data, Allign Classes with Entitites & Tokenize\n",
        "\n",
        "*   Create a dataset object out of the training and test data\n",
        "*   First, tokenize all posts into corresponding word pieces (these are given by coordinates where wordpiece1 goes from 0-3 in terms of position and is written as (0,3).\n",
        "*   For each word piece (e.g (0,3) (3,6)...ect) determine if it is an entity or if it is just an unlabeled span of text\n",
        "*   If the word piece is part of an entity, label it with the corresponding entity id (e.g no entity = 25 while ADHD = 0 and so on)\n",
        "*   Returns the id associated with EACH word piece tokens (e.g if a post has 3 word piece tokens [(0,3),(3,6),(6,8)] then the function would determine which of them are part of a word piece: [25, 0, 25])"
      ],
      "metadata": {
        "id": "7XSF3We3-Yyc"
      }
    },
    {
      "cell_type": "code",
      "source": [
        "!pip install datasets"
      ],
      "metadata": {
        "id": "6vjnIje3_Gq_",
        "colab": {
          "base_uri": "https://localhost:8080/"
        },
        "outputId": "9d472750-802d-4380-f6a6-3859e9b24bcc"
      },
      "execution_count": null,
      "outputs": [
        {
          "output_type": "stream",
          "name": "stdout",
          "text": [
            "Collecting datasets\n",
            "  Downloading datasets-2.18.0-py3-none-any.whl (510 kB)\n",
            "\u001b[2K     \u001b[90m━━━━━━━━━━━━━━━━━━━━━━━━━━━━━━━━━━━━━━━━\u001b[0m \u001b[32m510.5/510.5 kB\u001b[0m \u001b[31m4.0 MB/s\u001b[0m eta \u001b[36m0:00:00\u001b[0m\n",
            "\u001b[?25hRequirement already satisfied: filelock in /usr/local/lib/python3.10/dist-packages (from datasets) (3.13.3)\n",
            "Requirement already satisfied: numpy>=1.17 in /usr/local/lib/python3.10/dist-packages (from datasets) (1.25.2)\n",
            "Requirement already satisfied: pyarrow>=12.0.0 in /usr/local/lib/python3.10/dist-packages (from datasets) (14.0.2)\n",
            "Requirement already satisfied: pyarrow-hotfix in /usr/local/lib/python3.10/dist-packages (from datasets) (0.6)\n",
            "Collecting dill<0.3.9,>=0.3.0 (from datasets)\n",
            "  Downloading dill-0.3.8-py3-none-any.whl (116 kB)\n",
            "\u001b[2K     \u001b[90m━━━━━━━━━━━━━━━━━━━━━━━━━━━━━━━━━━━━━━━━\u001b[0m \u001b[32m116.3/116.3 kB\u001b[0m \u001b[31m5.4 MB/s\u001b[0m eta \u001b[36m0:00:00\u001b[0m\n",
            "\u001b[?25hRequirement already satisfied: pandas in /usr/local/lib/python3.10/dist-packages (from datasets) (1.5.3)\n",
            "Requirement already satisfied: requests>=2.19.0 in /usr/local/lib/python3.10/dist-packages (from datasets) (2.31.0)\n",
            "Requirement already satisfied: tqdm>=4.62.1 in /usr/local/lib/python3.10/dist-packages (from datasets) (4.66.2)\n",
            "Collecting xxhash (from datasets)\n",
            "  Downloading xxhash-3.4.1-cp310-cp310-manylinux_2_17_x86_64.manylinux2014_x86_64.whl (194 kB)\n",
            "\u001b[2K     \u001b[90m━━━━━━━━━━━━━━━━━━━━━━━━━━━━━━━━━━━━━━━━\u001b[0m \u001b[32m194.1/194.1 kB\u001b[0m \u001b[31m5.9 MB/s\u001b[0m eta \u001b[36m0:00:00\u001b[0m\n",
            "\u001b[?25hCollecting multiprocess (from datasets)\n",
            "  Downloading multiprocess-0.70.16-py310-none-any.whl (134 kB)\n",
            "\u001b[2K     \u001b[90m━━━━━━━━━━━━━━━━━━━━━━━━━━━━━━━━━━━━━━━━\u001b[0m \u001b[32m134.8/134.8 kB\u001b[0m \u001b[31m5.1 MB/s\u001b[0m eta \u001b[36m0:00:00\u001b[0m\n",
            "\u001b[?25hRequirement already satisfied: fsspec[http]<=2024.2.0,>=2023.1.0 in /usr/local/lib/python3.10/dist-packages (from datasets) (2023.6.0)\n",
            "Requirement already satisfied: aiohttp in /usr/local/lib/python3.10/dist-packages (from datasets) (3.9.3)\n",
            "Requirement already satisfied: huggingface-hub>=0.19.4 in /usr/local/lib/python3.10/dist-packages (from datasets) (0.20.3)\n",
            "Requirement already satisfied: packaging in /usr/local/lib/python3.10/dist-packages (from datasets) (24.0)\n",
            "Requirement already satisfied: pyyaml>=5.1 in /usr/local/lib/python3.10/dist-packages (from datasets) (6.0.1)\n",
            "Requirement already satisfied: aiosignal>=1.1.2 in /usr/local/lib/python3.10/dist-packages (from aiohttp->datasets) (1.3.1)\n",
            "Requirement already satisfied: attrs>=17.3.0 in /usr/local/lib/python3.10/dist-packages (from aiohttp->datasets) (23.2.0)\n",
            "Requirement already satisfied: frozenlist>=1.1.1 in /usr/local/lib/python3.10/dist-packages (from aiohttp->datasets) (1.4.1)\n",
            "Requirement already satisfied: multidict<7.0,>=4.5 in /usr/local/lib/python3.10/dist-packages (from aiohttp->datasets) (6.0.5)\n",
            "Requirement already satisfied: yarl<2.0,>=1.0 in /usr/local/lib/python3.10/dist-packages (from aiohttp->datasets) (1.9.4)\n",
            "Requirement already satisfied: async-timeout<5.0,>=4.0 in /usr/local/lib/python3.10/dist-packages (from aiohttp->datasets) (4.0.3)\n",
            "Requirement already satisfied: typing-extensions>=3.7.4.3 in /usr/local/lib/python3.10/dist-packages (from huggingface-hub>=0.19.4->datasets) (4.10.0)\n",
            "Requirement already satisfied: charset-normalizer<4,>=2 in /usr/local/lib/python3.10/dist-packages (from requests>=2.19.0->datasets) (3.3.2)\n",
            "Requirement already satisfied: idna<4,>=2.5 in /usr/local/lib/python3.10/dist-packages (from requests>=2.19.0->datasets) (3.6)\n",
            "Requirement already satisfied: urllib3<3,>=1.21.1 in /usr/local/lib/python3.10/dist-packages (from requests>=2.19.0->datasets) (2.0.7)\n",
            "Requirement already satisfied: certifi>=2017.4.17 in /usr/local/lib/python3.10/dist-packages (from requests>=2.19.0->datasets) (2024.2.2)\n",
            "Requirement already satisfied: python-dateutil>=2.8.1 in /usr/local/lib/python3.10/dist-packages (from pandas->datasets) (2.8.2)\n",
            "Requirement already satisfied: pytz>=2020.1 in /usr/local/lib/python3.10/dist-packages (from pandas->datasets) (2023.4)\n",
            "Requirement already satisfied: six>=1.5 in /usr/local/lib/python3.10/dist-packages (from python-dateutil>=2.8.1->pandas->datasets) (1.16.0)\n",
            "Installing collected packages: xxhash, dill, multiprocess, datasets\n",
            "Successfully installed datasets-2.18.0 dill-0.3.8 multiprocess-0.70.16 xxhash-3.4.1\n"
          ]
        }
      ]
    },
    {
      "cell_type": "code",
      "source": [
        "import datasets\n",
        "from datasets import Dataset, DatasetDict\n",
        "\n",
        "ds_train = Dataset.from_pandas(train)\n",
        "ds_test = Dataset.from_pandas(test)\n",
        "\n",
        "ds = DatasetDict()\n",
        "\n",
        "ds['train'] = ds_train\n",
        "ds['test'] = ds_test\n",
        "\n",
        "dataset = ds\n",
        "dataset"
      ],
      "metadata": {
        "colab": {
          "base_uri": "https://localhost:8080/"
        },
        "id": "km427a35_EW6",
        "outputId": "8b5f3560-9c0d-46b6-b873-aea606695f41"
      },
      "execution_count": null,
      "outputs": [
        {
          "output_type": "execute_result",
          "data": {
            "text/plain": [
              "DatasetDict({\n",
              "    train: Dataset({\n",
              "        features: ['ID', 'text', 'Non_Medical_Use', 'Withdrawl', 'Tolerance', 'Entities', 'Class', 'Start', 'End'],\n",
              "        num_rows: 1600\n",
              "    })\n",
              "    test: Dataset({\n",
              "        features: ['ID', 'text', 'Non_Medical_Use', 'Withdrawl', 'Tolerance', 'Entities', 'Class', 'Start', 'End'],\n",
              "        num_rows: 401\n",
              "    })\n",
              "})"
            ]
          },
          "metadata": {},
          "execution_count": 4
        }
      ]
    },
    {
      "cell_type": "code",
      "source": [
        "general_classes_to_id = {'Prescription_Stimulants': 0, 'Perscription_Medications': 1, 'OTCs': 2,\n",
        "                         'Substances': 3, 'Anxiety': 4, 'Depression': 5, 'ADHD': 6, 'Other_Diagnoses': 7, 'WILD': 8}\n",
        "\n",
        "N_LABELS = len(general_classes_to_id)\n",
        "\n",
        "classes_to_id = {\n",
        "    'ADHD': 6,'Adderall': 0,'Anxiety': 4,'Caffeine': 3,'Vyvanse': 0,'Nicotine': 3,'Depression': 5,\n",
        "    'Anti-Depressants': 1,'Eating_Disorder': 7,'Alcohol': 3,'OCD': 7,'Sleeping_Pills': 2,\n",
        "    'Benzodiazepines': 1,'Antacids': 2,'Dexedrine': 0,'Focalin': 0,'Supplements': 2,\n",
        "    'Bipolar': 7,'Ritalin': 0,'Concerta': 0,'Marijuana': 3,'Narcolepsy': 7,\n",
        "    'Antipsychotic': 1,'Modafinil': 0,'WILD': 8, 'Prescription_Stimulants': 0}"
      ],
      "metadata": {
        "id": "IkPgzevW-Zy1"
      },
      "execution_count": null,
      "outputs": []
    },
    {
      "cell_type": "code",
      "source": [
        "id_to_classes = {v: k for k, v in general_classes_to_id.items()}\n",
        "id_to_classes"
      ],
      "metadata": {
        "colab": {
          "base_uri": "https://localhost:8080/"
        },
        "id": "007OYzEwwzoy",
        "outputId": "9945dd5b-45c0-45d0-ff52-c25b61a592eb"
      },
      "execution_count": null,
      "outputs": [
        {
          "output_type": "execute_result",
          "data": {
            "text/plain": [
              "{0: 'Prescription_Stimulants',\n",
              " 1: 'Perscription_Medications',\n",
              " 2: 'OTCs',\n",
              " 3: 'Substances',\n",
              " 4: 'Anxiety',\n",
              " 5: 'Depression',\n",
              " 6: 'ADHD',\n",
              " 7: 'Other_Diagnoses',\n",
              " 8: 'WILD'}"
            ]
          },
          "metadata": {},
          "execution_count": 6
        }
      ]
    },
    {
      "cell_type": "markdown",
      "source": [
        "*   res['input_ids'][0] = the list of all integer values corresponding to the tokens in that given post (e.g [4,5,3,2] in ['hi', 'i', ''ve', 'changed'])\n",
        "*   res['overflow_to_sample_mapping'] = gives the id of the original sentence (where the token belongs in the collection of documents if there are multiple sentences)\n",
        "*   res['offset_mapping'][0] = the start and end position for a given token"
      ],
      "metadata": {
        "id": "8Z1UxipV-qJc"
      }
    },
    {
      "cell_type": "code",
      "source": [
        "model_ckpt = 'allenai/longformer-base-4096'\n",
        "from transformers import AutoTokenizer\n",
        "tokenizer = AutoTokenizer.from_pretrained(model_ckpt)\n",
        "\n",
        "MAX_LENGTH = 1024\n",
        "import ast\n",
        "def labeling_tokens(sample):\n",
        "  res = tokenizer(sample['text'], padding=True, return_offsets_mapping=True, truncation=True, max_length=MAX_LENGTH, return_overflowing_tokens=True)\n",
        "\n",
        "  sample_mapping = res['overflow_to_sample_mapping']\n",
        "\n",
        "  # maps each token to the chars in the string\n",
        "  offset_mapping = res['offset_mapping']\n",
        "\n",
        "  res[\"labels\"] = []\n",
        "\n",
        "  #print(sample_mapping)\n",
        "  for i in range(len(offset_mapping)):\n",
        "    s_index = sample_mapping[i]\n",
        "    # Initialize labels array with WILD (ie no entity)\n",
        "    labels = [classes_to_id[\"WILD\"] for k in range(len(res['input_ids'][i]))] # number of tokens\n",
        "\n",
        "    # label_start=start position of a given labeled entity (eg 499)\n",
        "    # label_end=end position of a given labeled entity (eg 503)\n",
        "    # label=name of the given entity (eg ADHD)\n",
        "    # loops through each entity contained in the post...\n",
        "\n",
        "    for label_start, label_end, label in list(zip(ast.literal_eval(sample['Start'][s_index]), ast.literal_eval(sample['End'][s_index]), ast.literal_eval(sample['Class'][s_index]))):\n",
        "\n",
        "      for j in range(len(labels)):\n",
        "        token_start = offset_mapping[i][j][0]\n",
        "        token_end = offset_mapping[i][j][1]\n",
        "\n",
        "        if token_start == label_start:\n",
        "          labels[j] = classes_to_id[label]\n",
        "        if int(token_start) > int(label_start) and int(token_end) <= int(label_end):\n",
        "          labels[j] = classes_to_id[label]\n",
        "\n",
        "    res['labels'].append(labels)\n",
        "\n",
        "  return res"
      ],
      "metadata": {
        "colab": {
          "base_uri": "https://localhost:8080/",
          "height": 298,
          "referenced_widgets": [
            "dba465f7710e464cbb892eb3cca41d35",
            "cd7b394e425e47f299bc74cee158438f",
            "81b6c4d88f97469eb0d8d62f6be119af",
            "fe02e477c95f46528bd907dccefd0ba3",
            "85de38545ecb40849da6989d9647e120",
            "afe262fa47f94902ae033b1533e7fa7f",
            "5de16e86608446d8b75cda61d8ec5cfd",
            "b028f455bf1442f1891cc7ef71536f4a",
            "3216b47cc6de4b159619be43fa78cfed",
            "555852601bf940e084315d6d79a8f63f",
            "bb06beac0f6f4fd4b948b62a6a334939",
            "9942fae8fa9448a593a4a72555435256",
            "ec91f9c4dba24c39b95797b0d5492049",
            "25381068e7534b2999f9e2ebdffbdd28",
            "c14960284d8440a9b89a4bd5e9d8d1ff",
            "0cda96d336fc4ce79632e665095c5cd7",
            "30467be74f7544f096cc1cd022145813",
            "4233b838ac7b447fa9f26c45b2d4bcc4",
            "117139b7d896424eba857b507d902c10",
            "f9df1a4609f84a1b86ffc871bb3cd453",
            "6368de6ad17c451ebe9a08810c0587cb",
            "88ebe89ee7e949238af2225a88aeb142",
            "7a804fef00ba4f9085791724aef29fa1",
            "513d2f5691034e31b55ea92fb67fecf6",
            "1f5e9323ce23440690c509495d717b35",
            "84ae0e560bd9422fa594307a9384e78a",
            "1a13e43aa2034d3fb2f75b59c9cf38b0",
            "c87c59b616da4e5ca17378578a5dfc42",
            "16f8b1702d7641c483b77a407c345879",
            "1be29642d3a04e34839d7427b5590c1f",
            "c46e8f342469456e83505dce5c5bccc3",
            "b4289cef7c2b4db89f06ff29ea8607d3",
            "323f9620b1af447f823a63d645ad5a6a",
            "41e3ac359b734b5c8b7958a6a4733bd6",
            "bb8841102c674db18aaf2971022b100d",
            "1c6d85f2269a449d988737e48177ff90",
            "f0435c3a34ef48459536543f721358d9",
            "8f238f50a0ad4bc6b3bf9bab93524267",
            "0ab57418c6a5488597244c44de8a3b4d",
            "94a13009201047fc99cb0536539b6127",
            "f1211fb8bb9e40828585d72e18e01470",
            "f03a512754fb4105ad881ba482d2c840",
            "e7c90453dc6448a1b2f505876c2016b2",
            "367ece88adb747b9819b400c138a73fb"
          ]
        },
        "id": "5PY85hjr-eUE",
        "outputId": "efcdfbe2-d62a-4e63-e4eb-eea6c93261e3"
      },
      "execution_count": null,
      "outputs": [
        {
          "output_type": "stream",
          "name": "stderr",
          "text": [
            "/usr/local/lib/python3.10/dist-packages/huggingface_hub/utils/_token.py:88: UserWarning: \n",
            "The secret `HF_TOKEN` does not exist in your Colab secrets.\n",
            "To authenticate with the Hugging Face Hub, create a token in your settings tab (https://huggingface.co/settings/tokens), set it as secret in your Google Colab and restart your session.\n",
            "You will be able to reuse this secret in all of your notebooks.\n",
            "Please note that authentication is recommended but still optional to access public models or datasets.\n",
            "  warnings.warn(\n"
          ]
        },
        {
          "output_type": "display_data",
          "data": {
            "text/plain": [
              "config.json:   0%|          | 0.00/694 [00:00<?, ?B/s]"
            ],
            "application/vnd.jupyter.widget-view+json": {
              "version_major": 2,
              "version_minor": 0,
              "model_id": "dba465f7710e464cbb892eb3cca41d35"
            }
          },
          "metadata": {}
        },
        {
          "output_type": "display_data",
          "data": {
            "text/plain": [
              "vocab.json:   0%|          | 0.00/899k [00:00<?, ?B/s]"
            ],
            "application/vnd.jupyter.widget-view+json": {
              "version_major": 2,
              "version_minor": 0,
              "model_id": "9942fae8fa9448a593a4a72555435256"
            }
          },
          "metadata": {}
        },
        {
          "output_type": "display_data",
          "data": {
            "text/plain": [
              "merges.txt:   0%|          | 0.00/456k [00:00<?, ?B/s]"
            ],
            "application/vnd.jupyter.widget-view+json": {
              "version_major": 2,
              "version_minor": 0,
              "model_id": "7a804fef00ba4f9085791724aef29fa1"
            }
          },
          "metadata": {}
        },
        {
          "output_type": "display_data",
          "data": {
            "text/plain": [
              "tokenizer.json:   0%|          | 0.00/1.36M [00:00<?, ?B/s]"
            ],
            "application/vnd.jupyter.widget-view+json": {
              "version_major": 2,
              "version_minor": 0,
              "model_id": "41e3ac359b734b5c8b7958a6a4733bd6"
            }
          },
          "metadata": {}
        }
      ]
    },
    {
      "cell_type": "code",
      "source": [
        "tokenized_dataset = dataset.map(labeling_tokens, batched=True, batch_size=10000, remove_columns=dataset['train'].column_names)\n",
        "# tokenized_dataset['train']['labels'][1] # test to see if the above call worked (most numbers should be 25 but a few should be labeled with a different id to indicte an entity"
      ],
      "metadata": {
        "colab": {
          "base_uri": "https://localhost:8080/",
          "height": 102,
          "referenced_widgets": [
            "948e00f4f49f46e4853be71ed4df442d",
            "573c2c12539948fab59e91aea0a93c26",
            "56a7520b3d414c4ebf86c6017b76f399",
            "2172de6798144ee49589155653536863",
            "5d0928ac443441b0a8d367c400d510e1",
            "c02ceef613864494b7f7c6c2b7792505",
            "6d4762d936f6414fbb8489870830f680",
            "6bcdc9ad183b4c4595e0c7e93f61c0eb",
            "bd136157fdf341f187e32f7acc0c77f9",
            "35df959bd1f24c448f83c1243fb5899f",
            "1ed46bfc09bb48d797ea411f6145879b",
            "eb5e920458af479c8560b61e9caca2ce",
            "acda5469b0c04cafbaf1015f9578e04b",
            "a95ab99654e5474cb0ac8824b199d651",
            "04ff8de9e878424ba6df42b9fb96a1b2",
            "b3c9d16b0b3a4c0fb45d93dfee1afe33",
            "fd103aa71bee454a8abd0f98d9af0496",
            "6f8a9ab10a92475e8400dc6ed8368c2c",
            "1505d67da403468e8568bee02750f98d",
            "d5290b089a0946c3b5b81c232a6e2d12",
            "7c2f937eaffd4a8185146540cbb24b5a",
            "8afd21c3fab849c18fda10c5c664afc0"
          ]
        },
        "id": "Rwy_2HqM-uSN",
        "outputId": "7a214394-0e58-4ea5-89b0-9df8b1bcd851"
      },
      "execution_count": null,
      "outputs": [
        {
          "output_type": "display_data",
          "data": {
            "text/plain": [
              "Map:   0%|          | 0/1600 [00:00<?, ? examples/s]"
            ],
            "application/vnd.jupyter.widget-view+json": {
              "version_major": 2,
              "version_minor": 0,
              "model_id": "948e00f4f49f46e4853be71ed4df442d"
            }
          },
          "metadata": {}
        },
        {
          "output_type": "display_data",
          "data": {
            "text/plain": [
              "Map:   0%|          | 0/401 [00:00<?, ? examples/s]"
            ],
            "application/vnd.jupyter.widget-view+json": {
              "version_major": 2,
              "version_minor": 0,
              "model_id": "eb5e920458af479c8560b61e9caca2ce"
            }
          },
          "metadata": {}
        }
      ]
    },
    {
      "cell_type": "markdown",
      "source": [
        "## Create SVM Model"
      ],
      "metadata": {
        "id": "qDw7JrFc_fUj"
      }
    },
    {
      "cell_type": "markdown",
      "source": [
        "First, read in the tokens associated with each entity and combine them all together to get the total number of unique tokens associated with any labeled entity (these are what I will use as my feature set in the model)..."
      ],
      "metadata": {
        "id": "9wv50mBTPOSe"
      }
    },
    {
      "cell_type": "code",
      "source": [
        "class_tokens = json.load(open(out_dir+\"entity_id_map_REDUCED.txt\"))\n",
        "class_tokens.keys() # to double check the loading of data worked!"
      ],
      "metadata": {
        "colab": {
          "base_uri": "https://localhost:8080/"
        },
        "id": "qK74N_koPNG5",
        "outputId": "09b4e94a-e913-4570-9bdf-42aeac7e109a"
      },
      "execution_count": null,
      "outputs": [
        {
          "output_type": "execute_result",
          "data": {
            "text/plain": [
              "dict_keys(['Prescription_Stimulants', 'Perscription_Medications', 'OTCs', 'Substances', 'Anxiety', 'Depression', 'ADHD', 'Other_Diagnoses', 'WILD'])"
            ]
          },
          "metadata": {},
          "execution_count": 9
        }
      ]
    },
    {
      "cell_type": "code",
      "source": [
        "entity_token_ids = []\n",
        "for entity in class_tokens.keys(): # loop through each entity\n",
        "  entity_token_ids = entity_token_ids + class_tokens[entity]\n",
        "\n",
        "# get all UNIQUE tokens from this list! (470 total)\n",
        "entity_token_ids = set(entity_token_ids)\n",
        "entity_token_ids = list(entity_token_ids)\n",
        "# len(entity_token_ids)"
      ],
      "metadata": {
        "id": "0oON_PiNPqLv"
      },
      "execution_count": null,
      "outputs": []
    },
    {
      "cell_type": "code",
      "source": [
        "len(entity_token_ids)"
      ],
      "metadata": {
        "colab": {
          "base_uri": "https://localhost:8080/"
        },
        "id": "0tevFH2y3GXg",
        "outputId": "319a4f32-9911-4bdd-a6f5-c44d5491ec75"
      },
      "execution_count": null,
      "outputs": [
        {
          "output_type": "execute_result",
          "data": {
            "text/plain": [
              "470"
            ]
          },
          "metadata": {},
          "execution_count": 11
        }
      ]
    },
    {
      "cell_type": "code",
      "source": [
        "entity_token_ids.sort()\n",
        "# remove numbers 0 because it is the start token and 2 because it is the end token and 1 because it is used for padding!\n",
        "entity_token_ids = entity_token_ids[3:]\n",
        "print(entity_token_ids)"
      ],
      "metadata": {
        "colab": {
          "base_uri": "https://localhost:8080/"
        },
        "id": "xqorlHjzP6EB",
        "outputId": "35622e84-a4ea-459c-e497-b81a5920499b"
      },
      "execution_count": null,
      "outputs": [
        {
          "output_type": "stream",
          "name": "stdout",
          "text": [
            "[4, 5, 8, 9, 10, 11, 12, 17, 18, 19, 23, 27, 29, 41, 73, 102, 118, 127, 154, 157, 158, 179, 181, 196, 219, 242, 251, 254, 257, 260, 261, 263, 291, 293, 295, 300, 313, 324, 326, 329, 338, 354, 364, 368, 379, 389, 402, 405, 415, 417, 424, 437, 438, 449, 457, 459, 462, 463, 475, 523, 538, 564, 579, 594, 605, 614, 625, 627, 642, 654, 661, 681, 705, 718, 740, 741, 748, 757, 763, 765, 784, 800, 808, 821, 833, 843, 853, 859, 876, 890, 909, 910, 918, 922, 927, 936, 939, 992, 995, 1001, 1007, 1021, 1029, 1043, 1069, 1071, 1073, 1075, 1090, 1115, 1116, 1168, 1178, 1182, 1191, 1198, 1222, 1244, 1250, 1253, 1262, 1264, 1275, 1342, 1344, 1437, 1439, 1475, 1499, 1503, 1506, 1510, 1517, 1606, 1630, 1688, 1690, 1741, 1759, 1809, 1825, 1855, 1879, 1907, 1999, 2001, 2070, 2088, 2137, 2253, 2272, 2329, 2353, 2399, 2440, 2457, 2459, 2462, 2495, 2527, 2538, 2552, 2553, 2569, 2601, 2611, 2900, 2982, 3023, 3055, 3056, 3112, 3140, 3141, 3169, 3206, 3228, 3245, 3267, 3277, 3314, 3335, 3349, 3463, 3501, 3529, 3553, 3581, 3631, 3639, 3707, 3741, 3766, 3781, 3814, 3892, 3895, 3914, 3961, 3967, 3976, 3984, 3985, 4003, 4031, 4040, 4076, 4091, 4192, 4297, 4325, 4399, 4437, 4441, 4469, 4490, 4591, 4603, 4626, 4663, 4728, 4803, 4835, 4917, 4926, 4977, 5032, 5107, 5109, 5194, 5224, 5384, 5421, 5489, 5626, 5679, 5719, 5814, 5951, 6014, 6106, 6150, 6356, 6443, 6487, 6527, 6626, 6648, 6653, 6696, 6713, 6718, 6821, 6845, 6882, 6943, 7031, 7085, 7210, 7268, 7304, 7398, 7399, 7407, 7485, 7540, 7585, 7670, 7753, 7779, 7893, 7933, 7954, 8014, 8255, 8347, 8364, 8375, 8416, 8419, 8456, 8632, 8635, 8944, 9211, 9243, 9244, 9339, 9504, 9604, 9876, 9965, 9977, 10062, 10209, 10306, 10338, 10533, 10601, 10645, 10789, 10849, 10865, 11000, 11134, 11454, 11469, 11483, 11499, 12019, 12138, 12228, 12234, 12354, 12577, 12646, 12876, 13014, 13106, 13152, 13317, 13352, 13473, 13507, 13510, 13569, 13866, 13996, 14016, 14255, 14306, 14407, 14569, 14655, 14677, 14726, 14974, 15352, 15587, 15981, 16062, 16093, 16134, 16266, 16328, 16397, 16435, 16567, 16596, 16619, 16658, 17170, 17272, 17379, 17459, 17844, 18356, 19231, 19258, 19565, 19582, 19619, 19894, 19899, 20040, 20168, 21210, 21576, 21791, 21865, 21919, 21968, 22089, 22589, 22984, 23566, 23737, 24313, 24339, 24348, 24932, 25170, 25284, 25813, 26272, 26604, 26656, 27128, 27224, 27442, 27647, 27730, 28112, 28127, 28221, 28574, 28690, 29403, 29590, 30004, 30420, 31171, 31201, 31352, 32142, 32689, 32718, 32756, 32890, 33844, 34139, 34420, 34630, 35157, 35238, 35454, 35470, 35592, 35824, 35905, 35999, 36003, 36107, 36165, 36912, 37018, 37113, 37197, 37321, 37432, 37554, 37879, 38187, 38213, 38382, 39024, 39862, 39902, 40168, 40345, 40634, 40942, 41027, 41472, 42109, 42128, 42527, 43515, 43537, 43924, 43987, 44030, 44149, 44589, 44652, 44780, 45167, 45634, 45684, 45833, 46440, 46976, 46988, 47012, 47112, 47929, 49649]\n"
          ]
        }
      ]
    },
    {
      "cell_type": "code",
      "source": [
        "def form_feature_matrix(tokens, ids):\n",
        "\n",
        "  feature_matrix = np.zeros((len(tokens), len(ids)), dtype=int)\n",
        "  print(\"feature matrix initialized with shape \" + str(feature_matrix.shape))\n",
        "\n",
        "  # Iterate through each sample in the dataset\n",
        "  for sample_index, sample in enumerate(tokens):\n",
        "    # Iterate through each integer in the sample\n",
        "    #print(\"\\nPost: \" +str(sample_index))\n",
        "\n",
        "    for integer_index, integer_value in enumerate(sample):\n",
        "      if integer_value in ids: # check if the integer value is in the list of specific integer values\n",
        "        feature_index = ids.index(integer_value)\n",
        "        feature_matrix[sample_index, feature_index] = 1 # if yes, set the corresponding feature value to 1\n",
        "  return feature_matrix\n"
      ],
      "metadata": {
        "id": "G1LWGrn8a_fH"
      },
      "execution_count": null,
      "outputs": []
    },
    {
      "cell_type": "code",
      "source": [
        "feature_matrix = form_feature_matrix(tokens=tokenized_dataset['train']['input_ids'], ids=entity_token_ids)\n",
        "feature_matrix # should be shape (1600, 467)"
      ],
      "metadata": {
        "id": "EkvKMeaOb23I",
        "colab": {
          "base_uri": "https://localhost:8080/"
        },
        "outputId": "7963e86e-e608-4b82-dd45-678ad14acb84"
      },
      "execution_count": null,
      "outputs": [
        {
          "output_type": "stream",
          "name": "stdout",
          "text": [
            "feature matrix initialized with shape (1600, 467)\n"
          ]
        },
        {
          "output_type": "execute_result",
          "data": {
            "text/plain": [
              "array([[1, 1, 1, ..., 0, 0, 0],\n",
              "       [1, 0, 1, ..., 0, 0, 0],\n",
              "       [1, 1, 1, ..., 0, 0, 0],\n",
              "       ...,\n",
              "       [1, 1, 1, ..., 0, 0, 0],\n",
              "       [1, 1, 1, ..., 0, 0, 0],\n",
              "       [1, 1, 1, ..., 0, 0, 0]])"
            ]
          },
          "metadata": {},
          "execution_count": 14
        }
      ]
    },
    {
      "cell_type": "code",
      "source": [
        "labels = list(range(9)) # 9 entity types labeled 0-8\n",
        "label_matrix = form_feature_matrix(tokens=tokenized_dataset['train']['labels'], ids=labels)"
      ],
      "metadata": {
        "id": "m4zxEFI3eLSt",
        "colab": {
          "base_uri": "https://localhost:8080/"
        },
        "outputId": "a997fbec-8baf-4ae7-cf6b-0660729f8c92"
      },
      "execution_count": null,
      "outputs": [
        {
          "output_type": "stream",
          "name": "stdout",
          "text": [
            "feature matrix initialized with shape (1600, 9)\n"
          ]
        }
      ]
    },
    {
      "cell_type": "code",
      "source": [
        "label_matrix = label_matrix.transpose()\n",
        "label_matrix # each row is an entity"
      ],
      "metadata": {
        "colab": {
          "base_uri": "https://localhost:8080/"
        },
        "id": "VwTG7dGUffX1",
        "outputId": "ea9e320d-3e9a-47a0-c75e-6e5524fb9dee"
      },
      "execution_count": null,
      "outputs": [
        {
          "output_type": "execute_result",
          "data": {
            "text/plain": [
              "array([[1, 1, 0, ..., 1, 1, 1],\n",
              "       [0, 0, 0, ..., 0, 0, 0],\n",
              "       [0, 0, 0, ..., 1, 0, 0],\n",
              "       ...,\n",
              "       [1, 0, 0, ..., 0, 0, 1],\n",
              "       [0, 0, 0, ..., 0, 0, 0],\n",
              "       [1, 1, 1, ..., 1, 1, 1]])"
            ]
          },
          "metadata": {},
          "execution_count": 16
        }
      ]
    },
    {
      "cell_type": "code",
      "source": [
        "feature_matrix_test = form_feature_matrix(tokens=tokenized_dataset['test']['input_ids'], ids=entity_token_ids)\n",
        "label_matrix_test = form_feature_matrix(tokens=tokenized_dataset['test']['labels'], ids=labels)\n",
        "label_matrix_test = label_matrix_test.transpose()"
      ],
      "metadata": {
        "id": "yR90y-4OdI1H",
        "colab": {
          "base_uri": "https://localhost:8080/"
        },
        "outputId": "951919d7-9731-4a17-e768-cc499975147a"
      },
      "execution_count": null,
      "outputs": [
        {
          "output_type": "stream",
          "name": "stdout",
          "text": [
            "feature matrix initialized with shape (401, 467)\n",
            "feature matrix initialized with shape (401, 9)\n"
          ]
        }
      ]
    },
    {
      "cell_type": "code",
      "source": [
        "id_to_classes # use to figure out which column you want to test first!"
      ],
      "metadata": {
        "colab": {
          "base_uri": "https://localhost:8080/"
        },
        "id": "plIdsyWP7q0_",
        "outputId": "9fe69c4a-3da7-4f97-c0eb-c745ed8bf146"
      },
      "execution_count": null,
      "outputs": [
        {
          "output_type": "execute_result",
          "data": {
            "text/plain": [
              "{0: 'Prescription_Stimulants',\n",
              " 1: 'Perscription_Medications',\n",
              " 2: 'OTCs',\n",
              " 3: 'Substances',\n",
              " 4: 'Anxiety',\n",
              " 5: 'Depression',\n",
              " 6: 'ADHD',\n",
              " 7: 'Other_Diagnoses',\n",
              " 8: 'WILD'}"
            ]
          },
          "metadata": {},
          "execution_count": 18
        }
      ]
    },
    {
      "cell_type": "code",
      "source": [
        "def print_evaluation_metrics(test_labels, y_pred): # evaluate classifier\n",
        "  accuracy = accuracy_score(test_labels, y_pred)\n",
        "  print(\"Accuracy:\", accuracy)\n",
        "\n",
        "  print(\"Classification Report:\")\n",
        "  print(classification_report(test_labels, y_pred))\n",
        "\n",
        "  # Confusion matrix\n",
        "  # top left = true negative\n",
        "  # top right = false positives\n",
        "  # bottom left = false negatives\n",
        "  # bottom right = true positives\n",
        "  conf_mat = confusion_matrix(test_labels, y_pred)\n",
        "  cm_reordered = conf_mat[[0, 1], :][:, [0, 1]]  # Assuming you have two classes (0 and 1)\n",
        "  print(\"Confusion Matrix:\")\n",
        "  print(conf_mat)\n",
        "  print(\"Confusion Matrix REORDERED:\")\n",
        "  print(cm_reordered)"
      ],
      "metadata": {
        "id": "97Z8RGzkfg2y"
      },
      "execution_count": null,
      "outputs": []
    },
    {
      "cell_type": "code",
      "source": [
        "def plot_ROC(test_labels, y_prob):\n",
        "  # ROC Curve\n",
        "  fpr, tpr, thresholds = roc_curve(test_labels, y_prob)\n",
        "  plt.figure(figsize=(8, 6))\n",
        "  plt.plot(fpr, tpr, color='blue', lw=2, label='ROC curve (area = %0.2f)' % roc_auc_score(test_labels, y_prob))\n",
        "  plt.plot([0, 1], [0, 1], color='gray', linestyle='--')\n",
        "  plt.xlim([0.0, 1.0])\n",
        "  plt.ylim([0.0, 1.05])\n",
        "  plt.xlabel('False Positive Rate')\n",
        "  plt.ylabel('True Positive Rate')\n",
        "  plt.title('Receiver Operating Characteristic (ROC) Curve')\n",
        "  plt.legend(loc=\"lower right\")\n",
        "  plt.show()"
      ],
      "metadata": {
        "id": "hsUWZdjugMSm"
      },
      "execution_count": null,
      "outputs": []
    },
    {
      "cell_type": "code",
      "source": [
        "for i in range(0,8):\n",
        "  print(\"\\nEvaluating Model for Entity: \" + str(id_to_classes[i]))\n",
        "\n",
        "  svm_classifier = SVC(kernel='linear', probability=True)\n",
        "  svm_classifier.fit(feature_matrix, label_matrix[i])\n",
        "\n",
        "  y_pred = svm_classifier.predict(feature_matrix_test)\n",
        "  y_prob = svm_classifier.predict_proba(feature_matrix_test)[:, 1]\n",
        "\n",
        "  print_evaluation_metrics(test_labels=label_matrix_test[i], y_pred=y_pred)\n",
        "  plot_ROC(test_labels=label_matrix_test[i], y_prob=y_prob)"
      ],
      "metadata": {
        "colab": {
          "base_uri": "https://localhost:8080/",
          "height": 1000
        },
        "id": "1dz01djDxlQo",
        "outputId": "cb720d4e-c134-4d0e-835b-f9c7865d08b5"
      },
      "execution_count": null,
      "outputs": [
        {
          "output_type": "stream",
          "name": "stdout",
          "text": [
            "\n",
            "Evaluating Model for Entity: Prescription_Stimulants\n",
            "Accuracy: 0.8428927680798005\n",
            "Classification Report:\n",
            "              precision    recall  f1-score   support\n",
            "\n",
            "           0       0.64      0.57      0.60        83\n",
            "           1       0.89      0.92      0.90       318\n",
            "\n",
            "    accuracy                           0.84       401\n",
            "   macro avg       0.76      0.74      0.75       401\n",
            "weighted avg       0.84      0.84      0.84       401\n",
            "\n",
            "Confusion Matrix:\n",
            "[[ 47  36]\n",
            " [ 27 291]]\n",
            "Confusion Matrix REORDERED:\n",
            "[[ 47  36]\n",
            " [ 27 291]]\n"
          ]
        },
        {
          "output_type": "display_data",
          "data": {
            "text/plain": [
              "<Figure size 800x600 with 1 Axes>"
            ],
            "image/png": "[encoded data removed]"
          },
          "metadata": {}
        },
        {
          "output_type": "stream",
          "name": "stdout",
          "text": [
            "\n",
            "Evaluating Model for Entity: Perscription_Medications\n",
            "Accuracy: 0.9576059850374065\n",
            "Classification Report:\n",
            "              precision    recall  f1-score   support\n",
            "\n",
            "           0       0.96      1.00      0.98       381\n",
            "           1       1.00      0.15      0.26        20\n",
            "\n",
            "    accuracy                           0.96       401\n",
            "   macro avg       0.98      0.57      0.62       401\n",
            "weighted avg       0.96      0.96      0.94       401\n",
            "\n",
            "Confusion Matrix:\n",
            "[[381   0]\n",
            " [ 17   3]]\n",
            "Confusion Matrix REORDERED:\n",
            "[[381   0]\n",
            " [ 17   3]]\n"
          ]
        },
        {
          "output_type": "display_data",
          "data": {
            "text/plain": [
              "<Figure size 800x600 with 1 Axes>"
            ],
            "image/png": "[encoded data removed]"
          },
          "metadata": {}
        },
        {
          "output_type": "stream",
          "name": "stdout",
          "text": [
            "\n",
            "Evaluating Model for Entity: OTCs\n",
            "Accuracy: 0.970074812967581\n",
            "Classification Report:\n",
            "              precision    recall  f1-score   support\n",
            "\n",
            "           0       0.97      1.00      0.98       383\n",
            "           1       1.00      0.33      0.50        18\n",
            "\n",
            "    accuracy                           0.97       401\n",
            "   macro avg       0.98      0.67      0.74       401\n",
            "weighted avg       0.97      0.97      0.96       401\n",
            "\n",
            "Confusion Matrix:\n",
            "[[383   0]\n",
            " [ 12   6]]\n",
            "Confusion Matrix REORDERED:\n",
            "[[383   0]\n",
            " [ 12   6]]\n"
          ]
        },
        {
          "output_type": "display_data",
          "data": {
            "text/plain": [
              "<Figure size 800x600 with 1 Axes>"
            ],
            "image/png": "[encoded data removed]"
          },
          "metadata": {}
        },
        {
          "output_type": "stream",
          "name": "stdout",
          "text": [
            "\n",
            "Evaluating Model for Entity: Substances\n",
            "Accuracy: 0.9152119700748129\n",
            "Classification Report:\n",
            "              precision    recall  f1-score   support\n",
            "\n",
            "           0       0.92      0.99      0.96       365\n",
            "           1       0.67      0.11      0.19        36\n",
            "\n",
            "    accuracy                           0.92       401\n",
            "   macro avg       0.79      0.55      0.57       401\n",
            "weighted avg       0.90      0.92      0.89       401\n",
            "\n",
            "Confusion Matrix:\n",
            "[[363   2]\n",
            " [ 32   4]]\n",
            "Confusion Matrix REORDERED:\n",
            "[[363   2]\n",
            " [ 32   4]]\n"
          ]
        },
        {
          "output_type": "display_data",
          "data": {
            "text/plain": [
              "<Figure size 800x600 with 1 Axes>"
            ],
            "image/png": "[encoded data removed]"
          },
          "metadata": {}
        },
        {
          "output_type": "stream",
          "name": "stdout",
          "text": [
            "\n",
            "Evaluating Model for Entity: Anxiety\n",
            "Accuracy: 0.9800498753117207\n",
            "Classification Report:\n",
            "              precision    recall  f1-score   support\n",
            "\n",
            "           0       0.99      0.99      0.99       378\n",
            "           1       0.86      0.78      0.82        23\n",
            "\n",
            "    accuracy                           0.98       401\n",
            "   macro avg       0.92      0.89      0.90       401\n",
            "weighted avg       0.98      0.98      0.98       401\n",
            "\n",
            "Confusion Matrix:\n",
            "[[375   3]\n",
            " [  5  18]]\n",
            "Confusion Matrix REORDERED:\n",
            "[[375   3]\n",
            " [  5  18]]\n"
          ]
        },
        {
          "output_type": "display_data",
          "data": {
            "text/plain": [
              "<Figure size 800x600 with 1 Axes>"
            ],
            "image/png": "[encoded data removed]"
          },
          "metadata": {}
        },
        {
          "output_type": "stream",
          "name": "stdout",
          "text": [
            "\n",
            "Evaluating Model for Entity: Depression\n",
            "Accuracy: 0.972568578553616\n",
            "Classification Report:\n",
            "              precision    recall  f1-score   support\n",
            "\n",
            "           0       0.97      1.00      0.99       378\n",
            "           1       0.93      0.57      0.70        23\n",
            "\n",
            "    accuracy                           0.97       401\n",
            "   macro avg       0.95      0.78      0.84       401\n",
            "weighted avg       0.97      0.97      0.97       401\n",
            "\n",
            "Confusion Matrix:\n",
            "[[377   1]\n",
            " [ 10  13]]\n",
            "Confusion Matrix REORDERED:\n",
            "[[377   1]\n",
            " [ 10  13]]\n"
          ]
        },
        {
          "output_type": "display_data",
          "data": {
            "text/plain": [
              "<Figure size 800x600 with 1 Axes>"
            ],
            "image/png": "[encoded data removed]"
          },
          "metadata": {}
        },
        {
          "output_type": "stream",
          "name": "stdout",
          "text": [
            "\n",
            "Evaluating Model for Entity: ADHD\n",
            "Accuracy: 0.9501246882793017\n",
            "Classification Report:\n",
            "              precision    recall  f1-score   support\n",
            "\n",
            "           0       0.97      0.97      0.97       338\n",
            "           1       0.84      0.84      0.84        63\n",
            "\n",
            "    accuracy                           0.95       401\n",
            "   macro avg       0.91      0.91      0.91       401\n",
            "weighted avg       0.95      0.95      0.95       401\n",
            "\n",
            "Confusion Matrix:\n",
            "[[328  10]\n",
            " [ 10  53]]\n",
            "Confusion Matrix REORDERED:\n",
            "[[328  10]\n",
            " [ 10  53]]\n"
          ]
        },
        {
          "output_type": "display_data",
          "data": {
            "text/plain": [
              "<Figure size 800x600 with 1 Axes>"
            ],
            "image/png": "[encoded data removed]"
          },
          "metadata": {}
        },
        {
          "output_type": "stream",
          "name": "stdout",
          "text": [
            "\n",
            "Evaluating Model for Entity: Other_Diagnoses\n",
            "Accuracy: 0.9775561097256857\n",
            "Classification Report:\n",
            "              precision    recall  f1-score   support\n",
            "\n",
            "           0       0.98      1.00      0.99       392\n",
            "           1       0.00      0.00      0.00         9\n",
            "\n",
            "    accuracy                           0.98       401\n",
            "   macro avg       0.49      0.50      0.49       401\n",
            "weighted avg       0.96      0.98      0.97       401\n",
            "\n",
            "Confusion Matrix:\n",
            "[[392   0]\n",
            " [  9   0]]\n",
            "Confusion Matrix REORDERED:\n",
            "[[392   0]\n",
            " [  9   0]]\n"
          ]
        },
        {
          "output_type": "stream",
          "name": "stderr",
          "text": [
            "/usr/local/lib/python3.10/dist-packages/sklearn/metrics/_classification.py:1344: UndefinedMetricWarning: Precision and F-score are ill-defined and being set to 0.0 in labels with no predicted samples. Use `zero_division` parameter to control this behavior.\n",
            "  _warn_prf(average, modifier, msg_start, len(result))\n",
            "/usr/local/lib/python3.10/dist-packages/sklearn/metrics/_classification.py:1344: UndefinedMetricWarning: Precision and F-score are ill-defined and being set to 0.0 in labels with no predicted samples. Use `zero_division` parameter to control this behavior.\n",
            "  _warn_prf(average, modifier, msg_start, len(result))\n",
            "/usr/local/lib/python3.10/dist-packages/sklearn/metrics/_classification.py:1344: UndefinedMetricWarning: Precision and F-score are ill-defined and being set to 0.0 in labels with no predicted samples. Use `zero_division` parameter to control this behavior.\n",
            "  _warn_prf(average, modifier, msg_start, len(result))\n"
          ]
        },
        {
          "output_type": "display_data",
          "data": {
            "text/plain": [
              "<Figure size 800x600 with 1 Axes>"
            ],
            "image/png": "[encoded data removed]"
          },
          "metadata": {}
        }
      ]
    }
  ]
}