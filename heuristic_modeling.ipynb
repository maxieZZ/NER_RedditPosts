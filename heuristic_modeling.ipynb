{
  "nbformat": 4,
  "nbformat_minor": 0,
  "metadata": {
    "colab": {
      "provenance": [],
      "collapsed_sections": [
        "3I05Ca43aS-t",
        "Gq1zK7ADcIfS",
        "x6AYUqOPdYyy",
        "n7PSHnvNfyNr",
        "jWcLr7qbszpx",
        "yPV5iobNvb89",
        "7C8S7GDitPFt"
      ],
      "gpuType": "V100"
    },
    "kernelspec": {
      "name": "python3",
      "display_name": "Python 3"
    },
    "language_info": {
      "name": "python"
    },
    "widgets": {
      "application/vnd.jupyter.widget-state+json": {
        "37c8ab99a0374b2d8597202a6ccef939": {
          "model_module": "@jupyter-widgets/controls",
          "model_name": "HBoxModel",
          "model_module_version": "1.5.0",
          "state": {
            "_dom_classes": [],
            "_model_module": "@jupyter-widgets/controls",
            "_model_module_version": "1.5.0",
            "_model_name": "HBoxModel",
            "_view_count": null,
            "_view_module": "@jupyter-widgets/controls",
            "_view_module_version": "1.5.0",
            "_view_name": "HBoxView",
            "box_style": "",
            "children": [
              "IPY_MODEL_7eba88b1c56a4d0490f52082e6f8d844",
              "IPY_MODEL_de5ebf8679da46c09c4bbe2b47118083",
              "IPY_MODEL_51462c95fe7c4bda9680ef6e8ff7a0c6"
            ],
            "layout": "IPY_MODEL_92d7898cf80c4490a90cab432f802cd8"
          }
        },
        "7eba88b1c56a4d0490f52082e6f8d844": {
          "model_module": "@jupyter-widgets/controls",
          "model_name": "HTMLModel",
          "model_module_version": "1.5.0",
          "state": {
            "_dom_classes": [],
            "_model_module": "@jupyter-widgets/controls",
            "_model_module_version": "1.5.0",
            "_model_name": "HTMLModel",
            "_view_count": null,
            "_view_module": "@jupyter-widgets/controls",
            "_view_module_version": "1.5.0",
            "_view_name": "HTMLView",
            "description": "",
            "description_tooltip": null,
            "layout": "IPY_MODEL_3ed18a44188b4f838782e61bf0d8846a",
            "placeholder": "​",
            "style": "IPY_MODEL_df470b0dd0f74561943a815d78edbde3",
            "value": "config.json: 100%"
          }
        },
        "de5ebf8679da46c09c4bbe2b47118083": {
          "model_module": "@jupyter-widgets/controls",
          "model_name": "FloatProgressModel",
          "model_module_version": "1.5.0",
          "state": {
            "_dom_classes": [],
            "_model_module": "@jupyter-widgets/controls",
            "_model_module_version": "1.5.0",
            "_model_name": "FloatProgressModel",
            "_view_count": null,
            "_view_module": "@jupyter-widgets/controls",
            "_view_module_version": "1.5.0",
            "_view_name": "ProgressView",
            "bar_style": "success",
            "description": "",
            "description_tooltip": null,
            "layout": "IPY_MODEL_eaa0d953a2264da5aba437e35cc57818",
            "max": 694,
            "min": 0,
            "orientation": "horizontal",
            "style": "IPY_MODEL_f62e75704e6f441c94aa794c401f73de",
            "value": 694
          }
        },
        "51462c95fe7c4bda9680ef6e8ff7a0c6": {
          "model_module": "@jupyter-widgets/controls",
          "model_name": "HTMLModel",
          "model_module_version": "1.5.0",
          "state": {
            "_dom_classes": [],
            "_model_module": "@jupyter-widgets/controls",
            "_model_module_version": "1.5.0",
            "_model_name": "HTMLModel",
            "_view_count": null,
            "_view_module": "@jupyter-widgets/controls",
            "_view_module_version": "1.5.0",
            "_view_name": "HTMLView",
            "description": "",
            "description_tooltip": null,
            "layout": "IPY_MODEL_e4971f9ef45846f09dc58af3fa57a8f2",
            "placeholder": "​",
            "style": "IPY_MODEL_06f21002889e49439132b599ed52201c",
            "value": " 694/694 [00:00&lt;00:00, 10.3kB/s]"
          }
        },
        "92d7898cf80c4490a90cab432f802cd8": {
          "model_module": "@jupyter-widgets/base",
          "model_name": "LayoutModel",
          "model_module_version": "1.2.0",
          "state": {
            "_model_module": "@jupyter-widgets/base",
            "_model_module_version": "1.2.0",
            "_model_name": "LayoutModel",
            "_view_count": null,
            "_view_module": "@jupyter-widgets/base",
            "_view_module_version": "1.2.0",
            "_view_name": "LayoutView",
            "align_content": null,
            "align_items": null,
            "align_self": null,
            "border": null,
            "bottom": null,
            "display": null,
            "flex": null,
            "flex_flow": null,
            "grid_area": null,
            "grid_auto_columns": null,
            "grid_auto_flow": null,
            "grid_auto_rows": null,
            "grid_column": null,
            "grid_gap": null,
            "grid_row": null,
            "grid_template_areas": null,
            "grid_template_columns": null,
            "grid_template_rows": null,
            "height": null,
            "justify_content": null,
            "justify_items": null,
            "left": null,
            "margin": null,
            "max_height": null,
            "max_width": null,
            "min_height": null,
            "min_width": null,
            "object_fit": null,
            "object_position": null,
            "order": null,
            "overflow": null,
            "overflow_x": null,
            "overflow_y": null,
            "padding": null,
            "right": null,
            "top": null,
            "visibility": null,
            "width": null
          }
        },
        "3ed18a44188b4f838782e61bf0d8846a": {
          "model_module": "@jupyter-widgets/base",
          "model_name": "LayoutModel",
          "model_module_version": "1.2.0",
          "state": {
            "_model_module": "@jupyter-widgets/base",
            "_model_module_version": "1.2.0",
            "_model_name": "LayoutModel",
            "_view_count": null,
            "_view_module": "@jupyter-widgets/base",
            "_view_module_version": "1.2.0",
            "_view_name": "LayoutView",
            "align_content": null,
            "align_items": null,
            "align_self": null,
            "border": null,
            "bottom": null,
            "display": null,
            "flex": null,
            "flex_flow": null,
            "grid_area": null,
            "grid_auto_columns": null,
            "grid_auto_flow": null,
            "grid_auto_rows": null,
            "grid_column": null,
            "grid_gap": null,
            "grid_row": null,
            "grid_template_areas": null,
            "grid_template_columns": null,
            "grid_template_rows": null,
            "height": null,
            "justify_content": null,
            "justify_items": null,
            "left": null,
            "margin": null,
            "max_height": null,
            "max_width": null,
            "min_height": null,
            "min_width": null,
            "object_fit": null,
            "object_position": null,
            "order": null,
            "overflow": null,
            "overflow_x": null,
            "overflow_y": null,
            "padding": null,
            "right": null,
            "top": null,
            "visibility": null,
            "width": null
          }
        },
        "df470b0dd0f74561943a815d78edbde3": {
          "model_module": "@jupyter-widgets/controls",
          "model_name": "DescriptionStyleModel",
          "model_module_version": "1.5.0",
          "state": {
            "_model_module": "@jupyter-widgets/controls",
            "_model_module_version": "1.5.0",
            "_model_name": "DescriptionStyleModel",
            "_view_count": null,
            "_view_module": "@jupyter-widgets/base",
            "_view_module_version": "1.2.0",
            "_view_name": "StyleView",
            "description_width": ""
          }
        },
        "eaa0d953a2264da5aba437e35cc57818": {
          "model_module": "@jupyter-widgets/base",
          "model_name": "LayoutModel",
          "model_module_version": "1.2.0",
          "state": {
            "_model_module": "@jupyter-widgets/base",
            "_model_module_version": "1.2.0",
            "_model_name": "LayoutModel",
            "_view_count": null,
            "_view_module": "@jupyter-widgets/base",
            "_view_module_version": "1.2.0",
            "_view_name": "LayoutView",
            "align_content": null,
            "align_items": null,
            "align_self": null,
            "border": null,
            "bottom": null,
            "display": null,
            "flex": null,
            "flex_flow": null,
            "grid_area": null,
            "grid_auto_columns": null,
            "grid_auto_flow": null,
            "grid_auto_rows": null,
            "grid_column": null,
            "grid_gap": null,
            "grid_row": null,
            "grid_template_areas": null,
            "grid_template_columns": null,
            "grid_template_rows": null,
            "height": null,
            "justify_content": null,
            "justify_items": null,
            "left": null,
            "margin": null,
            "max_height": null,
            "max_width": null,
            "min_height": null,
            "min_width": null,
            "object_fit": null,
            "object_position": null,
            "order": null,
            "overflow": null,
            "overflow_x": null,
            "overflow_y": null,
            "padding": null,
            "right": null,
            "top": null,
            "visibility": null,
            "width": null
          }
        },
        "f62e75704e6f441c94aa794c401f73de": {
          "model_module": "@jupyter-widgets/controls",
          "model_name": "ProgressStyleModel",
          "model_module_version": "1.5.0",
          "state": {
            "_model_module": "@jupyter-widgets/controls",
            "_model_module_version": "1.5.0",
            "_model_name": "ProgressStyleModel",
            "_view_count": null,
            "_view_module": "@jupyter-widgets/base",
            "_view_module_version": "1.2.0",
            "_view_name": "StyleView",
            "bar_color": null,
            "description_width": ""
          }
        },
        "e4971f9ef45846f09dc58af3fa57a8f2": {
          "model_module": "@jupyter-widgets/base",
          "model_name": "LayoutModel",
          "model_module_version": "1.2.0",
          "state": {
            "_model_module": "@jupyter-widgets/base",
            "_model_module_version": "1.2.0",
            "_model_name": "LayoutModel",
            "_view_count": null,
            "_view_module": "@jupyter-widgets/base",
            "_view_module_version": "1.2.0",
            "_view_name": "LayoutView",
            "align_content": null,
            "align_items": null,
            "align_self": null,
            "border": null,
            "bottom": null,
            "display": null,
            "flex": null,
            "flex_flow": null,
            "grid_area": null,
            "grid_auto_columns": null,
            "grid_auto_flow": null,
            "grid_auto_rows": null,
            "grid_column": null,
            "grid_gap": null,
            "grid_row": null,
            "grid_template_areas": null,
            "grid_template_columns": null,
            "grid_template_rows": null,
            "height": null,
            "justify_content": null,
            "justify_items": null,
            "left": null,
            "margin": null,
            "max_height": null,
            "max_width": null,
            "min_height": null,
            "min_width": null,
            "object_fit": null,
            "object_position": null,
            "order": null,
            "overflow": null,
            "overflow_x": null,
            "overflow_y": null,
            "padding": null,
            "right": null,
            "top": null,
            "visibility": null,
            "width": null
          }
        },
        "06f21002889e49439132b599ed52201c": {
          "model_module": "@jupyter-widgets/controls",
          "model_name": "DescriptionStyleModel",
          "model_module_version": "1.5.0",
          "state": {
            "_model_module": "@jupyter-widgets/controls",
            "_model_module_version": "1.5.0",
            "_model_name": "DescriptionStyleModel",
            "_view_count": null,
            "_view_module": "@jupyter-widgets/base",
            "_view_module_version": "1.2.0",
            "_view_name": "StyleView",
            "description_width": ""
          }
        },
        "ea62c49ee8f04f56a3d119c1b382ca36": {
          "model_module": "@jupyter-widgets/controls",
          "model_name": "HBoxModel",
          "model_module_version": "1.5.0",
          "state": {
            "_dom_classes": [],
            "_model_module": "@jupyter-widgets/controls",
            "_model_module_version": "1.5.0",
            "_model_name": "HBoxModel",
            "_view_count": null,
            "_view_module": "@jupyter-widgets/controls",
            "_view_module_version": "1.5.0",
            "_view_name": "HBoxView",
            "box_style": "",
            "children": [
              "IPY_MODEL_ae6934fb0c78475b8cbc13386d07f859",
              "IPY_MODEL_698b655ab27e46928eb1f0e2a0e69b32",
              "IPY_MODEL_590f3abb74dd4650a565a99eac340cae"
            ],
            "layout": "IPY_MODEL_a9fa2ae42f3148b3aea484d5fb076d4c"
          }
        },
        "ae6934fb0c78475b8cbc13386d07f859": {
          "model_module": "@jupyter-widgets/controls",
          "model_name": "HTMLModel",
          "model_module_version": "1.5.0",
          "state": {
            "_dom_classes": [],
            "_model_module": "@jupyter-widgets/controls",
            "_model_module_version": "1.5.0",
            "_model_name": "HTMLModel",
            "_view_count": null,
            "_view_module": "@jupyter-widgets/controls",
            "_view_module_version": "1.5.0",
            "_view_name": "HTMLView",
            "description": "",
            "description_tooltip": null,
            "layout": "IPY_MODEL_b82575a70c6246b5b31f17efa048845e",
            "placeholder": "​",
            "style": "IPY_MODEL_c1d15933218d4c839166f72560924405",
            "value": "vocab.json: 100%"
          }
        },
        "698b655ab27e46928eb1f0e2a0e69b32": {
          "model_module": "@jupyter-widgets/controls",
          "model_name": "FloatProgressModel",
          "model_module_version": "1.5.0",
          "state": {
            "_dom_classes": [],
            "_model_module": "@jupyter-widgets/controls",
            "_model_module_version": "1.5.0",
            "_model_name": "FloatProgressModel",
            "_view_count": null,
            "_view_module": "@jupyter-widgets/controls",
            "_view_module_version": "1.5.0",
            "_view_name": "ProgressView",
            "bar_style": "success",
            "description": "",
            "description_tooltip": null,
            "layout": "IPY_MODEL_54b67ed17e62406a98d60f1cd6a44b34",
            "max": 898823,
            "min": 0,
            "orientation": "horizontal",
            "style": "IPY_MODEL_7e2273f2b85c49458adc816783956be5",
            "value": 898823
          }
        },
        "590f3abb74dd4650a565a99eac340cae": {
          "model_module": "@jupyter-widgets/controls",
          "model_name": "HTMLModel",
          "model_module_version": "1.5.0",
          "state": {
            "_dom_classes": [],
            "_model_module": "@jupyter-widgets/controls",
            "_model_module_version": "1.5.0",
            "_model_name": "HTMLModel",
            "_view_count": null,
            "_view_module": "@jupyter-widgets/controls",
            "_view_module_version": "1.5.0",
            "_view_name": "HTMLView",
            "description": "",
            "description_tooltip": null,
            "layout": "IPY_MODEL_d950cf30b47d437ea7cd366e1639ed43",
            "placeholder": "​",
            "style": "IPY_MODEL_4d56d3b60fd34f4790b20a7e3d88f126",
            "value": " 899k/899k [00:00&lt;00:00, 2.75MB/s]"
          }
        },
        "a9fa2ae42f3148b3aea484d5fb076d4c": {
          "model_module": "@jupyter-widgets/base",
          "model_name": "LayoutModel",
          "model_module_version": "1.2.0",
          "state": {
            "_model_module": "@jupyter-widgets/base",
            "_model_module_version": "1.2.0",
            "_model_name": "LayoutModel",
            "_view_count": null,
            "_view_module": "@jupyter-widgets/base",
            "_view_module_version": "1.2.0",
            "_view_name": "LayoutView",
            "align_content": null,
            "align_items": null,
            "align_self": null,
            "border": null,
            "bottom": null,
            "display": null,
            "flex": null,
            "flex_flow": null,
            "grid_area": null,
            "grid_auto_columns": null,
            "grid_auto_flow": null,
            "grid_auto_rows": null,
            "grid_column": null,
            "grid_gap": null,
            "grid_row": null,
            "grid_template_areas": null,
            "grid_template_columns": null,
            "grid_template_rows": null,
            "height": null,
            "justify_content": null,
            "justify_items": null,
            "left": null,
            "margin": null,
            "max_height": null,
            "max_width": null,
            "min_height": null,
            "min_width": null,
            "object_fit": null,
            "object_position": null,
            "order": null,
            "overflow": null,
            "overflow_x": null,
            "overflow_y": null,
            "padding": null,
            "right": null,
            "top": null,
            "visibility": null,
            "width": null
          }
        },
        "b82575a70c6246b5b31f17efa048845e": {
          "model_module": "@jupyter-widgets/base",
          "model_name": "LayoutModel",
          "model_module_version": "1.2.0",
          "state": {
            "_model_module": "@jupyter-widgets/base",
            "_model_module_version": "1.2.0",
            "_model_name": "LayoutModel",
            "_view_count": null,
            "_view_module": "@jupyter-widgets/base",
            "_view_module_version": "1.2.0",
            "_view_name": "LayoutView",
            "align_content": null,
            "align_items": null,
            "align_self": null,
            "border": null,
            "bottom": null,
            "display": null,
            "flex": null,
            "flex_flow": null,
            "grid_area": null,
            "grid_auto_columns": null,
            "grid_auto_flow": null,
            "grid_auto_rows": null,
            "grid_column": null,
            "grid_gap": null,
            "grid_row": null,
            "grid_template_areas": null,
            "grid_template_columns": null,
            "grid_template_rows": null,
            "height": null,
            "justify_content": null,
            "justify_items": null,
            "left": null,
            "margin": null,
            "max_height": null,
            "max_width": null,
            "min_height": null,
            "min_width": null,
            "object_fit": null,
            "object_position": null,
            "order": null,
            "overflow": null,
            "overflow_x": null,
            "overflow_y": null,
            "padding": null,
            "right": null,
            "top": null,
            "visibility": null,
            "width": null
          }
        },
        "c1d15933218d4c839166f72560924405": {
          "model_module": "@jupyter-widgets/controls",
          "model_name": "DescriptionStyleModel",
          "model_module_version": "1.5.0",
          "state": {
            "_model_module": "@jupyter-widgets/controls",
            "_model_module_version": "1.5.0",
            "_model_name": "DescriptionStyleModel",
            "_view_count": null,
            "_view_module": "@jupyter-widgets/base",
            "_view_module_version": "1.2.0",
            "_view_name": "StyleView",
            "description_width": ""
          }
        },
        "54b67ed17e62406a98d60f1cd6a44b34": {
          "model_module": "@jupyter-widgets/base",
          "model_name": "LayoutModel",
          "model_module_version": "1.2.0",
          "state": {
            "_model_module": "@jupyter-widgets/base",
            "_model_module_version": "1.2.0",
            "_model_name": "LayoutModel",
            "_view_count": null,
            "_view_module": "@jupyter-widgets/base",
            "_view_module_version": "1.2.0",
            "_view_name": "LayoutView",
            "align_content": null,
            "align_items": null,
            "align_self": null,
            "border": null,
            "bottom": null,
            "display": null,
            "flex": null,
            "flex_flow": null,
            "grid_area": null,
            "grid_auto_columns": null,
            "grid_auto_flow": null,
            "grid_auto_rows": null,
            "grid_column": null,
            "grid_gap": null,
            "grid_row": null,
            "grid_template_areas": null,
            "grid_template_columns": null,
            "grid_template_rows": null,
            "height": null,
            "justify_content": null,
            "justify_items": null,
            "left": null,
            "margin": null,
            "max_height": null,
            "max_width": null,
            "min_height": null,
            "min_width": null,
            "object_fit": null,
            "object_position": null,
            "order": null,
            "overflow": null,
            "overflow_x": null,
            "overflow_y": null,
            "padding": null,
            "right": null,
            "top": null,
            "visibility": null,
            "width": null
          }
        },
        "7e2273f2b85c49458adc816783956be5": {
          "model_module": "@jupyter-widgets/controls",
          "model_name": "ProgressStyleModel",
          "model_module_version": "1.5.0",
          "state": {
            "_model_module": "@jupyter-widgets/controls",
            "_model_module_version": "1.5.0",
            "_model_name": "ProgressStyleModel",
            "_view_count": null,
            "_view_module": "@jupyter-widgets/base",
            "_view_module_version": "1.2.0",
            "_view_name": "StyleView",
            "bar_color": null,
            "description_width": ""
          }
        },
        "d950cf30b47d437ea7cd366e1639ed43": {
          "model_module": "@jupyter-widgets/base",
          "model_name": "LayoutModel",
          "model_module_version": "1.2.0",
          "state": {
            "_model_module": "@jupyter-widgets/base",
            "_model_module_version": "1.2.0",
            "_model_name": "LayoutModel",
            "_view_count": null,
            "_view_module": "@jupyter-widgets/base",
            "_view_module_version": "1.2.0",
            "_view_name": "LayoutView",
            "align_content": null,
            "align_items": null,
            "align_self": null,
            "border": null,
            "bottom": null,
            "display": null,
            "flex": null,
            "flex_flow": null,
            "grid_area": null,
            "grid_auto_columns": null,
            "grid_auto_flow": null,
            "grid_auto_rows": null,
            "grid_column": null,
            "grid_gap": null,
            "grid_row": null,
            "grid_template_areas": null,
            "grid_template_columns": null,
            "grid_template_rows": null,
            "height": null,
            "justify_content": null,
            "justify_items": null,
            "left": null,
            "margin": null,
            "max_height": null,
            "max_width": null,
            "min_height": null,
            "min_width": null,
            "object_fit": null,
            "object_position": null,
            "order": null,
            "overflow": null,
            "overflow_x": null,
            "overflow_y": null,
            "padding": null,
            "right": null,
            "top": null,
            "visibility": null,
            "width": null
          }
        },
        "4d56d3b60fd34f4790b20a7e3d88f126": {
          "model_module": "@jupyter-widgets/controls",
          "model_name": "DescriptionStyleModel",
          "model_module_version": "1.5.0",
          "state": {
            "_model_module": "@jupyter-widgets/controls",
            "_model_module_version": "1.5.0",
            "_model_name": "DescriptionStyleModel",
            "_view_count": null,
            "_view_module": "@jupyter-widgets/base",
            "_view_module_version": "1.2.0",
            "_view_name": "StyleView",
            "description_width": ""
          }
        },
        "28a873f92d5746a8aadb5d453e07c359": {
          "model_module": "@jupyter-widgets/controls",
          "model_name": "HBoxModel",
          "model_module_version": "1.5.0",
          "state": {
            "_dom_classes": [],
            "_model_module": "@jupyter-widgets/controls",
            "_model_module_version": "1.5.0",
            "_model_name": "HBoxModel",
            "_view_count": null,
            "_view_module": "@jupyter-widgets/controls",
            "_view_module_version": "1.5.0",
            "_view_name": "HBoxView",
            "box_style": "",
            "children": [
              "IPY_MODEL_838e5067c62a4d3d96ca711650d8c3ac",
              "IPY_MODEL_3900b8578d404ac9b50ac0acf097e41b",
              "IPY_MODEL_848ce20f4b44497d9a8c7bbfef814717"
            ],
            "layout": "IPY_MODEL_839de09209944b15bed419a871a8d10e"
          }
        },
        "838e5067c62a4d3d96ca711650d8c3ac": {
          "model_module": "@jupyter-widgets/controls",
          "model_name": "HTMLModel",
          "model_module_version": "1.5.0",
          "state": {
            "_dom_classes": [],
            "_model_module": "@jupyter-widgets/controls",
            "_model_module_version": "1.5.0",
            "_model_name": "HTMLModel",
            "_view_count": null,
            "_view_module": "@jupyter-widgets/controls",
            "_view_module_version": "1.5.0",
            "_view_name": "HTMLView",
            "description": "",
            "description_tooltip": null,
            "layout": "IPY_MODEL_956274e6ef454b75bd3fb5552403bf23",
            "placeholder": "​",
            "style": "IPY_MODEL_88fa476f5f004493ac26ec84d2ab132f",
            "value": "merges.txt: 100%"
          }
        },
        "3900b8578d404ac9b50ac0acf097e41b": {
          "model_module": "@jupyter-widgets/controls",
          "model_name": "FloatProgressModel",
          "model_module_version": "1.5.0",
          "state": {
            "_dom_classes": [],
            "_model_module": "@jupyter-widgets/controls",
            "_model_module_version": "1.5.0",
            "_model_name": "FloatProgressModel",
            "_view_count": null,
            "_view_module": "@jupyter-widgets/controls",
            "_view_module_version": "1.5.0",
            "_view_name": "ProgressView",
            "bar_style": "success",
            "description": "",
            "description_tooltip": null,
            "layout": "IPY_MODEL_a7b3c845437c4defafdfb9b2a1671a6c",
            "max": 456318,
            "min": 0,
            "orientation": "horizontal",
            "style": "IPY_MODEL_4f74d33c684b41329d6d50358f2565fb",
            "value": 456318
          }
        },
        "848ce20f4b44497d9a8c7bbfef814717": {
          "model_module": "@jupyter-widgets/controls",
          "model_name": "HTMLModel",
          "model_module_version": "1.5.0",
          "state": {
            "_dom_classes": [],
            "_model_module": "@jupyter-widgets/controls",
            "_model_module_version": "1.5.0",
            "_model_name": "HTMLModel",
            "_view_count": null,
            "_view_module": "@jupyter-widgets/controls",
            "_view_module_version": "1.5.0",
            "_view_name": "HTMLView",
            "description": "",
            "description_tooltip": null,
            "layout": "IPY_MODEL_a0f6f519de9147e287558f7dc3e588a0",
            "placeholder": "​",
            "style": "IPY_MODEL_b07b3f7908784c49ad61cbb01f01e6b2",
            "value": " 456k/456k [00:00&lt;00:00, 1.84MB/s]"
          }
        },
        "839de09209944b15bed419a871a8d10e": {
          "model_module": "@jupyter-widgets/base",
          "model_name": "LayoutModel",
          "model_module_version": "1.2.0",
          "state": {
            "_model_module": "@jupyter-widgets/base",
            "_model_module_version": "1.2.0",
            "_model_name": "LayoutModel",
            "_view_count": null,
            "_view_module": "@jupyter-widgets/base",
            "_view_module_version": "1.2.0",
            "_view_name": "LayoutView",
            "align_content": null,
            "align_items": null,
            "align_self": null,
            "border": null,
            "bottom": null,
            "display": null,
            "flex": null,
            "flex_flow": null,
            "grid_area": null,
            "grid_auto_columns": null,
            "grid_auto_flow": null,
            "grid_auto_rows": null,
            "grid_column": null,
            "grid_gap": null,
            "grid_row": null,
            "grid_template_areas": null,
            "grid_template_columns": null,
            "grid_template_rows": null,
            "height": null,
            "justify_content": null,
            "justify_items": null,
            "left": null,
            "margin": null,
            "max_height": null,
            "max_width": null,
            "min_height": null,
            "min_width": null,
            "object_fit": null,
            "object_position": null,
            "order": null,
            "overflow": null,
            "overflow_x": null,
            "overflow_y": null,
            "padding": null,
            "right": null,
            "top": null,
            "visibility": null,
            "width": null
          }
        },
        "956274e6ef454b75bd3fb5552403bf23": {
          "model_module": "@jupyter-widgets/base",
          "model_name": "LayoutModel",
          "model_module_version": "1.2.0",
          "state": {
            "_model_module": "@jupyter-widgets/base",
            "_model_module_version": "1.2.0",
            "_model_name": "LayoutModel",
            "_view_count": null,
            "_view_module": "@jupyter-widgets/base",
            "_view_module_version": "1.2.0",
            "_view_name": "LayoutView",
            "align_content": null,
            "align_items": null,
            "align_self": null,
            "border": null,
            "bottom": null,
            "display": null,
            "flex": null,
            "flex_flow": null,
            "grid_area": null,
            "grid_auto_columns": null,
            "grid_auto_flow": null,
            "grid_auto_rows": null,
            "grid_column": null,
            "grid_gap": null,
            "grid_row": null,
            "grid_template_areas": null,
            "grid_template_columns": null,
            "grid_template_rows": null,
            "height": null,
            "justify_content": null,
            "justify_items": null,
            "left": null,
            "margin": null,
            "max_height": null,
            "max_width": null,
            "min_height": null,
            "min_width": null,
            "object_fit": null,
            "object_position": null,
            "order": null,
            "overflow": null,
            "overflow_x": null,
            "overflow_y": null,
            "padding": null,
            "right": null,
            "top": null,
            "visibility": null,
            "width": null
          }
        },
        "88fa476f5f004493ac26ec84d2ab132f": {
          "model_module": "@jupyter-widgets/controls",
          "model_name": "DescriptionStyleModel",
          "model_module_version": "1.5.0",
          "state": {
            "_model_module": "@jupyter-widgets/controls",
            "_model_module_version": "1.5.0",
            "_model_name": "DescriptionStyleModel",
            "_view_count": null,
            "_view_module": "@jupyter-widgets/base",
            "_view_module_version": "1.2.0",
            "_view_name": "StyleView",
            "description_width": ""
          }
        },
        "a7b3c845437c4defafdfb9b2a1671a6c": {
          "model_module": "@jupyter-widgets/base",
          "model_name": "LayoutModel",
          "model_module_version": "1.2.0",
          "state": {
            "_model_module": "@jupyter-widgets/base",
            "_model_module_version": "1.2.0",
            "_model_name": "LayoutModel",
            "_view_count": null,
            "_view_module": "@jupyter-widgets/base",
            "_view_module_version": "1.2.0",
            "_view_name": "LayoutView",
            "align_content": null,
            "align_items": null,
            "align_self": null,
            "border": null,
            "bottom": null,
            "display": null,
            "flex": null,
            "flex_flow": null,
            "grid_area": null,
            "grid_auto_columns": null,
            "grid_auto_flow": null,
            "grid_auto_rows": null,
            "grid_column": null,
            "grid_gap": null,
            "grid_row": null,
            "grid_template_areas": null,
            "grid_template_columns": null,
            "grid_template_rows": null,
            "height": null,
            "justify_content": null,
            "justify_items": null,
            "left": null,
            "margin": null,
            "max_height": null,
            "max_width": null,
            "min_height": null,
            "min_width": null,
            "object_fit": null,
            "object_position": null,
            "order": null,
            "overflow": null,
            "overflow_x": null,
            "overflow_y": null,
            "padding": null,
            "right": null,
            "top": null,
            "visibility": null,
            "width": null
          }
        },
        "4f74d33c684b41329d6d50358f2565fb": {
          "model_module": "@jupyter-widgets/controls",
          "model_name": "ProgressStyleModel",
          "model_module_version": "1.5.0",
          "state": {
            "_model_module": "@jupyter-widgets/controls",
            "_model_module_version": "1.5.0",
            "_model_name": "ProgressStyleModel",
            "_view_count": null,
            "_view_module": "@jupyter-widgets/base",
            "_view_module_version": "1.2.0",
            "_view_name": "StyleView",
            "bar_color": null,
            "description_width": ""
          }
        },
        "a0f6f519de9147e287558f7dc3e588a0": {
          "model_module": "@jupyter-widgets/base",
          "model_name": "LayoutModel",
          "model_module_version": "1.2.0",
          "state": {
            "_model_module": "@jupyter-widgets/base",
            "_model_module_version": "1.2.0",
            "_model_name": "LayoutModel",
            "_view_count": null,
            "_view_module": "@jupyter-widgets/base",
            "_view_module_version": "1.2.0",
            "_view_name": "LayoutView",
            "align_content": null,
            "align_items": null,
            "align_self": null,
            "border": null,
            "bottom": null,
            "display": null,
            "flex": null,
            "flex_flow": null,
            "grid_area": null,
            "grid_auto_columns": null,
            "grid_auto_flow": null,
            "grid_auto_rows": null,
            "grid_column": null,
            "grid_gap": null,
            "grid_row": null,
            "grid_template_areas": null,
            "grid_template_columns": null,
            "grid_template_rows": null,
            "height": null,
            "justify_content": null,
            "justify_items": null,
            "left": null,
            "margin": null,
            "max_height": null,
            "max_width": null,
            "min_height": null,
            "min_width": null,
            "object_fit": null,
            "object_position": null,
            "order": null,
            "overflow": null,
            "overflow_x": null,
            "overflow_y": null,
            "padding": null,
            "right": null,
            "top": null,
            "visibility": null,
            "width": null
          }
        },
        "b07b3f7908784c49ad61cbb01f01e6b2": {
          "model_module": "@jupyter-widgets/controls",
          "model_name": "DescriptionStyleModel",
          "model_module_version": "1.5.0",
          "state": {
            "_model_module": "@jupyter-widgets/controls",
            "_model_module_version": "1.5.0",
            "_model_name": "DescriptionStyleModel",
            "_view_count": null,
            "_view_module": "@jupyter-widgets/base",
            "_view_module_version": "1.2.0",
            "_view_name": "StyleView",
            "description_width": ""
          }
        },
        "5f7021f8e9bf4768a21ae3ee4800d453": {
          "model_module": "@jupyter-widgets/controls",
          "model_name": "HBoxModel",
          "model_module_version": "1.5.0",
          "state": {
            "_dom_classes": [],
            "_model_module": "@jupyter-widgets/controls",
            "_model_module_version": "1.5.0",
            "_model_name": "HBoxModel",
            "_view_count": null,
            "_view_module": "@jupyter-widgets/controls",
            "_view_module_version": "1.5.0",
            "_view_name": "HBoxView",
            "box_style": "",
            "children": [
              "IPY_MODEL_4e242cd857d343ccb8f4330110aea2d5",
              "IPY_MODEL_2a8cc104b6504c14a103ecd5541be7f8",
              "IPY_MODEL_fff470d1529243149501242e6b84cbac"
            ],
            "layout": "IPY_MODEL_20891b2641ff49d1a60022399cf530ae"
          }
        },
        "4e242cd857d343ccb8f4330110aea2d5": {
          "model_module": "@jupyter-widgets/controls",
          "model_name": "HTMLModel",
          "model_module_version": "1.5.0",
          "state": {
            "_dom_classes": [],
            "_model_module": "@jupyter-widgets/controls",
            "_model_module_version": "1.5.0",
            "_model_name": "HTMLModel",
            "_view_count": null,
            "_view_module": "@jupyter-widgets/controls",
            "_view_module_version": "1.5.0",
            "_view_name": "HTMLView",
            "description": "",
            "description_tooltip": null,
            "layout": "IPY_MODEL_5a7ac5ae9bc04126be52c777e6c38d2a",
            "placeholder": "​",
            "style": "IPY_MODEL_d57ceac851484695844f3eab8f3774c4",
            "value": "tokenizer.json: 100%"
          }
        },
        "2a8cc104b6504c14a103ecd5541be7f8": {
          "model_module": "@jupyter-widgets/controls",
          "model_name": "FloatProgressModel",
          "model_module_version": "1.5.0",
          "state": {
            "_dom_classes": [],
            "_model_module": "@jupyter-widgets/controls",
            "_model_module_version": "1.5.0",
            "_model_name": "FloatProgressModel",
            "_view_count": null,
            "_view_module": "@jupyter-widgets/controls",
            "_view_module_version": "1.5.0",
            "_view_name": "ProgressView",
            "bar_style": "success",
            "description": "",
            "description_tooltip": null,
            "layout": "IPY_MODEL_902d34c41dde4c7b9b5e9ba40b16f1cd",
            "max": 1355863,
            "min": 0,
            "orientation": "horizontal",
            "style": "IPY_MODEL_dfaaf208788c4a3b8e6f56a61e3d5aed",
            "value": 1355863
          }
        },
        "fff470d1529243149501242e6b84cbac": {
          "model_module": "@jupyter-widgets/controls",
          "model_name": "HTMLModel",
          "model_module_version": "1.5.0",
          "state": {
            "_dom_classes": [],
            "_model_module": "@jupyter-widgets/controls",
            "_model_module_version": "1.5.0",
            "_model_name": "HTMLModel",
            "_view_count": null,
            "_view_module": "@jupyter-widgets/controls",
            "_view_module_version": "1.5.0",
            "_view_name": "HTMLView",
            "description": "",
            "description_tooltip": null,
            "layout": "IPY_MODEL_f53197b7041349d1bb5b7e72713613bb",
            "placeholder": "​",
            "style": "IPY_MODEL_7471bee320da4b09a4004381dcb7ae16",
            "value": " 1.36M/1.36M [00:00&lt;00:00, 4.08MB/s]"
          }
        },
        "20891b2641ff49d1a60022399cf530ae": {
          "model_module": "@jupyter-widgets/base",
          "model_name": "LayoutModel",
          "model_module_version": "1.2.0",
          "state": {
            "_model_module": "@jupyter-widgets/base",
            "_model_module_version": "1.2.0",
            "_model_name": "LayoutModel",
            "_view_count": null,
            "_view_module": "@jupyter-widgets/base",
            "_view_module_version": "1.2.0",
            "_view_name": "LayoutView",
            "align_content": null,
            "align_items": null,
            "align_self": null,
            "border": null,
            "bottom": null,
            "display": null,
            "flex": null,
            "flex_flow": null,
            "grid_area": null,
            "grid_auto_columns": null,
            "grid_auto_flow": null,
            "grid_auto_rows": null,
            "grid_column": null,
            "grid_gap": null,
            "grid_row": null,
            "grid_template_areas": null,
            "grid_template_columns": null,
            "grid_template_rows": null,
            "height": null,
            "justify_content": null,
            "justify_items": null,
            "left": null,
            "margin": null,
            "max_height": null,
            "max_width": null,
            "min_height": null,
            "min_width": null,
            "object_fit": null,
            "object_position": null,
            "order": null,
            "overflow": null,
            "overflow_x": null,
            "overflow_y": null,
            "padding": null,
            "right": null,
            "top": null,
            "visibility": null,
            "width": null
          }
        },
        "5a7ac5ae9bc04126be52c777e6c38d2a": {
          "model_module": "@jupyter-widgets/base",
          "model_name": "LayoutModel",
          "model_module_version": "1.2.0",
          "state": {
            "_model_module": "@jupyter-widgets/base",
            "_model_module_version": "1.2.0",
            "_model_name": "LayoutModel",
            "_view_count": null,
            "_view_module": "@jupyter-widgets/base",
            "_view_module_version": "1.2.0",
            "_view_name": "LayoutView",
            "align_content": null,
            "align_items": null,
            "align_self": null,
            "border": null,
            "bottom": null,
            "display": null,
            "flex": null,
            "flex_flow": null,
            "grid_area": null,
            "grid_auto_columns": null,
            "grid_auto_flow": null,
            "grid_auto_rows": null,
            "grid_column": null,
            "grid_gap": null,
            "grid_row": null,
            "grid_template_areas": null,
            "grid_template_columns": null,
            "grid_template_rows": null,
            "height": null,
            "justify_content": null,
            "justify_items": null,
            "left": null,
            "margin": null,
            "max_height": null,
            "max_width": null,
            "min_height": null,
            "min_width": null,
            "object_fit": null,
            "object_position": null,
            "order": null,
            "overflow": null,
            "overflow_x": null,
            "overflow_y": null,
            "padding": null,
            "right": null,
            "top": null,
            "visibility": null,
            "width": null
          }
        },
        "d57ceac851484695844f3eab8f3774c4": {
          "model_module": "@jupyter-widgets/controls",
          "model_name": "DescriptionStyleModel",
          "model_module_version": "1.5.0",
          "state": {
            "_model_module": "@jupyter-widgets/controls",
            "_model_module_version": "1.5.0",
            "_model_name": "DescriptionStyleModel",
            "_view_count": null,
            "_view_module": "@jupyter-widgets/base",
            "_view_module_version": "1.2.0",
            "_view_name": "StyleView",
            "description_width": ""
          }
        },
        "902d34c41dde4c7b9b5e9ba40b16f1cd": {
          "model_module": "@jupyter-widgets/base",
          "model_name": "LayoutModel",
          "model_module_version": "1.2.0",
          "state": {
            "_model_module": "@jupyter-widgets/base",
            "_model_module_version": "1.2.0",
            "_model_name": "LayoutModel",
            "_view_count": null,
            "_view_module": "@jupyter-widgets/base",
            "_view_module_version": "1.2.0",
            "_view_name": "LayoutView",
            "align_content": null,
            "align_items": null,
            "align_self": null,
            "border": null,
            "bottom": null,
            "display": null,
            "flex": null,
            "flex_flow": null,
            "grid_area": null,
            "grid_auto_columns": null,
            "grid_auto_flow": null,
            "grid_auto_rows": null,
            "grid_column": null,
            "grid_gap": null,
            "grid_row": null,
            "grid_template_areas": null,
            "grid_template_columns": null,
            "grid_template_rows": null,
            "height": null,
            "justify_content": null,
            "justify_items": null,
            "left": null,
            "margin": null,
            "max_height": null,
            "max_width": null,
            "min_height": null,
            "min_width": null,
            "object_fit": null,
            "object_position": null,
            "order": null,
            "overflow": null,
            "overflow_x": null,
            "overflow_y": null,
            "padding": null,
            "right": null,
            "top": null,
            "visibility": null,
            "width": null
          }
        },
        "dfaaf208788c4a3b8e6f56a61e3d5aed": {
          "model_module": "@jupyter-widgets/controls",
          "model_name": "ProgressStyleModel",
          "model_module_version": "1.5.0",
          "state": {
            "_model_module": "@jupyter-widgets/controls",
            "_model_module_version": "1.5.0",
            "_model_name": "ProgressStyleModel",
            "_view_count": null,
            "_view_module": "@jupyter-widgets/base",
            "_view_module_version": "1.2.0",
            "_view_name": "StyleView",
            "bar_color": null,
            "description_width": ""
          }
        },
        "f53197b7041349d1bb5b7e72713613bb": {
          "model_module": "@jupyter-widgets/base",
          "model_name": "LayoutModel",
          "model_module_version": "1.2.0",
          "state": {
            "_model_module": "@jupyter-widgets/base",
            "_model_module_version": "1.2.0",
            "_model_name": "LayoutModel",
            "_view_count": null,
            "_view_module": "@jupyter-widgets/base",
            "_view_module_version": "1.2.0",
            "_view_name": "LayoutView",
            "align_content": null,
            "align_items": null,
            "align_self": null,
            "border": null,
            "bottom": null,
            "display": null,
            "flex": null,
            "flex_flow": null,
            "grid_area": null,
            "grid_auto_columns": null,
            "grid_auto_flow": null,
            "grid_auto_rows": null,
            "grid_column": null,
            "grid_gap": null,
            "grid_row": null,
            "grid_template_areas": null,
            "grid_template_columns": null,
            "grid_template_rows": null,
            "height": null,
            "justify_content": null,
            "justify_items": null,
            "left": null,
            "margin": null,
            "max_height": null,
            "max_width": null,
            "min_height": null,
            "min_width": null,
            "object_fit": null,
            "object_position": null,
            "order": null,
            "overflow": null,
            "overflow_x": null,
            "overflow_y": null,
            "padding": null,
            "right": null,
            "top": null,
            "visibility": null,
            "width": null
          }
        },
        "7471bee320da4b09a4004381dcb7ae16": {
          "model_module": "@jupyter-widgets/controls",
          "model_name": "DescriptionStyleModel",
          "model_module_version": "1.5.0",
          "state": {
            "_model_module": "@jupyter-widgets/controls",
            "_model_module_version": "1.5.0",
            "_model_name": "DescriptionStyleModel",
            "_view_count": null,
            "_view_module": "@jupyter-widgets/base",
            "_view_module_version": "1.2.0",
            "_view_name": "StyleView",
            "description_width": ""
          }
        },
        "6d7032a27e294c55ab06ef679e273f28": {
          "model_module": "@jupyter-widgets/controls",
          "model_name": "HBoxModel",
          "model_module_version": "1.5.0",
          "state": {
            "_dom_classes": [],
            "_model_module": "@jupyter-widgets/controls",
            "_model_module_version": "1.5.0",
            "_model_name": "HBoxModel",
            "_view_count": null,
            "_view_module": "@jupyter-widgets/controls",
            "_view_module_version": "1.5.0",
            "_view_name": "HBoxView",
            "box_style": "",
            "children": [
              "IPY_MODEL_09ca3c1d1ea74de0b1a211f47e0a42a5",
              "IPY_MODEL_3824f4c4b766412ebe65dd62c9e6e372",
              "IPY_MODEL_50c58e57fbde429d86c051f043702014"
            ],
            "layout": "IPY_MODEL_704555c5233e467ea3674020f70f642f"
          }
        },
        "09ca3c1d1ea74de0b1a211f47e0a42a5": {
          "model_module": "@jupyter-widgets/controls",
          "model_name": "HTMLModel",
          "model_module_version": "1.5.0",
          "state": {
            "_dom_classes": [],
            "_model_module": "@jupyter-widgets/controls",
            "_model_module_version": "1.5.0",
            "_model_name": "HTMLModel",
            "_view_count": null,
            "_view_module": "@jupyter-widgets/controls",
            "_view_module_version": "1.5.0",
            "_view_name": "HTMLView",
            "description": "",
            "description_tooltip": null,
            "layout": "IPY_MODEL_0cb325687dd442cc968615a7d3b5807f",
            "placeholder": "​",
            "style": "IPY_MODEL_455ffe5d4d5e4199a7e594dc4ce794c7",
            "value": "Map: 100%"
          }
        },
        "3824f4c4b766412ebe65dd62c9e6e372": {
          "model_module": "@jupyter-widgets/controls",
          "model_name": "FloatProgressModel",
          "model_module_version": "1.5.0",
          "state": {
            "_dom_classes": [],
            "_model_module": "@jupyter-widgets/controls",
            "_model_module_version": "1.5.0",
            "_model_name": "FloatProgressModel",
            "_view_count": null,
            "_view_module": "@jupyter-widgets/controls",
            "_view_module_version": "1.5.0",
            "_view_name": "ProgressView",
            "bar_style": "success",
            "description": "",
            "description_tooltip": null,
            "layout": "IPY_MODEL_bf6704ac7d5b4628a0c16dc8030975c6",
            "max": 1600,
            "min": 0,
            "orientation": "horizontal",
            "style": "IPY_MODEL_918ad090cb7c4b6bb0752eac327ccf29",
            "value": 1600
          }
        },
        "50c58e57fbde429d86c051f043702014": {
          "model_module": "@jupyter-widgets/controls",
          "model_name": "HTMLModel",
          "model_module_version": "1.5.0",
          "state": {
            "_dom_classes": [],
            "_model_module": "@jupyter-widgets/controls",
            "_model_module_version": "1.5.0",
            "_model_name": "HTMLModel",
            "_view_count": null,
            "_view_module": "@jupyter-widgets/controls",
            "_view_module_version": "1.5.0",
            "_view_name": "HTMLView",
            "description": "",
            "description_tooltip": null,
            "layout": "IPY_MODEL_f860f04aeb554e2a8d747d87d6e2c65f",
            "placeholder": "​",
            "style": "IPY_MODEL_4dd6065dca7c46f68e65349ac33497d9",
            "value": " 1600/1600 [00:04&lt;00:00, 375.89 examples/s]"
          }
        },
        "704555c5233e467ea3674020f70f642f": {
          "model_module": "@jupyter-widgets/base",
          "model_name": "LayoutModel",
          "model_module_version": "1.2.0",
          "state": {
            "_model_module": "@jupyter-widgets/base",
            "_model_module_version": "1.2.0",
            "_model_name": "LayoutModel",
            "_view_count": null,
            "_view_module": "@jupyter-widgets/base",
            "_view_module_version": "1.2.0",
            "_view_name": "LayoutView",
            "align_content": null,
            "align_items": null,
            "align_self": null,
            "border": null,
            "bottom": null,
            "display": null,
            "flex": null,
            "flex_flow": null,
            "grid_area": null,
            "grid_auto_columns": null,
            "grid_auto_flow": null,
            "grid_auto_rows": null,
            "grid_column": null,
            "grid_gap": null,
            "grid_row": null,
            "grid_template_areas": null,
            "grid_template_columns": null,
            "grid_template_rows": null,
            "height": null,
            "justify_content": null,
            "justify_items": null,
            "left": null,
            "margin": null,
            "max_height": null,
            "max_width": null,
            "min_height": null,
            "min_width": null,
            "object_fit": null,
            "object_position": null,
            "order": null,
            "overflow": null,
            "overflow_x": null,
            "overflow_y": null,
            "padding": null,
            "right": null,
            "top": null,
            "visibility": null,
            "width": null
          }
        },
        "0cb325687dd442cc968615a7d3b5807f": {
          "model_module": "@jupyter-widgets/base",
          "model_name": "LayoutModel",
          "model_module_version": "1.2.0",
          "state": {
            "_model_module": "@jupyter-widgets/base",
            "_model_module_version": "1.2.0",
            "_model_name": "LayoutModel",
            "_view_count": null,
            "_view_module": "@jupyter-widgets/base",
            "_view_module_version": "1.2.0",
            "_view_name": "LayoutView",
            "align_content": null,
            "align_items": null,
            "align_self": null,
            "border": null,
            "bottom": null,
            "display": null,
            "flex": null,
            "flex_flow": null,
            "grid_area": null,
            "grid_auto_columns": null,
            "grid_auto_flow": null,
            "grid_auto_rows": null,
            "grid_column": null,
            "grid_gap": null,
            "grid_row": null,
            "grid_template_areas": null,
            "grid_template_columns": null,
            "grid_template_rows": null,
            "height": null,
            "justify_content": null,
            "justify_items": null,
            "left": null,
            "margin": null,
            "max_height": null,
            "max_width": null,
            "min_height": null,
            "min_width": null,
            "object_fit": null,
            "object_position": null,
            "order": null,
            "overflow": null,
            "overflow_x": null,
            "overflow_y": null,
            "padding": null,
            "right": null,
            "top": null,
            "visibility": null,
            "width": null
          }
        },
        "455ffe5d4d5e4199a7e594dc4ce794c7": {
          "model_module": "@jupyter-widgets/controls",
          "model_name": "DescriptionStyleModel",
          "model_module_version": "1.5.0",
          "state": {
            "_model_module": "@jupyter-widgets/controls",
            "_model_module_version": "1.5.0",
            "_model_name": "DescriptionStyleModel",
            "_view_count": null,
            "_view_module": "@jupyter-widgets/base",
            "_view_module_version": "1.2.0",
            "_view_name": "StyleView",
            "description_width": ""
          }
        },
        "bf6704ac7d5b4628a0c16dc8030975c6": {
          "model_module": "@jupyter-widgets/base",
          "model_name": "LayoutModel",
          "model_module_version": "1.2.0",
          "state": {
            "_model_module": "@jupyter-widgets/base",
            "_model_module_version": "1.2.0",
            "_model_name": "LayoutModel",
            "_view_count": null,
            "_view_module": "@jupyter-widgets/base",
            "_view_module_version": "1.2.0",
            "_view_name": "LayoutView",
            "align_content": null,
            "align_items": null,
            "align_self": null,
            "border": null,
            "bottom": null,
            "display": null,
            "flex": null,
            "flex_flow": null,
            "grid_area": null,
            "grid_auto_columns": null,
            "grid_auto_flow": null,
            "grid_auto_rows": null,
            "grid_column": null,
            "grid_gap": null,
            "grid_row": null,
            "grid_template_areas": null,
            "grid_template_columns": null,
            "grid_template_rows": null,
            "height": null,
            "justify_content": null,
            "justify_items": null,
            "left": null,
            "margin": null,
            "max_height": null,
            "max_width": null,
            "min_height": null,
            "min_width": null,
            "object_fit": null,
            "object_position": null,
            "order": null,
            "overflow": null,
            "overflow_x": null,
            "overflow_y": null,
            "padding": null,
            "right": null,
            "top": null,
            "visibility": null,
            "width": null
          }
        },
        "918ad090cb7c4b6bb0752eac327ccf29": {
          "model_module": "@jupyter-widgets/controls",
          "model_name": "ProgressStyleModel",
          "model_module_version": "1.5.0",
          "state": {
            "_model_module": "@jupyter-widgets/controls",
            "_model_module_version": "1.5.0",
            "_model_name": "ProgressStyleModel",
            "_view_count": null,
            "_view_module": "@jupyter-widgets/base",
            "_view_module_version": "1.2.0",
            "_view_name": "StyleView",
            "bar_color": null,
            "description_width": ""
          }
        },
        "f860f04aeb554e2a8d747d87d6e2c65f": {
          "model_module": "@jupyter-widgets/base",
          "model_name": "LayoutModel",
          "model_module_version": "1.2.0",
          "state": {
            "_model_module": "@jupyter-widgets/base",
            "_model_module_version": "1.2.0",
            "_model_name": "LayoutModel",
            "_view_count": null,
            "_view_module": "@jupyter-widgets/base",
            "_view_module_version": "1.2.0",
            "_view_name": "LayoutView",
            "align_content": null,
            "align_items": null,
            "align_self": null,
            "border": null,
            "bottom": null,
            "display": null,
            "flex": null,
            "flex_flow": null,
            "grid_area": null,
            "grid_auto_columns": null,
            "grid_auto_flow": null,
            "grid_auto_rows": null,
            "grid_column": null,
            "grid_gap": null,
            "grid_row": null,
            "grid_template_areas": null,
            "grid_template_columns": null,
            "grid_template_rows": null,
            "height": null,
            "justify_content": null,
            "justify_items": null,
            "left": null,
            "margin": null,
            "max_height": null,
            "max_width": null,
            "min_height": null,
            "min_width": null,
            "object_fit": null,
            "object_position": null,
            "order": null,
            "overflow": null,
            "overflow_x": null,
            "overflow_y": null,
            "padding": null,
            "right": null,
            "top": null,
            "visibility": null,
            "width": null
          }
        },
        "4dd6065dca7c46f68e65349ac33497d9": {
          "model_module": "@jupyter-widgets/controls",
          "model_name": "DescriptionStyleModel",
          "model_module_version": "1.5.0",
          "state": {
            "_model_module": "@jupyter-widgets/controls",
            "_model_module_version": "1.5.0",
            "_model_name": "DescriptionStyleModel",
            "_view_count": null,
            "_view_module": "@jupyter-widgets/base",
            "_view_module_version": "1.2.0",
            "_view_name": "StyleView",
            "description_width": ""
          }
        },
        "2552ecbec74e466f838111f060440436": {
          "model_module": "@jupyter-widgets/controls",
          "model_name": "HBoxModel",
          "model_module_version": "1.5.0",
          "state": {
            "_dom_classes": [],
            "_model_module": "@jupyter-widgets/controls",
            "_model_module_version": "1.5.0",
            "_model_name": "HBoxModel",
            "_view_count": null,
            "_view_module": "@jupyter-widgets/controls",
            "_view_module_version": "1.5.0",
            "_view_name": "HBoxView",
            "box_style": "",
            "children": [
              "IPY_MODEL_ba271ce8522f417ba80b9b07267cb8e4",
              "IPY_MODEL_e50157701796400db3be3d2e2e339831",
              "IPY_MODEL_31fec75c6f284846a2c7f59b3f1b036b"
            ],
            "layout": "IPY_MODEL_30a735a6ec0240c6ae3d1b540e95cbc1"
          }
        },
        "ba271ce8522f417ba80b9b07267cb8e4": {
          "model_module": "@jupyter-widgets/controls",
          "model_name": "HTMLModel",
          "model_module_version": "1.5.0",
          "state": {
            "_dom_classes": [],
            "_model_module": "@jupyter-widgets/controls",
            "_model_module_version": "1.5.0",
            "_model_name": "HTMLModel",
            "_view_count": null,
            "_view_module": "@jupyter-widgets/controls",
            "_view_module_version": "1.5.0",
            "_view_name": "HTMLView",
            "description": "",
            "description_tooltip": null,
            "layout": "IPY_MODEL_9e324f32fa0e4e9299d98d8d308129e3",
            "placeholder": "​",
            "style": "IPY_MODEL_720186084a2c4c528c0b329eb3fc3ab5",
            "value": "Map: 100%"
          }
        },
        "e50157701796400db3be3d2e2e339831": {
          "model_module": "@jupyter-widgets/controls",
          "model_name": "FloatProgressModel",
          "model_module_version": "1.5.0",
          "state": {
            "_dom_classes": [],
            "_model_module": "@jupyter-widgets/controls",
            "_model_module_version": "1.5.0",
            "_model_name": "FloatProgressModel",
            "_view_count": null,
            "_view_module": "@jupyter-widgets/controls",
            "_view_module_version": "1.5.0",
            "_view_name": "ProgressView",
            "bar_style": "success",
            "description": "",
            "description_tooltip": null,
            "layout": "IPY_MODEL_c180793eb697415b8753b58303e49013",
            "max": 401,
            "min": 0,
            "orientation": "horizontal",
            "style": "IPY_MODEL_16df72902fa040a9813702ca9c70ff5c",
            "value": 401
          }
        },
        "31fec75c6f284846a2c7f59b3f1b036b": {
          "model_module": "@jupyter-widgets/controls",
          "model_name": "HTMLModel",
          "model_module_version": "1.5.0",
          "state": {
            "_dom_classes": [],
            "_model_module": "@jupyter-widgets/controls",
            "_model_module_version": "1.5.0",
            "_model_name": "HTMLModel",
            "_view_count": null,
            "_view_module": "@jupyter-widgets/controls",
            "_view_module_version": "1.5.0",
            "_view_name": "HTMLView",
            "description": "",
            "description_tooltip": null,
            "layout": "IPY_MODEL_cafb68876b1249d79b3e6f1b29d591c1",
            "placeholder": "​",
            "style": "IPY_MODEL_f002f17991d64dd68b67b7bf2b7ccf9b",
            "value": " 401/401 [00:01&lt;00:00, 321.59 examples/s]"
          }
        },
        "30a735a6ec0240c6ae3d1b540e95cbc1": {
          "model_module": "@jupyter-widgets/base",
          "model_name": "LayoutModel",
          "model_module_version": "1.2.0",
          "state": {
            "_model_module": "@jupyter-widgets/base",
            "_model_module_version": "1.2.0",
            "_model_name": "LayoutModel",
            "_view_count": null,
            "_view_module": "@jupyter-widgets/base",
            "_view_module_version": "1.2.0",
            "_view_name": "LayoutView",
            "align_content": null,
            "align_items": null,
            "align_self": null,
            "border": null,
            "bottom": null,
            "display": null,
            "flex": null,
            "flex_flow": null,
            "grid_area": null,
            "grid_auto_columns": null,
            "grid_auto_flow": null,
            "grid_auto_rows": null,
            "grid_column": null,
            "grid_gap": null,
            "grid_row": null,
            "grid_template_areas": null,
            "grid_template_columns": null,
            "grid_template_rows": null,
            "height": null,
            "justify_content": null,
            "justify_items": null,
            "left": null,
            "margin": null,
            "max_height": null,
            "max_width": null,
            "min_height": null,
            "min_width": null,
            "object_fit": null,
            "object_position": null,
            "order": null,
            "overflow": null,
            "overflow_x": null,
            "overflow_y": null,
            "padding": null,
            "right": null,
            "top": null,
            "visibility": null,
            "width": null
          }
        },
        "9e324f32fa0e4e9299d98d8d308129e3": {
          "model_module": "@jupyter-widgets/base",
          "model_name": "LayoutModel",
          "model_module_version": "1.2.0",
          "state": {
            "_model_module": "@jupyter-widgets/base",
            "_model_module_version": "1.2.0",
            "_model_name": "LayoutModel",
            "_view_count": null,
            "_view_module": "@jupyter-widgets/base",
            "_view_module_version": "1.2.0",
            "_view_name": "LayoutView",
            "align_content": null,
            "align_items": null,
            "align_self": null,
            "border": null,
            "bottom": null,
            "display": null,
            "flex": null,
            "flex_flow": null,
            "grid_area": null,
            "grid_auto_columns": null,
            "grid_auto_flow": null,
            "grid_auto_rows": null,
            "grid_column": null,
            "grid_gap": null,
            "grid_row": null,
            "grid_template_areas": null,
            "grid_template_columns": null,
            "grid_template_rows": null,
            "height": null,
            "justify_content": null,
            "justify_items": null,
            "left": null,
            "margin": null,
            "max_height": null,
            "max_width": null,
            "min_height": null,
            "min_width": null,
            "object_fit": null,
            "object_position": null,
            "order": null,
            "overflow": null,
            "overflow_x": null,
            "overflow_y": null,
            "padding": null,
            "right": null,
            "top": null,
            "visibility": null,
            "width": null
          }
        },
        "720186084a2c4c528c0b329eb3fc3ab5": {
          "model_module": "@jupyter-widgets/controls",
          "model_name": "DescriptionStyleModel",
          "model_module_version": "1.5.0",
          "state": {
            "_model_module": "@jupyter-widgets/controls",
            "_model_module_version": "1.5.0",
            "_model_name": "DescriptionStyleModel",
            "_view_count": null,
            "_view_module": "@jupyter-widgets/base",
            "_view_module_version": "1.2.0",
            "_view_name": "StyleView",
            "description_width": ""
          }
        },
        "c180793eb697415b8753b58303e49013": {
          "model_module": "@jupyter-widgets/base",
          "model_name": "LayoutModel",
          "model_module_version": "1.2.0",
          "state": {
            "_model_module": "@jupyter-widgets/base",
            "_model_module_version": "1.2.0",
            "_model_name": "LayoutModel",
            "_view_count": null,
            "_view_module": "@jupyter-widgets/base",
            "_view_module_version": "1.2.0",
            "_view_name": "LayoutView",
            "align_content": null,
            "align_items": null,
            "align_self": null,
            "border": null,
            "bottom": null,
            "display": null,
            "flex": null,
            "flex_flow": null,
            "grid_area": null,
            "grid_auto_columns": null,
            "grid_auto_flow": null,
            "grid_auto_rows": null,
            "grid_column": null,
            "grid_gap": null,
            "grid_row": null,
            "grid_template_areas": null,
            "grid_template_columns": null,
            "grid_template_rows": null,
            "height": null,
            "justify_content": null,
            "justify_items": null,
            "left": null,
            "margin": null,
            "max_height": null,
            "max_width": null,
            "min_height": null,
            "min_width": null,
            "object_fit": null,
            "object_position": null,
            "order": null,
            "overflow": null,
            "overflow_x": null,
            "overflow_y": null,
            "padding": null,
            "right": null,
            "top": null,
            "visibility": null,
            "width": null
          }
        },
        "16df72902fa040a9813702ca9c70ff5c": {
          "model_module": "@jupyter-widgets/controls",
          "model_name": "ProgressStyleModel",
          "model_module_version": "1.5.0",
          "state": {
            "_model_module": "@jupyter-widgets/controls",
            "_model_module_version": "1.5.0",
            "_model_name": "ProgressStyleModel",
            "_view_count": null,
            "_view_module": "@jupyter-widgets/base",
            "_view_module_version": "1.2.0",
            "_view_name": "StyleView",
            "bar_color": null,
            "description_width": ""
          }
        },
        "cafb68876b1249d79b3e6f1b29d591c1": {
          "model_module": "@jupyter-widgets/base",
          "model_name": "LayoutModel",
          "model_module_version": "1.2.0",
          "state": {
            "_model_module": "@jupyter-widgets/base",
            "_model_module_version": "1.2.0",
            "_model_name": "LayoutModel",
            "_view_count": null,
            "_view_module": "@jupyter-widgets/base",
            "_view_module_version": "1.2.0",
            "_view_name": "LayoutView",
            "align_content": null,
            "align_items": null,
            "align_self": null,
            "border": null,
            "bottom": null,
            "display": null,
            "flex": null,
            "flex_flow": null,
            "grid_area": null,
            "grid_auto_columns": null,
            "grid_auto_flow": null,
            "grid_auto_rows": null,
            "grid_column": null,
            "grid_gap": null,
            "grid_row": null,
            "grid_template_areas": null,
            "grid_template_columns": null,
            "grid_template_rows": null,
            "height": null,
            "justify_content": null,
            "justify_items": null,
            "left": null,
            "margin": null,
            "max_height": null,
            "max_width": null,
            "min_height": null,
            "min_width": null,
            "object_fit": null,
            "object_position": null,
            "order": null,
            "overflow": null,
            "overflow_x": null,
            "overflow_y": null,
            "padding": null,
            "right": null,
            "top": null,
            "visibility": null,
            "width": null
          }
        },
        "f002f17991d64dd68b67b7bf2b7ccf9b": {
          "model_module": "@jupyter-widgets/controls",
          "model_name": "DescriptionStyleModel",
          "model_module_version": "1.5.0",
          "state": {
            "_model_module": "@jupyter-widgets/controls",
            "_model_module_version": "1.5.0",
            "_model_name": "DescriptionStyleModel",
            "_view_count": null,
            "_view_module": "@jupyter-widgets/base",
            "_view_module_version": "1.2.0",
            "_view_name": "StyleView",
            "description_width": ""
          }
        }
      }
    },
    "accelerator": "GPU"
  },
  "cells": [
    {
      "cell_type": "markdown",
      "source": [
        "## Load Required Packages & Tools...\n",
        "\n"
      ],
      "metadata": {
        "id": "UgmUTtPHaKxo"
      }
    },
    {
      "cell_type": "code",
      "execution_count": null,
      "metadata": {
        "id": "ONkyXG_OZgZW"
      },
      "outputs": [],
      "source": [
        "import nltk\n",
        "import pickle\n",
        "import json\n",
        "import pandas as pd\n",
        "import numpy as np\n",
        "import matplotlib.pyplot as plt\n",
        "import statistics"
      ]
    },
    {
      "cell_type": "code",
      "source": [
        "wdir = '/content/drive/MyDrive/BMI_6330-Natural_Language_Processing'\n",
        "out_dir = '/content/drive/MyDrive/BMI_6330-Natural_Language_Processing/heuristic_model/output_data/'"
      ],
      "metadata": {
        "id": "MaRzHPLbmOkW"
      },
      "execution_count": null,
      "outputs": []
    },
    {
      "cell_type": "code",
      "source": [
        "#!pip install mendelai-brat-parser\n",
        "#from brat_parser import get_entities_relations_attributes_groups"
      ],
      "metadata": {
        "id": "9W50EhSyZ6tF"
      },
      "execution_count": null,
      "outputs": []
    },
    {
      "cell_type": "markdown",
      "source": [
        "## Read in Training/Test Datasets & View Data"
      ],
      "metadata": {
        "id": "3I05Ca43aS-t"
      }
    },
    {
      "cell_type": "code",
      "source": [
        "from google.colab import drive\n",
        "drive.mount('/content/drive')\n",
        "\n",
        "train = pd.read_csv(wdir+\"/TRAIN.csv\")\n",
        "test = pd.read_csv(wdir+\"/TEST.csv\")\n",
        "\n",
        "train.drop(labels=\"Unnamed: 0\",axis=1, inplace=True)\n",
        "test.drop(labels=\"Unnamed: 0\",axis=1, inplace=True)\n",
        "\n",
        "print('Number of Posts in Training Set: ' + str(len(train)) + \" + Number of Posts in Test Set: \" + str(len(test)))"
      ],
      "metadata": {
        "colab": {
          "base_uri": "https://localhost:8080/"
        },
        "id": "X4l14WhKaSPL",
        "outputId": "740a1c24-ce9c-4454-be86-1b23a224d054"
      },
      "execution_count": null,
      "outputs": [
        {
          "output_type": "stream",
          "name": "stdout",
          "text": [
            "Mounted at /content/drive\n",
            "Number of Posts in Training Set: 1600 + Number of Posts in Test Set: 401\n"
          ]
        }
      ]
    },
    {
      "cell_type": "code",
      "source": [
        "train.head()"
      ],
      "metadata": {
        "colab": {
          "base_uri": "https://localhost:8080/",
          "height": 786
        },
        "id": "q-TP4ZqCbCY3",
        "outputId": "63f07647-4aec-4f3a-c10f-77a6ec57fd84"
      },
      "execution_count": null,
      "outputs": [
        {
          "output_type": "execute_result",
          "data": {
            "text/plain": [
              "       ID                                               text  Non_Medical_Use  \\\n",
              "0  TN_401  this might seem like a silly post - but i've o...                0   \n",
              "1  TN_402  i've been off of it for over 3 years (personal...                1   \n",
              "2  TN_403  i’m so confused! please has anyone felt this? ...                0   \n",
              "3  TN_404  i’m on 5mg, but will take 10mg when needed in ...                0   \n",
              "4  TN_405  hey all,so i recently got diagnosed with adhd ...                0   \n",
              "\n",
              "   Withdrawl  Tolerance                                           Entities  \\\n",
              "0          0          0  {'T1': Entity(id='T1', type='ADHD', span=((499...   \n",
              "1          0          0  {'T1': Entity(id='T1', type='Adderall', span=(...   \n",
              "2          1          0                                                 {}   \n",
              "3          0          0  {'T1': Entity(id='T1', type='Anxiety', span=((...   \n",
              "4          0          0  {'T1': Entity(id='T1', type='ADHD', span=((41,...   \n",
              "\n",
              "                                               Class                Start  \\\n",
              "0  ['ADHD', 'Prescription_Stimulants', 'Prescript...       [499, 58, 879]   \n",
              "1                                       ['Adderall']                [289]   \n",
              "2                                                 []                   []   \n",
              "3         ['Anxiety', 'Adderall', 'Anxiety', 'ADHD']  [85, 104, 401, 977]   \n",
              "4                               ['ADHD', 'Adderall']             [41, 65]   \n",
              "\n",
              "                   End  \n",
              "0       [503, 62, 883]  \n",
              "1                [292]  \n",
              "2                   []  \n",
              "3  [92, 112, 408, 980]  \n",
              "4             [45, 73]  "
            ],
            "text/html": [
              "\n",
              "  <div id=\"df-a0844918-2ecf-4442-ba9f-7448ca3d6c6f\" class=\"colab-df-container\">\n",
              "    <div>\n",
              "<style scoped>\n",
              "    .dataframe tbody tr th:only-of-type {\n",
              "        vertical-align: middle;\n",
              "    }\n",
              "\n",
              "    .dataframe tbody tr th {\n",
              "        vertical-align: top;\n",
              "    }\n",
              "\n",
              "    .dataframe thead th {\n",
              "        text-align: right;\n",
              "    }\n",
              "</style>\n",
              "<table border=\"1\" class=\"dataframe\">\n",
              "  <thead>\n",
              "    <tr style=\"text-align: right;\">\n",
              "      <th></th>\n",
              "      <th>ID</th>\n",
              "      <th>text</th>\n",
              "      <th>Non_Medical_Use</th>\n",
              "      <th>Withdrawl</th>\n",
              "      <th>Tolerance</th>\n",
              "      <th>Entities</th>\n",
              "      <th>Class</th>\n",
              "      <th>Start</th>\n",
              "      <th>End</th>\n",
              "    </tr>\n",
              "  </thead>\n",
              "  <tbody>\n",
              "    <tr>\n",
              "      <th>0</th>\n",
              "      <td>TN_401</td>\n",
              "      <td>this might seem like a silly post - but i've o...</td>\n",
              "      <td>0</td>\n",
              "      <td>0</td>\n",
              "      <td>0</td>\n",
              "      <td>{'T1': Entity(id='T1', type='ADHD', span=((499...</td>\n",
              "      <td>['ADHD', 'Prescription_Stimulants', 'Prescript...</td>\n",
              "      <td>[499, 58, 879]</td>\n",
              "      <td>[503, 62, 883]</td>\n",
              "    </tr>\n",
              "    <tr>\n",
              "      <th>1</th>\n",
              "      <td>TN_402</td>\n",
              "      <td>i've been off of it for over 3 years (personal...</td>\n",
              "      <td>1</td>\n",
              "      <td>0</td>\n",
              "      <td>0</td>\n",
              "      <td>{'T1': Entity(id='T1', type='Adderall', span=(...</td>\n",
              "      <td>['Adderall']</td>\n",
              "      <td>[289]</td>\n",
              "      <td>[292]</td>\n",
              "    </tr>\n",
              "    <tr>\n",
              "      <th>2</th>\n",
              "      <td>TN_403</td>\n",
              "      <td>i’m so confused! please has anyone felt this? ...</td>\n",
              "      <td>0</td>\n",
              "      <td>1</td>\n",
              "      <td>0</td>\n",
              "      <td>{}</td>\n",
              "      <td>[]</td>\n",
              "      <td>[]</td>\n",
              "      <td>[]</td>\n",
              "    </tr>\n",
              "    <tr>\n",
              "      <th>3</th>\n",
              "      <td>TN_404</td>\n",
              "      <td>i’m on 5mg, but will take 10mg when needed in ...</td>\n",
              "      <td>0</td>\n",
              "      <td>0</td>\n",
              "      <td>0</td>\n",
              "      <td>{'T1': Entity(id='T1', type='Anxiety', span=((...</td>\n",
              "      <td>['Anxiety', 'Adderall', 'Anxiety', 'ADHD']</td>\n",
              "      <td>[85, 104, 401, 977]</td>\n",
              "      <td>[92, 112, 408, 980]</td>\n",
              "    </tr>\n",
              "    <tr>\n",
              "      <th>4</th>\n",
              "      <td>TN_405</td>\n",
              "      <td>hey all,so i recently got diagnosed with adhd ...</td>\n",
              "      <td>0</td>\n",
              "      <td>0</td>\n",
              "      <td>0</td>\n",
              "      <td>{'T1': Entity(id='T1', type='ADHD', span=((41,...</td>\n",
              "      <td>['ADHD', 'Adderall']</td>\n",
              "      <td>[41, 65]</td>\n",
              "      <td>[45, 73]</td>\n",
              "    </tr>\n",
              "  </tbody>\n",
              "</table>\n",
              "</div>\n",
              "    <div class=\"colab-df-buttons\">\n",
              "\n",
              "  <div class=\"colab-df-container\">\n",
              "    <button class=\"colab-df-convert\" onclick=\"convertToInteractive('df-a0844918-2ecf-4442-ba9f-7448ca3d6c6f')\"\n",
              "            title=\"Convert this dataframe to an interactive table.\"\n",
              "            style=\"display:none;\">\n",
              "\n",
              "  <svg xmlns=\"http://www.w3.org/2000/svg\" height=\"24px\" viewBox=\"0 -960 960 960\">\n",
              "    <path d=\"M120-120v-720h720v720H120Zm60-500h600v-160H180v160Zm220 220h160v-160H400v160Zm0 220h160v-160H400v160ZM180-400h160v-160H180v160Zm440 0h160v-160H620v160ZM180-180h160v-160H180v160Zm440 0h160v-160H620v160Z\"/>\n",
              "  </svg>\n",
              "    </button>\n",
              "\n",
              "  <style>\n",
              "    .colab-df-container {\n",
              "      display:flex;\n",
              "      gap: 12px;\n",
              "    }\n",
              "\n",
              "    .colab-df-convert {\n",
              "      background-color: #E8F0FE;\n",
              "      border: none;\n",
              "      border-radius: 50%;\n",
              "      cursor: pointer;\n",
              "      display: none;\n",
              "      fill: #1967D2;\n",
              "      height: 32px;\n",
              "      padding: 0 0 0 0;\n",
              "      width: 32px;\n",
              "    }\n",
              "\n",
              "    .colab-df-convert:hover {\n",
              "      background-color: #E2EBFA;\n",
              "      box-shadow: 0px 1px 2px rgba(60, 64, 67, 0.3), 0px 1px 3px 1px rgba(60, 64, 67, 0.15);\n",
              "      fill: #174EA6;\n",
              "    }\n",
              "\n",
              "    .colab-df-buttons div {\n",
              "      margin-bottom: 4px;\n",
              "    }\n",
              "\n",
              "    [theme=dark] .colab-df-convert {\n",
              "      background-color: #3B4455;\n",
              "      fill: #D2E3FC;\n",
              "    }\n",
              "\n",
              "    [theme=dark] .colab-df-convert:hover {\n",
              "      background-color: #434B5C;\n",
              "      box-shadow: 0px 1px 3px 1px rgba(0, 0, 0, 0.15);\n",
              "      filter: drop-shadow(0px 1px 2px rgba(0, 0, 0, 0.3));\n",
              "      fill: #FFFFFF;\n",
              "    }\n",
              "  </style>\n",
              "\n",
              "    <script>\n",
              "      const buttonEl =\n",
              "        document.querySelector('#df-a0844918-2ecf-4442-ba9f-7448ca3d6c6f button.colab-df-convert');\n",
              "      buttonEl.style.display =\n",
              "        google.colab.kernel.accessAllowed ? 'block' : 'none';\n",
              "\n",
              "      async function convertToInteractive(key) {\n",
              "        const element = document.querySelector('#df-a0844918-2ecf-4442-ba9f-7448ca3d6c6f');\n",
              "        const dataTable =\n",
              "          await google.colab.kernel.invokeFunction('convertToInteractive',\n",
              "                                                    [key], {});\n",
              "        if (!dataTable) return;\n",
              "\n",
              "        const docLinkHtml = 'Like what you see? Visit the ' +\n",
              "          '<a target=\"_blank\" href=https://colab.research.google.com/notebooks/data_table.ipynb>data table notebook</a>'\n",
              "          + ' to learn more about interactive tables.';\n",
              "        element.innerHTML = '';\n",
              "        dataTable['output_type'] = 'display_data';\n",
              "        await google.colab.output.renderOutput(dataTable, element);\n",
              "        const docLink = document.createElement('div');\n",
              "        docLink.innerHTML = docLinkHtml;\n",
              "        element.appendChild(docLink);\n",
              "      }\n",
              "    </script>\n",
              "  </div>\n",
              "\n",
              "\n",
              "<div id=\"df-1c6fe180-201e-4579-8e80-c2867f9dd8dd\">\n",
              "  <button class=\"colab-df-quickchart\" onclick=\"quickchart('df-1c6fe180-201e-4579-8e80-c2867f9dd8dd')\"\n",
              "            title=\"Suggest charts\"\n",
              "            style=\"display:none;\">\n",
              "\n",
              "<svg xmlns=\"http://www.w3.org/2000/svg\" height=\"24px\"viewBox=\"0 0 24 24\"\n",
              "     width=\"24px\">\n",
              "    <g>\n",
              "        <path d=\"M19 3H5c-1.1 0-2 .9-2 2v14c0 1.1.9 2 2 2h14c1.1 0 2-.9 2-2V5c0-1.1-.9-2-2-2zM9 17H7v-7h2v7zm4 0h-2V7h2v10zm4 0h-2v-4h2v4z\"/>\n",
              "    </g>\n",
              "</svg>\n",
              "  </button>\n",
              "\n",
              "<style>\n",
              "  .colab-df-quickchart {\n",
              "      --bg-color: #E8F0FE;\n",
              "      --fill-color: #1967D2;\n",
              "      --hover-bg-color: #E2EBFA;\n",
              "      --hover-fill-color: #174EA6;\n",
              "      --disabled-fill-color: #AAA;\n",
              "      --disabled-bg-color: #DDD;\n",
              "  }\n",
              "\n",
              "  [theme=dark] .colab-df-quickchart {\n",
              "      --bg-color: #3B4455;\n",
              "      --fill-color: #D2E3FC;\n",
              "      --hover-bg-color: #434B5C;\n",
              "      --hover-fill-color: #FFFFFF;\n",
              "      --disabled-bg-color: #3B4455;\n",
              "      --disabled-fill-color: #666;\n",
              "  }\n",
              "\n",
              "  .colab-df-quickchart {\n",
              "    background-color: var(--bg-color);\n",
              "    border: none;\n",
              "    border-radius: 50%;\n",
              "    cursor: pointer;\n",
              "    display: none;\n",
              "    fill: var(--fill-color);\n",
              "    height: 32px;\n",
              "    padding: 0;\n",
              "    width: 32px;\n",
              "  }\n",
              "\n",
              "  .colab-df-quickchart:hover {\n",
              "    background-color: var(--hover-bg-color);\n",
              "    box-shadow: 0 1px 2px rgba(60, 64, 67, 0.3), 0 1px 3px 1px rgba(60, 64, 67, 0.15);\n",
              "    fill: var(--button-hover-fill-color);\n",
              "  }\n",
              "\n",
              "  .colab-df-quickchart-complete:disabled,\n",
              "  .colab-df-quickchart-complete:disabled:hover {\n",
              "    background-color: var(--disabled-bg-color);\n",
              "    fill: var(--disabled-fill-color);\n",
              "    box-shadow: none;\n",
              "  }\n",
              "\n",
              "  .colab-df-spinner {\n",
              "    border: 2px solid var(--fill-color);\n",
              "    border-color: transparent;\n",
              "    border-bottom-color: var(--fill-color);\n",
              "    animation:\n",
              "      spin 1s steps(1) infinite;\n",
              "  }\n",
              "\n",
              "  @keyframes spin {\n",
              "    0% {\n",
              "      border-color: transparent;\n",
              "      border-bottom-color: var(--fill-color);\n",
              "      border-left-color: var(--fill-color);\n",
              "    }\n",
              "    20% {\n",
              "      border-color: transparent;\n",
              "      border-left-color: var(--fill-color);\n",
              "      border-top-color: var(--fill-color);\n",
              "    }\n",
              "    30% {\n",
              "      border-color: transparent;\n",
              "      border-left-color: var(--fill-color);\n",
              "      border-top-color: var(--fill-color);\n",
              "      border-right-color: var(--fill-color);\n",
              "    }\n",
              "    40% {\n",
              "      border-color: transparent;\n",
              "      border-right-color: var(--fill-color);\n",
              "      border-top-color: var(--fill-color);\n",
              "    }\n",
              "    60% {\n",
              "      border-color: transparent;\n",
              "      border-right-color: var(--fill-color);\n",
              "    }\n",
              "    80% {\n",
              "      border-color: transparent;\n",
              "      border-right-color: var(--fill-color);\n",
              "      border-bottom-color: var(--fill-color);\n",
              "    }\n",
              "    90% {\n",
              "      border-color: transparent;\n",
              "      border-bottom-color: var(--fill-color);\n",
              "    }\n",
              "  }\n",
              "</style>\n",
              "\n",
              "  <script>\n",
              "    async function quickchart(key) {\n",
              "      const quickchartButtonEl =\n",
              "        document.querySelector('#' + key + ' button');\n",
              "      quickchartButtonEl.disabled = true;  // To prevent multiple clicks.\n",
              "      quickchartButtonEl.classList.add('colab-df-spinner');\n",
              "      try {\n",
              "        const charts = await google.colab.kernel.invokeFunction(\n",
              "            'suggestCharts', [key], {});\n",
              "      } catch (error) {\n",
              "        console.error('Error during call to suggestCharts:', error);\n",
              "      }\n",
              "      quickchartButtonEl.classList.remove('colab-df-spinner');\n",
              "      quickchartButtonEl.classList.add('colab-df-quickchart-complete');\n",
              "    }\n",
              "    (() => {\n",
              "      let quickchartButtonEl =\n",
              "        document.querySelector('#df-1c6fe180-201e-4579-8e80-c2867f9dd8dd button');\n",
              "      quickchartButtonEl.style.display =\n",
              "        google.colab.kernel.accessAllowed ? 'block' : 'none';\n",
              "    })();\n",
              "  </script>\n",
              "</div>\n",
              "\n",
              "    </div>\n",
              "  </div>\n"
            ],
            "application/vnd.google.colaboratory.intrinsic+json": {
              "type": "dataframe",
              "variable_name": "train",
              "summary": "{\n  \"name\": \"train\",\n  \"rows\": 1600,\n  \"fields\": [\n    {\n      \"column\": \"ID\",\n      \"properties\": {\n        \"dtype\": \"string\",\n        \"num_unique_values\": 1600,\n        \"samples\": [\n          \"TN_927\",\n          \"TN_755\",\n          \"TN_569\"\n        ],\n        \"semantic_type\": \"\",\n        \"description\": \"\"\n      }\n    },\n    {\n      \"column\": \"text\",\n      \"properties\": {\n        \"dtype\": \"string\",\n        \"num_unique_values\": 1600,\n        \"samples\": [\n          \"i was recently listening to a podcast briefly discussing the abuse of adderall, particularly for weight loss among women, and one of the moderators chimes in  \\u201ci can always see it on her face when i meet a girl on adderall.\\u201d this struck me as interesting and got me wondering if people notice that about me too. (and just to clarify, i do have add and am prescribed adderall for legitimate reasons.) so my question is, can you tell when someone is on stimulants? what is it about their face that\\u2019s a dead giveaway?\",\n          \"since i've started taking adderall back in march, i've lost interest in things i use to do a lot. i stopped watching video gaming channels, i stopped enjoying video games as much in general. and i re-took up and interest in writing short stories and drawing. anybody else have a similar reaction to adderall? just some things stopped being enjoyable and others became way more enjoyable? the time i spent lost in a video game, i spend lost in writing or drawing. and i don't miss the things i enjoyed before, i quite oppositely enjoy the things i enjoy now far more than i ever did the things i enjoyed before the adderall. i also use to enjoy eating, now it just feels like a chore i have to do to stop feeling shaky.\",\n          \"anyone else w actual adhd take an extra pill sometimes to grind out some shit that you procrastinated on and then actually just becoming hyper-focused on literally anything else for hours without realizing? yes i thought so, me too. right now actually... fuck.\"\n        ],\n        \"semantic_type\": \"\",\n        \"description\": \"\"\n      }\n    },\n    {\n      \"column\": \"Non_Medical_Use\",\n      \"properties\": {\n        \"dtype\": \"number\",\n        \"std\": 0,\n        \"min\": 0,\n        \"max\": 1,\n        \"num_unique_values\": 2,\n        \"samples\": [\n          1,\n          0\n        ],\n        \"semantic_type\": \"\",\n        \"description\": \"\"\n      }\n    },\n    {\n      \"column\": \"Withdrawl\",\n      \"properties\": {\n        \"dtype\": \"number\",\n        \"std\": 0,\n        \"min\": 0,\n        \"max\": 1,\n        \"num_unique_values\": 2,\n        \"samples\": [\n          1,\n          0\n        ],\n        \"semantic_type\": \"\",\n        \"description\": \"\"\n      }\n    },\n    {\n      \"column\": \"Tolerance\",\n      \"properties\": {\n        \"dtype\": \"number\",\n        \"std\": 0,\n        \"min\": 0,\n        \"max\": 1,\n        \"num_unique_values\": 2,\n        \"samples\": [\n          1,\n          0\n        ],\n        \"semantic_type\": \"\",\n        \"description\": \"\"\n      }\n    },\n    {\n      \"column\": \"Entities\",\n      \"properties\": {\n        \"dtype\": \"string\",\n        \"num_unique_values\": 1214,\n        \"samples\": [\n          \"{'T1': Entity(id='T1', type='Adderall', span=((4, 12),), text='adderall'), 'T2': Entity(id='T2', type='Bipolar', span=((174, 181),), text='bipolar'), 'T3': Entity(id='T3', type='Adderall', span=((248, 256),), text='adderall'), 'T4': Entity(id='T4', type='Adderall', span=((343, 351),), text='adderall'), 'T5': Entity(id='T5', type='Bipolar', span=((751, 761),), text='bipolarism'), 'T6': Entity(id='T6', type='OCD', span=((987, 990),), text='ocd')}\",\n          \"{'T1': Entity(id='T1', type='ADHD', span=((54, 58),), text='adhd'), 'T2': Entity(id='T2', type='ADHD', span=((542, 546),), text='adhd'), 'T3': Entity(id='T3', type='ADHD', span=((752, 756),), text='adhd')}\"\n        ],\n        \"semantic_type\": \"\",\n        \"description\": \"\"\n      }\n    },\n    {\n      \"column\": \"Class\",\n      \"properties\": {\n        \"dtype\": \"category\",\n        \"num_unique_values\": 527,\n        \"samples\": [\n          \"['Depression', 'Anti-Depressants', 'Adderall']\",\n          \"['ADHD', 'ADHD', 'Adderall', 'Adderall']\"\n        ],\n        \"semantic_type\": \"\",\n        \"description\": \"\"\n      }\n    },\n    {\n      \"column\": \"Start\",\n      \"properties\": {\n        \"dtype\": \"string\",\n        \"num_unique_values\": 1066,\n        \"samples\": [\n          \"[45]\",\n          \"[20, 181, 212]\"\n        ],\n        \"semantic_type\": \"\",\n        \"description\": \"\"\n      }\n    },\n    {\n      \"column\": \"End\",\n      \"properties\": {\n        \"dtype\": \"string\",\n        \"num_unique_values\": 1064,\n        \"samples\": [\n          \"[56]\",\n          \"[25, 143, 183, 268, 402, 429]\"\n        ],\n        \"semantic_type\": \"\",\n        \"description\": \"\"\n      }\n    }\n  ]\n}"
            }
          },
          "metadata": {},
          "execution_count": 4
        }
      ]
    },
    {
      "cell_type": "code",
      "source": [
        "test.head()"
      ],
      "metadata": {
        "colab": {
          "base_uri": "https://localhost:8080/",
          "height": 786
        },
        "id": "XDspDNHHbFCt",
        "outputId": "358b63a6-bf40-4373-9b4b-ffada983ed60"
      },
      "execution_count": null,
      "outputs": [
        {
          "output_type": "execute_result",
          "data": {
            "text/plain": [
              "     ID                                               text  Non_Medical_Use  \\\n",
              "0  TN_0  i have one pill left. i should have gone last ...                0   \n",
              "1  TN_1  my health insurance doesn't really do anything...                0   \n",
              "2  TN_2  i’ve been sick for a week so the next time i t...                0   \n",
              "3  TN_3  so i’m going to the doctors monday because i’v...                0   \n",
              "4  TN_4  hi guys thanks for taking the time to read thi...                1   \n",
              "\n",
              "   Withdrawl  Tolerance                                           Entities  \\\n",
              "0          0          0                                                 {}   \n",
              "1          0          0                                                 {}   \n",
              "2          0          1  {'T1': Entity(id='T1', type='ADHD', span=((71,...   \n",
              "3          0          0  {'T1': Entity(id='T1', type='Adderall', span=(...   \n",
              "4          0          0  {'T1': Entity(id='T1', type='Adderall', span=(...   \n",
              "\n",
              "                                               Class  \\\n",
              "0                                                 []   \n",
              "1                                                 []   \n",
              "2                                ['ADHD', 'Vyvanse']   \n",
              "3                           ['Adderall', 'Adderall']   \n",
              "4  ['Adderall', 'ADHD', 'Adderall', 'Marijuana', ...   \n",
              "\n",
              "                       Start                        End  \n",
              "0                         []                         []  \n",
              "1                         []                         []  \n",
              "2                  [71, 246]                  [75, 253]  \n",
              "3                 [213, 413]                 [221, 421]  \n",
              "4  [133, 148, 272, 508, 522]  [141, 152, 280, 517, 530]  "
            ],
            "text/html": [
              "\n",
              "  <div id=\"df-eaf247d1-d2c5-4949-991e-580abd64e09d\" class=\"colab-df-container\">\n",
              "    <div>\n",
              "<style scoped>\n",
              "    .dataframe tbody tr th:only-of-type {\n",
              "        vertical-align: middle;\n",
              "    }\n",
              "\n",
              "    .dataframe tbody tr th {\n",
              "        vertical-align: top;\n",
              "    }\n",
              "\n",
              "    .dataframe thead th {\n",
              "        text-align: right;\n",
              "    }\n",
              "</style>\n",
              "<table border=\"1\" class=\"dataframe\">\n",
              "  <thead>\n",
              "    <tr style=\"text-align: right;\">\n",
              "      <th></th>\n",
              "      <th>ID</th>\n",
              "      <th>text</th>\n",
              "      <th>Non_Medical_Use</th>\n",
              "      <th>Withdrawl</th>\n",
              "      <th>Tolerance</th>\n",
              "      <th>Entities</th>\n",
              "      <th>Class</th>\n",
              "      <th>Start</th>\n",
              "      <th>End</th>\n",
              "    </tr>\n",
              "  </thead>\n",
              "  <tbody>\n",
              "    <tr>\n",
              "      <th>0</th>\n",
              "      <td>TN_0</td>\n",
              "      <td>i have one pill left. i should have gone last ...</td>\n",
              "      <td>0</td>\n",
              "      <td>0</td>\n",
              "      <td>0</td>\n",
              "      <td>{}</td>\n",
              "      <td>[]</td>\n",
              "      <td>[]</td>\n",
              "      <td>[]</td>\n",
              "    </tr>\n",
              "    <tr>\n",
              "      <th>1</th>\n",
              "      <td>TN_1</td>\n",
              "      <td>my health insurance doesn't really do anything...</td>\n",
              "      <td>0</td>\n",
              "      <td>0</td>\n",
              "      <td>0</td>\n",
              "      <td>{}</td>\n",
              "      <td>[]</td>\n",
              "      <td>[]</td>\n",
              "      <td>[]</td>\n",
              "    </tr>\n",
              "    <tr>\n",
              "      <th>2</th>\n",
              "      <td>TN_2</td>\n",
              "      <td>i’ve been sick for a week so the next time i t...</td>\n",
              "      <td>0</td>\n",
              "      <td>0</td>\n",
              "      <td>1</td>\n",
              "      <td>{'T1': Entity(id='T1', type='ADHD', span=((71,...</td>\n",
              "      <td>['ADHD', 'Vyvanse']</td>\n",
              "      <td>[71, 246]</td>\n",
              "      <td>[75, 253]</td>\n",
              "    </tr>\n",
              "    <tr>\n",
              "      <th>3</th>\n",
              "      <td>TN_3</td>\n",
              "      <td>so i’m going to the doctors monday because i’v...</td>\n",
              "      <td>0</td>\n",
              "      <td>0</td>\n",
              "      <td>0</td>\n",
              "      <td>{'T1': Entity(id='T1', type='Adderall', span=(...</td>\n",
              "      <td>['Adderall', 'Adderall']</td>\n",
              "      <td>[213, 413]</td>\n",
              "      <td>[221, 421]</td>\n",
              "    </tr>\n",
              "    <tr>\n",
              "      <th>4</th>\n",
              "      <td>TN_4</td>\n",
              "      <td>hi guys thanks for taking the time to read thi...</td>\n",
              "      <td>1</td>\n",
              "      <td>0</td>\n",
              "      <td>0</td>\n",
              "      <td>{'T1': Entity(id='T1', type='Adderall', span=(...</td>\n",
              "      <td>['Adderall', 'ADHD', 'Adderall', 'Marijuana', ...</td>\n",
              "      <td>[133, 148, 272, 508, 522]</td>\n",
              "      <td>[141, 152, 280, 517, 530]</td>\n",
              "    </tr>\n",
              "  </tbody>\n",
              "</table>\n",
              "</div>\n",
              "    <div class=\"colab-df-buttons\">\n",
              "\n",
              "  <div class=\"colab-df-container\">\n",
              "    <button class=\"colab-df-convert\" onclick=\"convertToInteractive('df-eaf247d1-d2c5-4949-991e-580abd64e09d')\"\n",
              "            title=\"Convert this dataframe to an interactive table.\"\n",
              "            style=\"display:none;\">\n",
              "\n",
              "  <svg xmlns=\"http://www.w3.org/2000/svg\" height=\"24px\" viewBox=\"0 -960 960 960\">\n",
              "    <path d=\"M120-120v-720h720v720H120Zm60-500h600v-160H180v160Zm220 220h160v-160H400v160Zm0 220h160v-160H400v160ZM180-400h160v-160H180v160Zm440 0h160v-160H620v160ZM180-180h160v-160H180v160Zm440 0h160v-160H620v160Z\"/>\n",
              "  </svg>\n",
              "    </button>\n",
              "\n",
              "  <style>\n",
              "    .colab-df-container {\n",
              "      display:flex;\n",
              "      gap: 12px;\n",
              "    }\n",
              "\n",
              "    .colab-df-convert {\n",
              "      background-color: #E8F0FE;\n",
              "      border: none;\n",
              "      border-radius: 50%;\n",
              "      cursor: pointer;\n",
              "      display: none;\n",
              "      fill: #1967D2;\n",
              "      height: 32px;\n",
              "      padding: 0 0 0 0;\n",
              "      width: 32px;\n",
              "    }\n",
              "\n",
              "    .colab-df-convert:hover {\n",
              "      background-color: #E2EBFA;\n",
              "      box-shadow: 0px 1px 2px rgba(60, 64, 67, 0.3), 0px 1px 3px 1px rgba(60, 64, 67, 0.15);\n",
              "      fill: #174EA6;\n",
              "    }\n",
              "\n",
              "    .colab-df-buttons div {\n",
              "      margin-bottom: 4px;\n",
              "    }\n",
              "\n",
              "    [theme=dark] .colab-df-convert {\n",
              "      background-color: #3B4455;\n",
              "      fill: #D2E3FC;\n",
              "    }\n",
              "\n",
              "    [theme=dark] .colab-df-convert:hover {\n",
              "      background-color: #434B5C;\n",
              "      box-shadow: 0px 1px 3px 1px rgba(0, 0, 0, 0.15);\n",
              "      filter: drop-shadow(0px 1px 2px rgba(0, 0, 0, 0.3));\n",
              "      fill: #FFFFFF;\n",
              "    }\n",
              "  </style>\n",
              "\n",
              "    <script>\n",
              "      const buttonEl =\n",
              "        document.querySelector('#df-eaf247d1-d2c5-4949-991e-580abd64e09d button.colab-df-convert');\n",
              "      buttonEl.style.display =\n",
              "        google.colab.kernel.accessAllowed ? 'block' : 'none';\n",
              "\n",
              "      async function convertToInteractive(key) {\n",
              "        const element = document.querySelector('#df-eaf247d1-d2c5-4949-991e-580abd64e09d');\n",
              "        const dataTable =\n",
              "          await google.colab.kernel.invokeFunction('convertToInteractive',\n",
              "                                                    [key], {});\n",
              "        if (!dataTable) return;\n",
              "\n",
              "        const docLinkHtml = 'Like what you see? Visit the ' +\n",
              "          '<a target=\"_blank\" href=https://colab.research.google.com/notebooks/data_table.ipynb>data table notebook</a>'\n",
              "          + ' to learn more about interactive tables.';\n",
              "        element.innerHTML = '';\n",
              "        dataTable['output_type'] = 'display_data';\n",
              "        await google.colab.output.renderOutput(dataTable, element);\n",
              "        const docLink = document.createElement('div');\n",
              "        docLink.innerHTML = docLinkHtml;\n",
              "        element.appendChild(docLink);\n",
              "      }\n",
              "    </script>\n",
              "  </div>\n",
              "\n",
              "\n",
              "<div id=\"df-3d212a6e-74f7-49c0-bf00-809cd63560de\">\n",
              "  <button class=\"colab-df-quickchart\" onclick=\"quickchart('df-3d212a6e-74f7-49c0-bf00-809cd63560de')\"\n",
              "            title=\"Suggest charts\"\n",
              "            style=\"display:none;\">\n",
              "\n",
              "<svg xmlns=\"http://www.w3.org/2000/svg\" height=\"24px\"viewBox=\"0 0 24 24\"\n",
              "     width=\"24px\">\n",
              "    <g>\n",
              "        <path d=\"M19 3H5c-1.1 0-2 .9-2 2v14c0 1.1.9 2 2 2h14c1.1 0 2-.9 2-2V5c0-1.1-.9-2-2-2zM9 17H7v-7h2v7zm4 0h-2V7h2v10zm4 0h-2v-4h2v4z\"/>\n",
              "    </g>\n",
              "</svg>\n",
              "  </button>\n",
              "\n",
              "<style>\n",
              "  .colab-df-quickchart {\n",
              "      --bg-color: #E8F0FE;\n",
              "      --fill-color: #1967D2;\n",
              "      --hover-bg-color: #E2EBFA;\n",
              "      --hover-fill-color: #174EA6;\n",
              "      --disabled-fill-color: #AAA;\n",
              "      --disabled-bg-color: #DDD;\n",
              "  }\n",
              "\n",
              "  [theme=dark] .colab-df-quickchart {\n",
              "      --bg-color: #3B4455;\n",
              "      --fill-color: #D2E3FC;\n",
              "      --hover-bg-color: #434B5C;\n",
              "      --hover-fill-color: #FFFFFF;\n",
              "      --disabled-bg-color: #3B4455;\n",
              "      --disabled-fill-color: #666;\n",
              "  }\n",
              "\n",
              "  .colab-df-quickchart {\n",
              "    background-color: var(--bg-color);\n",
              "    border: none;\n",
              "    border-radius: 50%;\n",
              "    cursor: pointer;\n",
              "    display: none;\n",
              "    fill: var(--fill-color);\n",
              "    height: 32px;\n",
              "    padding: 0;\n",
              "    width: 32px;\n",
              "  }\n",
              "\n",
              "  .colab-df-quickchart:hover {\n",
              "    background-color: var(--hover-bg-color);\n",
              "    box-shadow: 0 1px 2px rgba(60, 64, 67, 0.3), 0 1px 3px 1px rgba(60, 64, 67, 0.15);\n",
              "    fill: var(--button-hover-fill-color);\n",
              "  }\n",
              "\n",
              "  .colab-df-quickchart-complete:disabled,\n",
              "  .colab-df-quickchart-complete:disabled:hover {\n",
              "    background-color: var(--disabled-bg-color);\n",
              "    fill: var(--disabled-fill-color);\n",
              "    box-shadow: none;\n",
              "  }\n",
              "\n",
              "  .colab-df-spinner {\n",
              "    border: 2px solid var(--fill-color);\n",
              "    border-color: transparent;\n",
              "    border-bottom-color: var(--fill-color);\n",
              "    animation:\n",
              "      spin 1s steps(1) infinite;\n",
              "  }\n",
              "\n",
              "  @keyframes spin {\n",
              "    0% {\n",
              "      border-color: transparent;\n",
              "      border-bottom-color: var(--fill-color);\n",
              "      border-left-color: var(--fill-color);\n",
              "    }\n",
              "    20% {\n",
              "      border-color: transparent;\n",
              "      border-left-color: var(--fill-color);\n",
              "      border-top-color: var(--fill-color);\n",
              "    }\n",
              "    30% {\n",
              "      border-color: transparent;\n",
              "      border-left-color: var(--fill-color);\n",
              "      border-top-color: var(--fill-color);\n",
              "      border-right-color: var(--fill-color);\n",
              "    }\n",
              "    40% {\n",
              "      border-color: transparent;\n",
              "      border-right-color: var(--fill-color);\n",
              "      border-top-color: var(--fill-color);\n",
              "    }\n",
              "    60% {\n",
              "      border-color: transparent;\n",
              "      border-right-color: var(--fill-color);\n",
              "    }\n",
              "    80% {\n",
              "      border-color: transparent;\n",
              "      border-right-color: var(--fill-color);\n",
              "      border-bottom-color: var(--fill-color);\n",
              "    }\n",
              "    90% {\n",
              "      border-color: transparent;\n",
              "      border-bottom-color: var(--fill-color);\n",
              "    }\n",
              "  }\n",
              "</style>\n",
              "\n",
              "  <script>\n",
              "    async function quickchart(key) {\n",
              "      const quickchartButtonEl =\n",
              "        document.querySelector('#' + key + ' button');\n",
              "      quickchartButtonEl.disabled = true;  // To prevent multiple clicks.\n",
              "      quickchartButtonEl.classList.add('colab-df-spinner');\n",
              "      try {\n",
              "        const charts = await google.colab.kernel.invokeFunction(\n",
              "            'suggestCharts', [key], {});\n",
              "      } catch (error) {\n",
              "        console.error('Error during call to suggestCharts:', error);\n",
              "      }\n",
              "      quickchartButtonEl.classList.remove('colab-df-spinner');\n",
              "      quickchartButtonEl.classList.add('colab-df-quickchart-complete');\n",
              "    }\n",
              "    (() => {\n",
              "      let quickchartButtonEl =\n",
              "        document.querySelector('#df-3d212a6e-74f7-49c0-bf00-809cd63560de button');\n",
              "      quickchartButtonEl.style.display =\n",
              "        google.colab.kernel.accessAllowed ? 'block' : 'none';\n",
              "    })();\n",
              "  </script>\n",
              "</div>\n",
              "\n",
              "    </div>\n",
              "  </div>\n"
            ],
            "application/vnd.google.colaboratory.intrinsic+json": {
              "type": "dataframe",
              "variable_name": "test",
              "summary": "{\n  \"name\": \"test\",\n  \"rows\": 401,\n  \"fields\": [\n    {\n      \"column\": \"ID\",\n      \"properties\": {\n        \"dtype\": \"string\",\n        \"num_unique_values\": 401,\n        \"samples\": [\n          \"TN_285\",\n          \"TN_281\",\n          \"TN_33\"\n        ],\n        \"semantic_type\": \"\",\n        \"description\": \"\"\n      }\n    },\n    {\n      \"column\": \"text\",\n      \"properties\": {\n        \"dtype\": \"string\",\n        \"num_unique_values\": 401,\n        \"samples\": [\n          \"i have opened up a 10mg extended release adderall capsule and counted the beads inside. the number i arrived upon was six hundred and twenty-three. (623)could anyone else with a 10mg xr pill possibly count their beads and peer review my work? thanks. yours cordially, end of letter.\",\n          \"half a rant here, sorry in advance:i went to pick up my script today for the first time, at a new pharmacy, since moving to a new side of town. i get up to the counter and speak with the pharmacy counter staff, and tell them i have a script ready. the pharmacy tech puts in my information in the computer, and checks my id. she then tells me she needs the pharmacist to sign off on my script (ok?) so the pharmacist comes over and looks at the screen, asks the girl working the desk if she id'd me (she says yes), and then *he* asks for my id *again* so *he* can see it\\\\*.\\\\*but it doesn't stop there, he then tells me without a second form of id i can't get my script. im sort of annoyed at this point so i fight him back, tell him i have never had to show two forms of id in the three years i have been picking up this prescription, and argue that my id isn't damaged in any way that makes it illegible.he then grumbles and turns around without saying anything. he comes back with my script, and before handing it to me he asks \\\"what do you plan to do with this medicine?\\\" and i am just baffled at what i'm hearing. i just say \\\"i'm probably going to take it\\\" in a sarcastic tone because i'm angry by this point, then he asks \\\"how often do you take it?\\\" and i said \\\"whenever i need to.\\\" the pharmacist then gets really stern with his voice and says \\\"no. you take this every day or don't take it at all. understand? you should know that.\\\"i was going to tell him that is absolutely not what my doctor recommended but i didn't feel like arguing. i just said ok and left.has anyone else here gotten that advice or do i just need to drive an extra 10 minutes a month to a different pharmacy to not deal with this guy again?tldr: pharmacist at my new pharmacy seems like a dick, is suspicious of \\\"how i am going to use my medicine\\\" and is probably telling me wrong medical advice. what do you think?  \",\n          \"i just got a prescription for adderall xr for the first time in a few years. i took it yesterday and it worked as expected, but today it doesn\\u2019t seem to have any effect. any idea why that might happen?edit: i am male!\"\n        ],\n        \"semantic_type\": \"\",\n        \"description\": \"\"\n      }\n    },\n    {\n      \"column\": \"Non_Medical_Use\",\n      \"properties\": {\n        \"dtype\": \"number\",\n        \"std\": 0,\n        \"min\": 0,\n        \"max\": 1,\n        \"num_unique_values\": 2,\n        \"samples\": [\n          1,\n          0\n        ],\n        \"semantic_type\": \"\",\n        \"description\": \"\"\n      }\n    },\n    {\n      \"column\": \"Withdrawl\",\n      \"properties\": {\n        \"dtype\": \"number\",\n        \"std\": 0,\n        \"min\": 0,\n        \"max\": 1,\n        \"num_unique_values\": 2,\n        \"samples\": [\n          1,\n          0\n        ],\n        \"semantic_type\": \"\",\n        \"description\": \"\"\n      }\n    },\n    {\n      \"column\": \"Tolerance\",\n      \"properties\": {\n        \"dtype\": \"number\",\n        \"std\": 0,\n        \"min\": 0,\n        \"max\": 1,\n        \"num_unique_values\": 2,\n        \"samples\": [\n          1,\n          0\n        ],\n        \"semantic_type\": \"\",\n        \"description\": \"\"\n      }\n    },\n    {\n      \"column\": \"Entities\",\n      \"properties\": {\n        \"dtype\": \"string\",\n        \"num_unique_values\": 308,\n        \"samples\": [\n          \"{'T1': Entity(id='T1', type='Adderall', span=((13, 21),), text='adderall'), 'T2': Entity(id='T2', type='ADHD', span=((44, 48),), text='adhd')}\",\n          \"{'T1': Entity(id='T1', type='Adderall', span=((15, 19),), text='addy')}\"\n        ],\n        \"semantic_type\": \"\",\n        \"description\": \"\"\n      }\n    },\n    {\n      \"column\": \"Class\",\n      \"properties\": {\n        \"dtype\": \"category\",\n        \"num_unique_values\": 130,\n        \"samples\": [\n          \"['Adderall', 'Dexedrine', 'Adderall', 'Adderall']\",\n          \"['Sleeping_Pills', 'Adderall', 'Marijuana']\"\n        ],\n        \"semantic_type\": \"\",\n        \"description\": \"\"\n      }\n    },\n    {\n      \"column\": \"Start\",\n      \"properties\": {\n        \"dtype\": \"string\",\n        \"num_unique_values\": 280,\n        \"samples\": [\n          \"[416, 391]\",\n          \"[22, 186]\"\n        ],\n        \"semantic_type\": \"\",\n        \"description\": \"\"\n      }\n    },\n    {\n      \"column\": \"End\",\n      \"properties\": {\n        \"dtype\": \"string\",\n        \"num_unique_values\": 283,\n        \"samples\": [\n          \"[19]\",\n          \"[62, 94, 106]\"\n        ],\n        \"semantic_type\": \"\",\n        \"description\": \"\"\n      }\n    }\n  ]\n}"
            }
          },
          "metadata": {},
          "execution_count": 5
        }
      ]
    },
    {
      "cell_type": "markdown",
      "source": [
        "## Apply Tokenization Scheme to Dataset\n",
        "\n",
        "**Important Data Objects**\n",
        "\n",
        "*   tokenized_dataset['train'] & tokenized_dataset['test'] (can use ['input_ids'] or ['labels'] - This is created from the OG dataset!\n",
        "*   id_to_classes & classes_to_id (used to map entities to a number)\n",
        "\n"
      ],
      "metadata": {
        "id": "Gq1zK7ADcIfS"
      }
    },
    {
      "cell_type": "code",
      "source": [
        "!pip install datasets"
      ],
      "metadata": {
        "id": "nSbQZs8AcLr7"
      },
      "execution_count": null,
      "outputs": []
    },
    {
      "cell_type": "markdown",
      "source": [
        "**LOAD TOKENIZER FROM PRETRAINED AND DATASET FROM PANDAS...**"
      ],
      "metadata": {
        "id": "-T1lbbPCdUkU"
      }
    },
    {
      "cell_type": "code",
      "source": [
        "import datasets\n",
        "from datasets import Dataset, DatasetDict\n",
        "\n",
        "model_ckpt = 'allenai/longformer-base-4096'\n",
        "from transformers import AutoTokenizer\n",
        "tokenizer = AutoTokenizer.from_pretrained(model_ckpt)\n",
        "\n",
        "ds_train = Dataset.from_pandas(train)\n",
        "ds_test = Dataset.from_pandas(test)\n",
        "\n",
        "ds = DatasetDict()\n",
        "\n",
        "ds['train'] = ds_train\n",
        "ds['test'] = ds_test\n",
        "\n",
        "dataset = ds\n",
        "dataset"
      ],
      "metadata": {
        "id": "DGyqiy1rcaB6",
        "colab": {
          "base_uri": "https://localhost:8080/",
          "height": 518,
          "referenced_widgets": [
            "37c8ab99a0374b2d8597202a6ccef939",
            "7eba88b1c56a4d0490f52082e6f8d844",
            "de5ebf8679da46c09c4bbe2b47118083",
            "51462c95fe7c4bda9680ef6e8ff7a0c6",
            "92d7898cf80c4490a90cab432f802cd8",
            "3ed18a44188b4f838782e61bf0d8846a",
            "df470b0dd0f74561943a815d78edbde3",
            "eaa0d953a2264da5aba437e35cc57818",
            "f62e75704e6f441c94aa794c401f73de",
            "e4971f9ef45846f09dc58af3fa57a8f2",
            "06f21002889e49439132b599ed52201c",
            "ea62c49ee8f04f56a3d119c1b382ca36",
            "ae6934fb0c78475b8cbc13386d07f859",
            "698b655ab27e46928eb1f0e2a0e69b32",
            "590f3abb74dd4650a565a99eac340cae",
            "a9fa2ae42f3148b3aea484d5fb076d4c",
            "b82575a70c6246b5b31f17efa048845e",
            "c1d15933218d4c839166f72560924405",
            "54b67ed17e62406a98d60f1cd6a44b34",
            "7e2273f2b85c49458adc816783956be5",
            "d950cf30b47d437ea7cd366e1639ed43",
            "4d56d3b60fd34f4790b20a7e3d88f126",
            "28a873f92d5746a8aadb5d453e07c359",
            "838e5067c62a4d3d96ca711650d8c3ac",
            "3900b8578d404ac9b50ac0acf097e41b",
            "848ce20f4b44497d9a8c7bbfef814717",
            "839de09209944b15bed419a871a8d10e",
            "956274e6ef454b75bd3fb5552403bf23",
            "88fa476f5f004493ac26ec84d2ab132f",
            "a7b3c845437c4defafdfb9b2a1671a6c",
            "4f74d33c684b41329d6d50358f2565fb",
            "a0f6f519de9147e287558f7dc3e588a0",
            "b07b3f7908784c49ad61cbb01f01e6b2",
            "5f7021f8e9bf4768a21ae3ee4800d453",
            "4e242cd857d343ccb8f4330110aea2d5",
            "2a8cc104b6504c14a103ecd5541be7f8",
            "fff470d1529243149501242e6b84cbac",
            "20891b2641ff49d1a60022399cf530ae",
            "5a7ac5ae9bc04126be52c777e6c38d2a",
            "d57ceac851484695844f3eab8f3774c4",
            "902d34c41dde4c7b9b5e9ba40b16f1cd",
            "dfaaf208788c4a3b8e6f56a61e3d5aed",
            "f53197b7041349d1bb5b7e72713613bb",
            "7471bee320da4b09a4004381dcb7ae16"
          ]
        },
        "outputId": "1f76c520-a047-48b3-8826-18f1b7a3d1db"
      },
      "execution_count": null,
      "outputs": [
        {
          "output_type": "stream",
          "name": "stderr",
          "text": [
            "/usr/local/lib/python3.10/dist-packages/huggingface_hub/utils/_token.py:88: UserWarning: \n",
            "The secret `HF_TOKEN` does not exist in your Colab secrets.\n",
            "To authenticate with the Hugging Face Hub, create a token in your settings tab (https://huggingface.co/settings/tokens), set it as secret in your Google Colab and restart your session.\n",
            "You will be able to reuse this secret in all of your notebooks.\n",
            "Please note that authentication is recommended but still optional to access public models or datasets.\n",
            "  warnings.warn(\n"
          ]
        },
        {
          "output_type": "display_data",
          "data": {
            "text/plain": [
              "config.json:   0%|          | 0.00/694 [00:00<?, ?B/s]"
            ],
            "application/vnd.jupyter.widget-view+json": {
              "version_major": 2,
              "version_minor": 0,
              "model_id": "37c8ab99a0374b2d8597202a6ccef939"
            }
          },
          "metadata": {}
        },
        {
          "output_type": "display_data",
          "data": {
            "text/plain": [
              "vocab.json:   0%|          | 0.00/899k [00:00<?, ?B/s]"
            ],
            "application/vnd.jupyter.widget-view+json": {
              "version_major": 2,
              "version_minor": 0,
              "model_id": "ea62c49ee8f04f56a3d119c1b382ca36"
            }
          },
          "metadata": {}
        },
        {
          "output_type": "display_data",
          "data": {
            "text/plain": [
              "merges.txt:   0%|          | 0.00/456k [00:00<?, ?B/s]"
            ],
            "application/vnd.jupyter.widget-view+json": {
              "version_major": 2,
              "version_minor": 0,
              "model_id": "28a873f92d5746a8aadb5d453e07c359"
            }
          },
          "metadata": {}
        },
        {
          "output_type": "display_data",
          "data": {
            "text/plain": [
              "tokenizer.json:   0%|          | 0.00/1.36M [00:00<?, ?B/s]"
            ],
            "application/vnd.jupyter.widget-view+json": {
              "version_major": 2,
              "version_minor": 0,
              "model_id": "5f7021f8e9bf4768a21ae3ee4800d453"
            }
          },
          "metadata": {}
        },
        {
          "output_type": "execute_result",
          "data": {
            "text/plain": [
              "DatasetDict({\n",
              "    train: Dataset({\n",
              "        features: ['ID', 'text', 'Non_Medical_Use', 'Withdrawl', 'Tolerance', 'Entities', 'Class', 'Start', 'End'],\n",
              "        num_rows: 1600\n",
              "    })\n",
              "    test: Dataset({\n",
              "        features: ['ID', 'text', 'Non_Medical_Use', 'Withdrawl', 'Tolerance', 'Entities', 'Class', 'Start', 'End'],\n",
              "        num_rows: 401\n",
              "    })\n",
              "})"
            ]
          },
          "metadata": {},
          "execution_count": 7
        }
      ]
    },
    {
      "cell_type": "markdown",
      "source": [
        "**CREATE A DICTIONARY OF POSSIBLE CLASSES WITH ASSOCIATED INTEGER IDS...**"
      ],
      "metadata": {
        "id": "GHeG5R6OdEJC"
      }
    },
    {
      "cell_type": "code",
      "source": [
        "general_classes_to_id = {'Prescription_Stimulants': 0, 'Perscription_Medications': 1, 'OTCs': 2,\n",
        "                         'Substances': 3, 'Anxiety': 4, 'Depression': 5, 'ADHD': 6, 'Other_Diagnoses': 7, 'WILD': 8}\n",
        "\n",
        "N_LABELS = len(general_classes_to_id)"
      ],
      "metadata": {
        "id": "MMJ07HzQpMkZ"
      },
      "execution_count": null,
      "outputs": []
    },
    {
      "cell_type": "code",
      "source": [
        "classes_to_id = {\n",
        "    'ADHD': 6,'Adderall': 0,'Anxiety': 4,'Caffeine': 3,'Vyvanse': 0,'Nicotine': 3,'Depression': 5,\n",
        "    'Anti-Depressants': 1,'Eating_Disorder': 7,'Alcohol': 3,'OCD': 7,'Sleeping_Pills': 2,\n",
        "    'Benzodiazepines': 1,'Antacids': 2,'Dexedrine': 0,'Focalin': 0,'Supplements': 2,\n",
        "    'Bipolar': 7,'Ritalin': 0,'Concerta': 0,'Marijuana': 3,'Narcolepsy': 7,\n",
        "    'Antipsychotic': 1,'Modafinil': 0,'WILD': 8, 'Prescription_Stimulants': 0}\n",
        "\n",
        "#id_to_classes = {v: k for k, v in classes_to_id.items()}"
      ],
      "metadata": {
        "id": "NDTHTpoVnwVm"
      },
      "execution_count": null,
      "outputs": []
    },
    {
      "cell_type": "code",
      "source": [
        "classes_to_id"
      ],
      "metadata": {
        "colab": {
          "base_uri": "https://localhost:8080/"
        },
        "id": "5JpIEkuYqHAc",
        "outputId": "47b3bdc2-1a06-4cf9-dc82-8d952e6de70d"
      },
      "execution_count": null,
      "outputs": [
        {
          "output_type": "execute_result",
          "data": {
            "text/plain": [
              "{'ADHD': 6,\n",
              " 'Adderall': 0,\n",
              " 'Anxiety': 4,\n",
              " 'Caffeine': 3,\n",
              " 'Vyvanse': 0,\n",
              " 'Nicotine': 3,\n",
              " 'Depression': 5,\n",
              " 'Anti-Depressants': 1,\n",
              " 'Eating_Disorder': 7,\n",
              " 'Alcohol': 3,\n",
              " 'OCD': 7,\n",
              " 'Sleeping_Pills': 2,\n",
              " 'Benzodiazepines': 1,\n",
              " 'Antacids': 2,\n",
              " 'Dexedrine': 0,\n",
              " 'Focalin': 0,\n",
              " 'Supplements': 2,\n",
              " 'Bipolar': 7,\n",
              " 'Ritalin': 0,\n",
              " 'Concerta': 0,\n",
              " 'Marijuana': 3,\n",
              " 'Narcolepsy': 7,\n",
              " 'Antipsychotic': 1,\n",
              " 'Modafinil': 0,\n",
              " 'WILD': 8,\n",
              " 'Prescription_Stimulants': 0}"
            ]
          },
          "metadata": {},
          "execution_count": 10
        }
      ]
    },
    {
      "cell_type": "markdown",
      "source": [
        "**FUNCTION TO LABEL EACH TOKEN WITH CLASSIFICATION SCHEME DEFINED ABOVE...**"
      ],
      "metadata": {
        "id": "-mhkZdXPdmc-"
      }
    },
    {
      "cell_type": "code",
      "source": [
        "MAX_LENGTH = 1024\n",
        "import ast\n",
        "def labeling_tokens(sample):\n",
        "  res = tokenizer(sample['text'], padding=True, return_offsets_mapping=True, truncation=True, max_length=MAX_LENGTH, return_overflowing_tokens=True)\n",
        "\n",
        "  sample_mapping = res['overflow_to_sample_mapping']\n",
        "\n",
        "  # maps each token to the chars in the string\n",
        "  offset_mapping = res['offset_mapping']\n",
        "\n",
        "  res[\"labels\"] = []\n",
        "\n",
        "  #print(sample_mapping)\n",
        "  for i in range(len(offset_mapping)):\n",
        "    s_index = sample_mapping[i]\n",
        "    # Initialize labels array with WILD (ie no entity)\n",
        "    labels = [classes_to_id[\"WILD\"] for k in range(len(res['input_ids'][i]))] # number of tokens\n",
        "\n",
        "    # label_start=start position of a given labeled entity (eg 499)\n",
        "    # label_end=end position of a given labeled entity (eg 503)\n",
        "    # label=name of the given entity (eg ADHD)\n",
        "    # loops through each entity contained in the post...\n",
        "\n",
        "    for label_start, label_end, label in list(zip(ast.literal_eval(sample['Start'][s_index]), ast.literal_eval(sample['End'][s_index]), ast.literal_eval(sample['Class'][s_index]))):\n",
        "\n",
        "      for j in range(len(labels)):\n",
        "        token_start = offset_mapping[i][j][0]\n",
        "        token_end = offset_mapping[i][j][1]\n",
        "\n",
        "        if token_start == label_start:\n",
        "          labels[j] = classes_to_id[label]\n",
        "        if int(token_start) > int(label_start) and int(token_end) <= int(label_end):\n",
        "          labels[j] = classes_to_id[label]\n",
        "\n",
        "    res['labels'].append(labels)\n",
        "\n",
        "  return res"
      ],
      "metadata": {
        "id": "gwsFvfsRde1q"
      },
      "execution_count": null,
      "outputs": []
    },
    {
      "cell_type": "code",
      "source": [
        "tokenized_dataset = dataset.map(labeling_tokens, batched=True, batch_size=10000, remove_columns=dataset['train'].column_names)"
      ],
      "metadata": {
        "colab": {
          "base_uri": "https://localhost:8080/",
          "height": 82,
          "referenced_widgets": [
            "6d7032a27e294c55ab06ef679e273f28",
            "09ca3c1d1ea74de0b1a211f47e0a42a5",
            "3824f4c4b766412ebe65dd62c9e6e372",
            "50c58e57fbde429d86c051f043702014",
            "704555c5233e467ea3674020f70f642f",
            "0cb325687dd442cc968615a7d3b5807f",
            "455ffe5d4d5e4199a7e594dc4ce794c7",
            "bf6704ac7d5b4628a0c16dc8030975c6",
            "918ad090cb7c4b6bb0752eac327ccf29",
            "f860f04aeb554e2a8d747d87d6e2c65f",
            "4dd6065dca7c46f68e65349ac33497d9",
            "2552ecbec74e466f838111f060440436",
            "ba271ce8522f417ba80b9b07267cb8e4",
            "e50157701796400db3be3d2e2e339831",
            "31fec75c6f284846a2c7f59b3f1b036b",
            "30a735a6ec0240c6ae3d1b540e95cbc1",
            "9e324f32fa0e4e9299d98d8d308129e3",
            "720186084a2c4c528c0b329eb3fc3ab5",
            "c180793eb697415b8753b58303e49013",
            "16df72902fa040a9813702ca9c70ff5c",
            "cafb68876b1249d79b3e6f1b29d591c1",
            "f002f17991d64dd68b67b7bf2b7ccf9b"
          ]
        },
        "id": "t8PaN5SJdz7w",
        "outputId": "bbe0f548-2c4b-4b41-fbe2-4188635656fc"
      },
      "execution_count": null,
      "outputs": [
        {
          "output_type": "display_data",
          "data": {
            "text/plain": [
              "Map:   0%|          | 0/1600 [00:00<?, ? examples/s]"
            ],
            "application/vnd.jupyter.widget-view+json": {
              "version_major": 2,
              "version_minor": 0,
              "model_id": "6d7032a27e294c55ab06ef679e273f28"
            }
          },
          "metadata": {}
        },
        {
          "output_type": "display_data",
          "data": {
            "text/plain": [
              "Map:   0%|          | 0/401 [00:00<?, ? examples/s]"
            ],
            "application/vnd.jupyter.widget-view+json": {
              "version_major": 2,
              "version_minor": 0,
              "model_id": "2552ecbec74e466f838111f060440436"
            }
          },
          "metadata": {}
        }
      ]
    },
    {
      "cell_type": "markdown",
      "source": [
        "## Create Token Dictonary (DO NOT RE-RUN)\n",
        "\n",
        "Gather the token ids associated with each entity into one large dictionary of lists (where the keys are the entity id)"
      ],
      "metadata": {
        "id": "x6AYUqOPdYyy"
      }
    },
    {
      "cell_type": "code",
      "source": [
        "classes_to_id = {\n",
        "    'ADHD': 6,'Adderall': 0,'Anxiety': 4,'Caffeine': 3,'Vyvanse': 0,'Nicotine': 3,'Depression': 5,\n",
        "    'Anti-Depressants': 1,'Eating_Disorder': 7,'Alcohol': 3,'OCD': 7,'Sleeping_Pills': 2,\n",
        "    'Benzodiazepines': 1,'Antacids': 2,'Dexedrine': 0,'Focalin': 0,'Supplements': 2,\n",
        "    'Bipolar': 7,'Ritalin': 0,'Concerta': 0,'Marijuana': 3,'Narcolepsy': 7,\n",
        "    'Antipsychotic': 1,'Modafinil': 0,'WILD': 8, 'Prescription_Stimulants': 0}"
      ],
      "metadata": {
        "id": "sZFb1JMmmzOk"
      },
      "execution_count": null,
      "outputs": []
    },
    {
      "cell_type": "code",
      "source": [
        "sorted(classes_to_id.items(), key=lambda x:x[1])"
      ],
      "metadata": {
        "colab": {
          "base_uri": "https://localhost:8080/"
        },
        "id": "iTiNJyQ5nHEC",
        "outputId": "23eb65a5-b30a-4b9c-e7c3-3755a4ffd61a"
      },
      "execution_count": null,
      "outputs": [
        {
          "output_type": "execute_result",
          "data": {
            "text/plain": [
              "[('Adderall', 0),\n",
              " ('Vyvanse', 0),\n",
              " ('Dexedrine', 0),\n",
              " ('Focalin', 0),\n",
              " ('Ritalin', 0),\n",
              " ('Concerta', 0),\n",
              " ('Modafinil', 0),\n",
              " ('Prescription_Stimulants', 0),\n",
              " ('Anti-Depressants', 1),\n",
              " ('Benzodiazepines', 1),\n",
              " ('Antipsychotic', 1),\n",
              " ('Sleeping_Pills', 2),\n",
              " ('Antacids', 2),\n",
              " ('Supplements', 2),\n",
              " ('Caffeine', 3),\n",
              " ('Nicotine', 3),\n",
              " ('Alcohol', 3),\n",
              " ('Marijuana', 3),\n",
              " ('Anxiety', 4),\n",
              " ('Depression', 5),\n",
              " ('ADHD', 6),\n",
              " ('Eating_Disorder', 7),\n",
              " ('OCD', 7),\n",
              " ('Bipolar', 7),\n",
              " ('Narcolepsy', 7),\n",
              " ('WILD', 8)]"
            ]
          },
          "metadata": {},
          "execution_count": 40
        }
      ]
    },
    {
      "cell_type": "markdown",
      "source": [],
      "metadata": {
        "id": "4ZpaSZf8nGpu"
      }
    },
    {
      "cell_type": "code",
      "source": [
        "! pip install more_itertools\n",
        "from more_itertools import locate\n",
        "\n",
        "class_tokens = { 0:[],1:[],2:[],3:[],4:[],5:[],6:[],7:[],8:[] }\n",
        "\n",
        "for i in range(0, len(train['text'])):\n",
        "  print(\"\\nCollecting Entities for Post \" + str(i))\n",
        "\n",
        "  if train['Class'][i]!='[]': # if list is NOT empty\n",
        "\n",
        "    entity_lst = train['Class'][i].strip('][').split(', ') # convert from string to list\n",
        "    entity_lst = set(entity_lst)\n",
        "\n",
        "    for entity in list(entity_lst): # loop through all UNIQUE entities\n",
        "\n",
        "      name = entity.replace(\"'\", \"\")\n",
        "      print(\"Found Entity: \" + str(name))\n",
        "      code = classes_to_id[name]\n",
        "\n",
        "      indices = list(locate(tokenized_dataset['train']['labels'][i], lambda x: x == code))\n",
        "      tokens = [tokenized_dataset['train']['input_ids'][i][k] for k in indices]\n",
        "\n",
        "      class_tokens[code] = class_tokens[code] + tokens\n",
        "\n",
        "# SAVE RESULTS\n",
        "# Save to a file in json format so I don't have to spend 2 hours each time re-doing...\n",
        "with open(out_dir+'entity_id_map_REDUCED.txt', 'w') as out_file:\n",
        "     out_file.write(json.dumps(class_tokens))"
      ],
      "metadata": {
        "id": "rprlaCNidf9E"
      },
      "execution_count": null,
      "outputs": []
    },
    {
      "cell_type": "code",
      "source": [
        "class_tokens = json.load(open(out_dir+\"entity_id_map_REDUCED.txt\"))"
      ],
      "metadata": {
        "id": "FGZ_1Azbe3hn"
      },
      "execution_count": null,
      "outputs": []
    },
    {
      "cell_type": "code",
      "source": [
        "general_classes_to_id = {'Prescription_Stimulants': 0, 'Perscription_Medications': 1, 'OTCs': 2,\n",
        "                         'Substances': 3, 'Anxiety': 4, 'Depression': 5, 'ADHD': 6, 'Other_Diagnoses': 7, 'WILD': 8}\n",
        "\n",
        "N_LABELS = len(general_classes_to_id)\n",
        "\n",
        "id_to_classes = {0:'Prescription_Stimulants', 1: 'Perscription_Medications', 2: 'OTCs', 3: 'Substances',\n",
        "                 4: 'Anxiety', 5: 'Depression', 6: 'ADHD', 7: 'Other_Diagnoses', 8: 'WILD'}"
      ],
      "metadata": {
        "id": "CeGsQQ0QgY67"
      },
      "execution_count": null,
      "outputs": []
    },
    {
      "cell_type": "code",
      "source": [
        "class_tokens['Prescription_Stimulants'] = class_tokens.pop('0')\n",
        "class_tokens['Perscription_Medications'] = class_tokens.pop('1')\n",
        "class_tokens['OTCs'] = class_tokens.pop('2')\n",
        "class_tokens['Substances'] = class_tokens.pop('3')\n",
        "class_tokens['Anxiety'] = class_tokens.pop('4')\n",
        "class_tokens['Depression'] = class_tokens.pop('5')\n",
        "class_tokens['ADHD'] = class_tokens.pop('6')\n",
        "class_tokens['Other_Diagnoses'] = class_tokens.pop('7')\n",
        "class_tokens['WILD'] = class_tokens.pop('8')"
      ],
      "metadata": {
        "id": "WZH4KVTCe0I0"
      },
      "execution_count": null,
      "outputs": []
    },
    {
      "cell_type": "code",
      "source": [
        "with open(out_dir+'entity_id_map_REDUCED.txt', 'w') as out_file:\n",
        "     out_file.write(json.dumps(class_tokens))"
      ],
      "metadata": {
        "id": "knLlYFw1e6O7"
      },
      "execution_count": null,
      "outputs": []
    },
    {
      "cell_type": "markdown",
      "source": [
        "\n",
        "## Explore Tokens Associated with each Entity...\n",
        "\n",
        "*   Read in the OG file \"entity_id_map.txt\"\n",
        "*   Print total and unique tokens associated with each entity (unique number is saved as entity_id_map_UNIQUE.txt)\n",
        "\n"
      ],
      "metadata": {
        "id": "n7PSHnvNfyNr"
      }
    },
    {
      "cell_type": "code",
      "source": [
        "tokenized_dataset['train']"
      ],
      "metadata": {
        "colab": {
          "base_uri": "https://localhost:8080/"
        },
        "id": "qe-NEyz3fue2",
        "outputId": "10e61f19-4281-4cdc-ad18-069aeb7e35b7"
      },
      "execution_count": null,
      "outputs": [
        {
          "output_type": "execute_result",
          "data": {
            "text/plain": [
              "Dataset({\n",
              "    features: ['input_ids', 'attention_mask', 'offset_mapping', 'overflow_to_sample_mapping', 'labels'],\n",
              "    num_rows: 1600\n",
              "})"
            ]
          },
          "metadata": {},
          "execution_count": 14
        }
      ]
    },
    {
      "cell_type": "code",
      "source": [
        "general_classes_to_id = {'Prescription_Stimulants': 0, 'Perscription_Medications': 1, 'OTCs': 2,\n",
        "                         'Substances': 3, 'Anxiety': 4, 'Depression': 5, 'ADHD': 6, 'Other_Diagnoses': 7, 'WILD': 8}"
      ],
      "metadata": {
        "id": "eLwlANHMeaq2"
      },
      "execution_count": null,
      "outputs": []
    },
    {
      "cell_type": "code",
      "source": [
        "class_tokens = json.load(open(out_dir+\"entity_id_map_REDUCED.txt\"))\n",
        "class_tokens.keys() # to double check the loading of data worked!"
      ],
      "metadata": {
        "id": "BWkQhTTarcWF",
        "colab": {
          "base_uri": "https://localhost:8080/"
        },
        "outputId": "c19eebf3-dbbf-4aae-9b33-64941776389a"
      },
      "execution_count": null,
      "outputs": [
        {
          "output_type": "execute_result",
          "data": {
            "text/plain": [
              "dict_keys(['Prescription_Stimulants', 'Perscription_Medications', 'OTCs', 'Substances', 'Anxiety', 'Depression', 'ADHD', 'Other_Diagnoses', 'WILD'])"
            ]
          },
          "metadata": {},
          "execution_count": 22
        }
      ]
    },
    {
      "cell_type": "markdown",
      "source": [
        "**GET THE NUMBER OF UNIQUE TOKENS PER ENTITY** & print the total number of tokens along with the number of unique tokens associated with each entity based on the results generated above...."
      ],
      "metadata": {
        "id": "FTo8syqxrJKc"
      }
    },
    {
      "cell_type": "code",
      "source": [
        "#total_v_unique_lst = []\n",
        "for entity in class_tokens.keys():\n",
        "  total_len = len(class_tokens[entity])\n",
        "  uniq_len = len(set(class_tokens[entity]))\n",
        "  print(\"Entity \" + str(entity) + \" has \" + str(total_len) + \" Total Tokens & \" + str(uniq_len) + \" Unique Tokens\")\n",
        "  #total_v_unique_lst.append((total_len, uniq_len))\n",
        "\n",
        "  #unique_entity_tokens[entity] = list(set(class_tokens[entity]))\n",
        "\n",
        "#with open(out_dir+'entity_id_map_UNIQUE.txt', 'w') as out_file:\n",
        "     #out_file.write(json.dumps(unique_entity_tokens))"
      ],
      "metadata": {
        "colab": {
          "base_uri": "https://localhost:8080/"
        },
        "id": "XN8095IrmI6z",
        "outputId": "b647b30c-f5c4-485f-a241-fc0b758491ce"
      },
      "execution_count": null,
      "outputs": [
        {
          "output_type": "stream",
          "name": "stdout",
          "text": [
            "Entity Prescription_Stimulants has 17268 Total Tokens & 137 Unique Tokens\n",
            "Entity Perscription_Medications has 724 Total Tokens & 114 Unique Tokens\n",
            "Entity OTCs has 1584 Total Tokens & 113 Unique Tokens\n",
            "Entity Substances has 523 Total Tokens & 117 Unique Tokens\n",
            "Entity Anxiety has 252 Total Tokens & 10 Unique Tokens\n",
            "Entity Depression has 151 Total Tokens & 12 Unique Tokens\n",
            "Entity ADHD has 1146 Total Tokens & 32 Unique Tokens\n",
            "Entity Other_Diagnoses has 133 Total Tokens & 37 Unique Tokens\n",
            "Entity WILD has 0 Total Tokens & 0 Unique Tokens\n"
          ]
        }
      ]
    },
    {
      "cell_type": "markdown",
      "source": [
        "## Add Unique WILD tokens to Dataset and save as UNIQUE...\n",
        "\n",
        "*   Saves and prints the total number of tokens and unique tokens in the training dataset\n",
        "*   Uses this total to calculate the number of unique wild tokens (that do not overlap with entity tokens) and saves this value in _UNIQUE extension file"
      ],
      "metadata": {
        "id": "jWcLr7qbszpx"
      }
    },
    {
      "cell_type": "markdown",
      "source": [
        "**GET ALL TOKEN IDS FROM TRAINING DATA...**\n",
        "**DONT RUN THE CHUNK OF CODE BELOW AGAIN** (just read in the file in the next chunk instead)"
      ],
      "metadata": {
        "id": "pD6bUswHrzkI"
      }
    },
    {
      "cell_type": "code",
      "source": [
        "all_token_ids = [] # 1,070,400 total tokens in the training data!!!\n",
        "for i in range(0, len(tokenized_dataset['train']['input_ids'])):\n",
        "  print( \"Processing Post \" + str(i))\n",
        "  all_token_ids = all_token_ids + tokenized_dataset['train']['input_ids'][i]\n",
        "\n",
        "with open(out_dir+'all_token_ids', 'wb') as fp:\n",
        "    pickle.dump(all_token_ids, fp)\n",
        "\n",
        "# Check how many total tokens there are in the data as well as how many unique tokens there are in the training dataset...\n",
        "# There are 1070400 total tokens in the training dataset & 9548 are UNIQUE\n",
        "all_unique_token_ids = set(all_token_ids)\n",
        "print(\"There are \" + str(len(all_token_ids)) + \" total tokens in the training dataset & \" + str(len(all_unique_token_ids)) + \" are UNIQUE\")\n"
      ],
      "metadata": {
        "id": "_0B4ZJEPqKl_"
      },
      "execution_count": null,
      "outputs": []
    },
    {
      "cell_type": "code",
      "source": [
        "with open (out_dir+'all_token_ids', 'rb') as fp:\n",
        "    wild_tokens = pickle.load(fp)\n",
        "\n",
        "#wild_token_total_len = 1070400\n",
        "wild_token_total_len = len(wild_tokens)\n",
        "total_entity_tokens = 0\n",
        "total_unique_entity_tokens = 0\n",
        "\n",
        "for entity in class_tokens.keys():\n",
        "  total_len = len(class_tokens[entity])\n",
        "  total_entity_tokens = total_entity_tokens + total_len\n",
        "\n",
        "  uniq_len = len(set(class_tokens[entity]))\n",
        "  total_unique_entity_tokens = total_unique_entity_tokens + uniq_len\n",
        "\n",
        "  wild_token_total_len = wild_token_total_len-total_len\n",
        "\n",
        "print(\"Total Wild Tokens: \" + str(wild_token_total_len)) # 1052464\n",
        "print(\"Total Entity Tokens: \" + str(total_entity_tokens))\n",
        "print(\"Unique Entity Tokens: \" + str(total_unique_entity_tokens))"
      ],
      "metadata": {
        "colab": {
          "base_uri": "https://localhost:8080/"
        },
        "id": "jOb1nQf4sp86",
        "outputId": "30840f78-8224-48d5-8bb9-c45fdd4a8011"
      },
      "execution_count": null,
      "outputs": [
        {
          "output_type": "stream",
          "name": "stdout",
          "text": [
            "Total Wild Tokens: 1048619\n",
            "Total Entity Tokens: 21781\n",
            "Unique Entity Tokens: 572\n"
          ]
        }
      ]
    },
    {
      "cell_type": "markdown",
      "source": [
        "Compare these unique tokens with each list of tokens per entity to see which tokens do not belong to any entity and should therefore be considered \"wild\"..."
      ],
      "metadata": {
        "id": "TbdNPC9GsAn4"
      }
    },
    {
      "cell_type": "code",
      "source": [
        "wild_tokens = set(wild_tokens) # subset of only the unique tokens!\n",
        "wild_tokens = list(wild_tokens)\n",
        "\n",
        "for entity in class_tokens.keys(): # reduces WILD tokens from 9,548 to 9,078 (ie removes 470 token ids)\n",
        "  wild_tokens = list(set(wild_tokens).difference(class_tokens[entity])) # update list to exclude tokens that are part of an entity!"
      ],
      "metadata": {
        "id": "5HVWNacssFbc"
      },
      "execution_count": null,
      "outputs": []
    },
    {
      "cell_type": "code",
      "source": [
        "# Save results to a new file...\n",
        "\n",
        "class_tokens_unique = class_tokens.copy()\n",
        "class_tokens_unique['WILD'] = wild_tokens # add wild tokens to dictionary\n",
        "\n",
        "for entity in class_tokens.keys():\n",
        "  class_tokens_unique[entity] = list(set(class_tokens[entity]))"
      ],
      "metadata": {
        "id": "yAJRUrP5sLsu"
      },
      "execution_count": null,
      "outputs": []
    },
    {
      "cell_type": "code",
      "source": [
        "with open(out_dir+'entity_id_map_REDUCED_UNIQUE.txt', 'w') as out_file: # save this newest version of the dictionary\n",
        "     out_file.write(json.dumps(class_tokens_unique))"
      ],
      "metadata": {
        "id": "wlaOF3Bwiq9g"
      },
      "execution_count": null,
      "outputs": []
    },
    {
      "cell_type": "code",
      "source": [
        "for entity in class_tokens_unique.keys():\n",
        "  total_len = len(class_tokens_unique[entity])\n",
        "  uniq_len = len(set(class_tokens_unique[entity]))\n",
        "  print(\"Entity \" + str(entity) + \" has \" + str(uniq_len) + \" Unique Tokens: \")"
      ],
      "metadata": {
        "colab": {
          "base_uri": "https://localhost:8080/"
        },
        "id": "67g-14A7i1pR",
        "outputId": "e875edfc-8719-4ccc-f9b1-55d0b68aa463"
      },
      "execution_count": null,
      "outputs": [
        {
          "output_type": "stream",
          "name": "stdout",
          "text": [
            "Entity Prescription_Stimulants has 137 Unique Tokens: \n",
            "Entity Perscription_Medications has 114 Unique Tokens: \n",
            "Entity OTCs has 113 Unique Tokens: \n",
            "Entity Substances has 117 Unique Tokens: \n",
            "Entity Anxiety has 10 Unique Tokens: \n",
            "Entity Depression has 12 Unique Tokens: \n",
            "Entity ADHD has 32 Unique Tokens: \n",
            "Entity Other_Diagnoses has 37 Unique Tokens: \n",
            "Entity WILD has 9078 Unique Tokens: \n"
          ]
        }
      ]
    },
    {
      "cell_type": "markdown",
      "source": [
        "## Account for any Duplicate Tokens\n",
        "\n",
        "*  Finds any tokens that are shared between entities and removes them from the list\n",
        "*  New value is saved in \"FINAL\" (DONT NEED TO RERUN)"
      ],
      "metadata": {
        "id": "yPV5iobNvb89"
      }
    },
    {
      "cell_type": "markdown",
      "source": [
        "Get the total number of unique tokens accross all entities which is 9720 tokens. Ideally, all these tokens would be unique when combined but unfortunately some entities share identical tokens...The number of tokens that are shared by 1 or more entities is 104 tokens. Since the wild category contains 9078 tokens, there should be 9720-9078=642 tokens when all tokens of entities are combined (104/642 of which are shared)."
      ],
      "metadata": {
        "id": "ZplJeowmviGw"
      }
    },
    {
      "cell_type": "code",
      "source": [
        "unique_tokens = []\n",
        "for entity in class_tokens_unique.keys():\n",
        "  unique_tokens = unique_tokens + class_tokens_unique[entity]\n",
        "\n",
        "check_dups = []\n",
        "dups = []\n",
        "for token in unique_tokens:\n",
        "  if token not in check_dups:\n",
        "    check_dups.append(token)\n",
        "  else:\n",
        "    dups.append(token)\n",
        "\n",
        "dups = set(dups)\n",
        "dups = list(dups)\n",
        "dups.sort()\n",
        "# len(dups)"
      ],
      "metadata": {
        "id": "prKq9ZnbveuM"
      },
      "execution_count": null,
      "outputs": []
    },
    {
      "cell_type": "code",
      "source": [
        "len(dups)"
      ],
      "metadata": {
        "colab": {
          "base_uri": "https://localhost:8080/"
        },
        "id": "nLc4Z3ltp8Zj",
        "outputId": "3bffa62c-ae4b-4eb1-d0cb-7d161555f071"
      },
      "execution_count": null,
      "outputs": [
        {
          "output_type": "execute_result",
          "data": {
            "text/plain": [
              "72"
            ]
          },
          "metadata": {},
          "execution_count": 43
        }
      ]
    },
    {
      "cell_type": "code",
      "source": [
        "unique_entity_tokens['ADHD']"
      ],
      "metadata": {
        "id": "2mMf9wPavotW"
      },
      "execution_count": null,
      "outputs": []
    },
    {
      "cell_type": "code",
      "source": [
        "for entity in class_tokens_unique.keys():\n",
        "  print(\"\\nEntity: \"+str(entity))\n",
        "  for dup in dups:\n",
        "    if dup in class_tokens_unique[entity]:\n",
        "      print(\"Duplicate token: \" + str(dup))"
      ],
      "metadata": {
        "id": "deG8SWLtvpfG"
      },
      "execution_count": null,
      "outputs": []
    },
    {
      "cell_type": "markdown",
      "source": [
        "Remove token ids that occur in more than one entity!!! This is not good practice but I'm not sure how to deal with this via a rule based approach so this is the best solution I can think of for now..."
      ],
      "metadata": {
        "id": "7xUJ-Io5v38l"
      }
    },
    {
      "cell_type": "code",
      "source": [
        "for entity in class_tokens_unique.keys():\n",
        "  for dup in dups:\n",
        "    if dup in class_tokens_unique[entity]:\n",
        "      class_tokens_unique[entity].remove(dup)"
      ],
      "metadata": {
        "id": "QWivgrtKvvW3"
      },
      "execution_count": null,
      "outputs": []
    },
    {
      "cell_type": "code",
      "source": [
        "for entity in class_tokens_unique.keys():\n",
        "  total_len = len(class_tokens_unique[entity])\n",
        "  uniq_len = len(set(class_tokens_unique[entity]))\n",
        "  print(\"Entity \" + str(entity) + \" has \" + str(uniq_len) + \" Unique Tokens: \")"
      ],
      "metadata": {
        "colab": {
          "base_uri": "https://localhost:8080/"
        },
        "id": "2fbjlOavqZbA",
        "outputId": "d183626c-9a2d-453d-d37c-1af7226451bf"
      },
      "execution_count": null,
      "outputs": [
        {
          "output_type": "stream",
          "name": "stdout",
          "text": [
            "Entity Prescription_Stimulants has 92 Unique Tokens: \n",
            "Entity Perscription_Medications has 72 Unique Tokens: \n",
            "Entity OTCs has 75 Unique Tokens: \n",
            "Entity Substances has 99 Unique Tokens: \n",
            "Entity Anxiety has 7 Unique Tokens: \n",
            "Entity Depression has 7 Unique Tokens: \n",
            "Entity ADHD has 17 Unique Tokens: \n",
            "Entity Other_Diagnoses has 29 Unique Tokens: \n",
            "Entity WILD has 9078 Unique Tokens: \n"
          ]
        }
      ]
    },
    {
      "cell_type": "code",
      "source": [
        "with open(out_dir+'entity_id_map_REDUCED_FINAL.txt', 'w') as out_file: # save this newest version (with duplicates removed and only unique tokens)\n",
        "     out_file.write(json.dumps(class_tokens_unique))"
      ],
      "metadata": {
        "id": "c2oqtezMv-V2"
      },
      "execution_count": null,
      "outputs": []
    },
    {
      "cell_type": "markdown",
      "source": [
        "## Use Rule Based Approach to Generate Test Labels\n",
        "\n",
        "Generates labels based on this approach and saves as \"test_labels\" to be compared with \"gold_labels\" (don't need to re-run!)"
      ],
      "metadata": {
        "id": "7C8S7GDitPFt"
      }
    },
    {
      "cell_type": "code",
      "source": [
        "token_entities = json.load(open(out_dir+\"entity_id_map_REDUCED_FINAL.txt\"))\n",
        "token_entities.keys()"
      ],
      "metadata": {
        "colab": {
          "base_uri": "https://localhost:8080/"
        },
        "id": "maPivmHZtFC0",
        "outputId": "be10d6f1-9f0f-4590-81a0-ca5a2d42ae6e"
      },
      "execution_count": null,
      "outputs": [
        {
          "output_type": "execute_result",
          "data": {
            "text/plain": [
              "dict_keys(['Prescription_Stimulants', 'Perscription_Medications', 'OTCs', 'Substances', 'Anxiety', 'Depression', 'ADHD', 'Other_Diagnoses', 'WILD'])"
            ]
          },
          "metadata": {},
          "execution_count": 52
        }
      ]
    },
    {
      "cell_type": "code",
      "source": [
        "tokenized_dataset['test']"
      ],
      "metadata": {
        "colab": {
          "base_uri": "https://localhost:8080/"
        },
        "id": "yxzzMzVnNZeq",
        "outputId": "6d8c7c95-55c8-4070-b699-da5f31ac6ff4"
      },
      "execution_count": null,
      "outputs": [
        {
          "output_type": "execute_result",
          "data": {
            "text/plain": [
              "Dataset({\n",
              "    features: ['input_ids', 'attention_mask', 'offset_mapping', 'overflow_to_sample_mapping', 'labels'],\n",
              "    num_rows: 401\n",
              "})"
            ]
          },
          "metadata": {},
          "execution_count": 110
        }
      ]
    },
    {
      "cell_type": "code",
      "source": [
        "test_labels = []\n",
        "\n",
        "for i in range(0, len(tokenized_dataset['test']['input_ids'])): # loops through all 401 posts in test set\n",
        "\n",
        "  print(\"\\nTesting on Post \" + str(i))\n",
        "  token_li = []\n",
        "\n",
        "  for token in tokenized_dataset['test']['input_ids'][i]:\n",
        "    #print(\"token is \"+str(token))\n",
        "    if token in token_entities['Prescription_Stimulants']:\n",
        "      token_li.append(0)\n",
        "    elif token in token_entities['Perscription_Medications']:\n",
        "      token_li.append(1)\n",
        "    elif token in token_entities['OTCs']:\n",
        "      token_li.append(2)\n",
        "    elif token in token_entities['Substances']:\n",
        "      token_li.append(3)\n",
        "    elif token in token_entities['Anxiety']:\n",
        "      token_li.append(4)\n",
        "    elif token in token_entities['Depression']:\n",
        "      token_li.append(5)\n",
        "    elif token in token_entities['ADHD']:\n",
        "      token_li.append(6)\n",
        "    elif token in token_entities['Other_Diagnoses']:\n",
        "      token_li.append(7)\n",
        "    else:\n",
        "      token_li.append(8) # must not be an entity!\n",
        "\n",
        "  test_labels.append(token_li)"
      ],
      "metadata": {
        "id": "1-URlq3AP1qz"
      },
      "execution_count": null,
      "outputs": []
    },
    {
      "cell_type": "code",
      "source": [
        "gold_labels = tokenized_dataset['test']['labels']"
      ],
      "metadata": {
        "id": "CspshTctRQG9"
      },
      "execution_count": null,
      "outputs": []
    },
    {
      "cell_type": "code",
      "source": [
        "test['text'][0]"
      ],
      "metadata": {
        "colab": {
          "base_uri": "https://localhost:8080/",
          "height": 86
        },
        "id": "taEi-NcAT5eK",
        "outputId": "2f33e824-cc93-481c-fc4a-b423aa32646b"
      },
      "execution_count": null,
      "outputs": [
        {
          "output_type": "execute_result",
          "data": {
            "text/plain": [
              "\"i have one pill left. i should have gone last night but had a migraine. i work tonight and won't make it before closing. vacation tomorrow. have any of you had any issues with your spouse picking up your prescription from the pharmacy for you?does she need to take my id? the tech always has to scan my id before he'll give my prescription to me. or will they just scan hers?edit: all good. meds acquired with zero fuss. they scanned her id.\""
            ],
            "application/vnd.google.colaboratory.intrinsic+json": {
              "type": "string"
            }
          },
          "metadata": {},
          "execution_count": 55
        }
      ]
    },
    {
      "cell_type": "code",
      "source": [
        "len(test_labels[0])"
      ],
      "metadata": {
        "colab": {
          "base_uri": "https://localhost:8080/"
        },
        "id": "57y-bLakTvVo",
        "outputId": "775ecc62-51b4-4bfa-a5d7-d3d1c1bddebd"
      },
      "execution_count": null,
      "outputs": [
        {
          "output_type": "execute_result",
          "data": {
            "text/plain": [
              "620"
            ]
          },
          "metadata": {},
          "execution_count": 57
        }
      ]
    },
    {
      "cell_type": "code",
      "source": [
        "len(gold_labels[0])"
      ],
      "metadata": {
        "colab": {
          "base_uri": "https://localhost:8080/"
        },
        "id": "esFOzdBPNlLn",
        "outputId": "bb637a6c-aace-459d-f867-b0d0f3dd047a"
      },
      "execution_count": null,
      "outputs": [
        {
          "output_type": "execute_result",
          "data": {
            "text/plain": [
              "620"
            ]
          },
          "metadata": {},
          "execution_count": 58
        }
      ]
    },
    {
      "cell_type": "code",
      "source": [
        "import pickle\n",
        "with open(out_dir+'test_labels_REDUCED', 'wb') as fp:\n",
        "    pickle.dump(test_labels, fp)\n",
        "\n",
        "with open(out_dir+'gold_labels_REDUCED', 'wb') as fp:\n",
        "    pickle.dump(gold_labels, fp)"
      ],
      "metadata": {
        "id": "Bv3Tf_QcUZzS"
      },
      "execution_count": null,
      "outputs": []
    },
    {
      "cell_type": "markdown",
      "source": [
        "## Evaluate Test Results Against Gold Results"
      ],
      "metadata": {
        "id": "m-kwvdjDVIav"
      }
    },
    {
      "cell_type": "markdown",
      "source": [
        "Read in the gold and test labels generated from the previous section..."
      ],
      "metadata": {
        "id": "cl4O3E0iVPpc"
      }
    },
    {
      "cell_type": "code",
      "source": [
        "from sklearn.metrics import accuracy_score, precision_score, recall_score, f1_score\n",
        "from sklearn.metrics import roc_auc_score, average_precision_score"
      ],
      "metadata": {
        "id": "C3ciaEvngG9I"
      },
      "execution_count": null,
      "outputs": []
    },
    {
      "cell_type": "code",
      "source": [
        "with open (out_dir+'test_labels_REDUCED', 'rb') as fp:\n",
        "    test_labels = pickle.load(fp)\n",
        "\n",
        "with open (out_dir+'gold_labels_REDUCED', 'rb') as fp:\n",
        "    gold_labels = pickle.load(fp)"
      ],
      "metadata": {
        "id": "0XAOvUR5U1JU"
      },
      "execution_count": null,
      "outputs": []
    },
    {
      "cell_type": "code",
      "source": [
        "class_tokens = json.load(open(out_dir+\"entity_id_map_REDUCED.txt\")) # read in NON EDITED version first!\n",
        "\n",
        "counts = pd.DataFrame()\n",
        "total_len = []\n",
        "uniq_len = []\n",
        "entities = []\n",
        "\n",
        "for entity in class_tokens.keys():\n",
        "  entities.append(entity)\n",
        "  total_len.append(len(class_tokens[entity]))\n",
        "  uniq_len.append(len(set(class_tokens[entity])))\n",
        "\n",
        "counts['entity'] = entities\n",
        "counts['Total_Tokens'] = total_len\n",
        "counts['Total_UNIQUE_Tokens'] = uniq_len\n",
        "counts"
      ],
      "metadata": {
        "colab": {
          "base_uri": "https://localhost:8080/",
          "height": 420
        },
        "id": "1ugnx0RB4t7c",
        "outputId": "96e76965-b1c7-4a7a-bd2b-ccb113ee9f11"
      },
      "execution_count": null,
      "outputs": [
        {
          "output_type": "execute_result",
          "data": {
            "text/plain": [
              "                     entity  Total_Tokens  Total_UNIQUE_Tokens\n",
              "0   Prescription_Stimulants         17268                  137\n",
              "1  Perscription_Medications           724                  114\n",
              "2                      OTCs          1584                  113\n",
              "3                Substances           523                  117\n",
              "4                   Anxiety           252                   10\n",
              "5                Depression           151                   12\n",
              "6                      ADHD          1146                   32\n",
              "7           Other_Diagnoses           133                   37\n",
              "8                      WILD             0                    0"
            ],
            "text/html": [
              "\n",
              "  <div id=\"df-3939baa0-c351-4ba3-addc-25bc441a6782\" class=\"colab-df-container\">\n",
              "    <div>\n",
              "<style scoped>\n",
              "    .dataframe tbody tr th:only-of-type {\n",
              "        vertical-align: middle;\n",
              "    }\n",
              "\n",
              "    .dataframe tbody tr th {\n",
              "        vertical-align: top;\n",
              "    }\n",
              "\n",
              "    .dataframe thead th {\n",
              "        text-align: right;\n",
              "    }\n",
              "</style>\n",
              "<table border=\"1\" class=\"dataframe\">\n",
              "  <thead>\n",
              "    <tr style=\"text-align: right;\">\n",
              "      <th></th>\n",
              "      <th>entity</th>\n",
              "      <th>Total_Tokens</th>\n",
              "      <th>Total_UNIQUE_Tokens</th>\n",
              "    </tr>\n",
              "  </thead>\n",
              "  <tbody>\n",
              "    <tr>\n",
              "      <th>0</th>\n",
              "      <td>Prescription_Stimulants</td>\n",
              "      <td>17268</td>\n",
              "      <td>137</td>\n",
              "    </tr>\n",
              "    <tr>\n",
              "      <th>1</th>\n",
              "      <td>Perscription_Medications</td>\n",
              "      <td>724</td>\n",
              "      <td>114</td>\n",
              "    </tr>\n",
              "    <tr>\n",
              "      <th>2</th>\n",
              "      <td>OTCs</td>\n",
              "      <td>1584</td>\n",
              "      <td>113</td>\n",
              "    </tr>\n",
              "    <tr>\n",
              "      <th>3</th>\n",
              "      <td>Substances</td>\n",
              "      <td>523</td>\n",
              "      <td>117</td>\n",
              "    </tr>\n",
              "    <tr>\n",
              "      <th>4</th>\n",
              "      <td>Anxiety</td>\n",
              "      <td>252</td>\n",
              "      <td>10</td>\n",
              "    </tr>\n",
              "    <tr>\n",
              "      <th>5</th>\n",
              "      <td>Depression</td>\n",
              "      <td>151</td>\n",
              "      <td>12</td>\n",
              "    </tr>\n",
              "    <tr>\n",
              "      <th>6</th>\n",
              "      <td>ADHD</td>\n",
              "      <td>1146</td>\n",
              "      <td>32</td>\n",
              "    </tr>\n",
              "    <tr>\n",
              "      <th>7</th>\n",
              "      <td>Other_Diagnoses</td>\n",
              "      <td>133</td>\n",
              "      <td>37</td>\n",
              "    </tr>\n",
              "    <tr>\n",
              "      <th>8</th>\n",
              "      <td>WILD</td>\n",
              "      <td>0</td>\n",
              "      <td>0</td>\n",
              "    </tr>\n",
              "  </tbody>\n",
              "</table>\n",
              "</div>\n",
              "    <div class=\"colab-df-buttons\">\n",
              "\n",
              "  <div class=\"colab-df-container\">\n",
              "    <button class=\"colab-df-convert\" onclick=\"convertToInteractive('df-3939baa0-c351-4ba3-addc-25bc441a6782')\"\n",
              "            title=\"Convert this dataframe to an interactive table.\"\n",
              "            style=\"display:none;\">\n",
              "\n",
              "  <svg xmlns=\"http://www.w3.org/2000/svg\" height=\"24px\" viewBox=\"0 -960 960 960\">\n",
              "    <path d=\"M120-120v-720h720v720H120Zm60-500h600v-160H180v160Zm220 220h160v-160H400v160Zm0 220h160v-160H400v160ZM180-400h160v-160H180v160Zm440 0h160v-160H620v160ZM180-180h160v-160H180v160Zm440 0h160v-160H620v160Z\"/>\n",
              "  </svg>\n",
              "    </button>\n",
              "\n",
              "  <style>\n",
              "    .colab-df-container {\n",
              "      display:flex;\n",
              "      gap: 12px;\n",
              "    }\n",
              "\n",
              "    .colab-df-convert {\n",
              "      background-color: #E8F0FE;\n",
              "      border: none;\n",
              "      border-radius: 50%;\n",
              "      cursor: pointer;\n",
              "      display: none;\n",
              "      fill: #1967D2;\n",
              "      height: 32px;\n",
              "      padding: 0 0 0 0;\n",
              "      width: 32px;\n",
              "    }\n",
              "\n",
              "    .colab-df-convert:hover {\n",
              "      background-color: #E2EBFA;\n",
              "      box-shadow: 0px 1px 2px rgba(60, 64, 67, 0.3), 0px 1px 3px 1px rgba(60, 64, 67, 0.15);\n",
              "      fill: #174EA6;\n",
              "    }\n",
              "\n",
              "    .colab-df-buttons div {\n",
              "      margin-bottom: 4px;\n",
              "    }\n",
              "\n",
              "    [theme=dark] .colab-df-convert {\n",
              "      background-color: #3B4455;\n",
              "      fill: #D2E3FC;\n",
              "    }\n",
              "\n",
              "    [theme=dark] .colab-df-convert:hover {\n",
              "      background-color: #434B5C;\n",
              "      box-shadow: 0px 1px 3px 1px rgba(0, 0, 0, 0.15);\n",
              "      filter: drop-shadow(0px 1px 2px rgba(0, 0, 0, 0.3));\n",
              "      fill: #FFFFFF;\n",
              "    }\n",
              "  </style>\n",
              "\n",
              "    <script>\n",
              "      const buttonEl =\n",
              "        document.querySelector('#df-3939baa0-c351-4ba3-addc-25bc441a6782 button.colab-df-convert');\n",
              "      buttonEl.style.display =\n",
              "        google.colab.kernel.accessAllowed ? 'block' : 'none';\n",
              "\n",
              "      async function convertToInteractive(key) {\n",
              "        const element = document.querySelector('#df-3939baa0-c351-4ba3-addc-25bc441a6782');\n",
              "        const dataTable =\n",
              "          await google.colab.kernel.invokeFunction('convertToInteractive',\n",
              "                                                    [key], {});\n",
              "        if (!dataTable) return;\n",
              "\n",
              "        const docLinkHtml = 'Like what you see? Visit the ' +\n",
              "          '<a target=\"_blank\" href=https://colab.research.google.com/notebooks/data_table.ipynb>data table notebook</a>'\n",
              "          + ' to learn more about interactive tables.';\n",
              "        element.innerHTML = '';\n",
              "        dataTable['output_type'] = 'display_data';\n",
              "        await google.colab.output.renderOutput(dataTable, element);\n",
              "        const docLink = document.createElement('div');\n",
              "        docLink.innerHTML = docLinkHtml;\n",
              "        element.appendChild(docLink);\n",
              "      }\n",
              "    </script>\n",
              "  </div>\n",
              "\n",
              "\n",
              "<div id=\"df-b3b61271-a014-415d-8f47-ee3d524c8e72\">\n",
              "  <button class=\"colab-df-quickchart\" onclick=\"quickchart('df-b3b61271-a014-415d-8f47-ee3d524c8e72')\"\n",
              "            title=\"Suggest charts\"\n",
              "            style=\"display:none;\">\n",
              "\n",
              "<svg xmlns=\"http://www.w3.org/2000/svg\" height=\"24px\"viewBox=\"0 0 24 24\"\n",
              "     width=\"24px\">\n",
              "    <g>\n",
              "        <path d=\"M19 3H5c-1.1 0-2 .9-2 2v14c0 1.1.9 2 2 2h14c1.1 0 2-.9 2-2V5c0-1.1-.9-2-2-2zM9 17H7v-7h2v7zm4 0h-2V7h2v10zm4 0h-2v-4h2v4z\"/>\n",
              "    </g>\n",
              "</svg>\n",
              "  </button>\n",
              "\n",
              "<style>\n",
              "  .colab-df-quickchart {\n",
              "      --bg-color: #E8F0FE;\n",
              "      --fill-color: #1967D2;\n",
              "      --hover-bg-color: #E2EBFA;\n",
              "      --hover-fill-color: #174EA6;\n",
              "      --disabled-fill-color: #AAA;\n",
              "      --disabled-bg-color: #DDD;\n",
              "  }\n",
              "\n",
              "  [theme=dark] .colab-df-quickchart {\n",
              "      --bg-color: #3B4455;\n",
              "      --fill-color: #D2E3FC;\n",
              "      --hover-bg-color: #434B5C;\n",
              "      --hover-fill-color: #FFFFFF;\n",
              "      --disabled-bg-color: #3B4455;\n",
              "      --disabled-fill-color: #666;\n",
              "  }\n",
              "\n",
              "  .colab-df-quickchart {\n",
              "    background-color: var(--bg-color);\n",
              "    border: none;\n",
              "    border-radius: 50%;\n",
              "    cursor: pointer;\n",
              "    display: none;\n",
              "    fill: var(--fill-color);\n",
              "    height: 32px;\n",
              "    padding: 0;\n",
              "    width: 32px;\n",
              "  }\n",
              "\n",
              "  .colab-df-quickchart:hover {\n",
              "    background-color: var(--hover-bg-color);\n",
              "    box-shadow: 0 1px 2px rgba(60, 64, 67, 0.3), 0 1px 3px 1px rgba(60, 64, 67, 0.15);\n",
              "    fill: var(--button-hover-fill-color);\n",
              "  }\n",
              "\n",
              "  .colab-df-quickchart-complete:disabled,\n",
              "  .colab-df-quickchart-complete:disabled:hover {\n",
              "    background-color: var(--disabled-bg-color);\n",
              "    fill: var(--disabled-fill-color);\n",
              "    box-shadow: none;\n",
              "  }\n",
              "\n",
              "  .colab-df-spinner {\n",
              "    border: 2px solid var(--fill-color);\n",
              "    border-color: transparent;\n",
              "    border-bottom-color: var(--fill-color);\n",
              "    animation:\n",
              "      spin 1s steps(1) infinite;\n",
              "  }\n",
              "\n",
              "  @keyframes spin {\n",
              "    0% {\n",
              "      border-color: transparent;\n",
              "      border-bottom-color: var(--fill-color);\n",
              "      border-left-color: var(--fill-color);\n",
              "    }\n",
              "    20% {\n",
              "      border-color: transparent;\n",
              "      border-left-color: var(--fill-color);\n",
              "      border-top-color: var(--fill-color);\n",
              "    }\n",
              "    30% {\n",
              "      border-color: transparent;\n",
              "      border-left-color: var(--fill-color);\n",
              "      border-top-color: var(--fill-color);\n",
              "      border-right-color: var(--fill-color);\n",
              "    }\n",
              "    40% {\n",
              "      border-color: transparent;\n",
              "      border-right-color: var(--fill-color);\n",
              "      border-top-color: var(--fill-color);\n",
              "    }\n",
              "    60% {\n",
              "      border-color: transparent;\n",
              "      border-right-color: var(--fill-color);\n",
              "    }\n",
              "    80% {\n",
              "      border-color: transparent;\n",
              "      border-right-color: var(--fill-color);\n",
              "      border-bottom-color: var(--fill-color);\n",
              "    }\n",
              "    90% {\n",
              "      border-color: transparent;\n",
              "      border-bottom-color: var(--fill-color);\n",
              "    }\n",
              "  }\n",
              "</style>\n",
              "\n",
              "  <script>\n",
              "    async function quickchart(key) {\n",
              "      const quickchartButtonEl =\n",
              "        document.querySelector('#' + key + ' button');\n",
              "      quickchartButtonEl.disabled = true;  // To prevent multiple clicks.\n",
              "      quickchartButtonEl.classList.add('colab-df-spinner');\n",
              "      try {\n",
              "        const charts = await google.colab.kernel.invokeFunction(\n",
              "            'suggestCharts', [key], {});\n",
              "      } catch (error) {\n",
              "        console.error('Error during call to suggestCharts:', error);\n",
              "      }\n",
              "      quickchartButtonEl.classList.remove('colab-df-spinner');\n",
              "      quickchartButtonEl.classList.add('colab-df-quickchart-complete');\n",
              "    }\n",
              "    (() => {\n",
              "      let quickchartButtonEl =\n",
              "        document.querySelector('#df-b3b61271-a014-415d-8f47-ee3d524c8e72 button');\n",
              "      quickchartButtonEl.style.display =\n",
              "        google.colab.kernel.accessAllowed ? 'block' : 'none';\n",
              "    })();\n",
              "  </script>\n",
              "</div>\n",
              "\n",
              "  <div id=\"id_5577a8f8-d862-4088-adae-425808e9c52d\">\n",
              "    <style>\n",
              "      .colab-df-generate {\n",
              "        background-color: #E8F0FE;\n",
              "        border: none;\n",
              "        border-radius: 50%;\n",
              "        cursor: pointer;\n",
              "        display: none;\n",
              "        fill: #1967D2;\n",
              "        height: 32px;\n",
              "        padding: 0 0 0 0;\n",
              "        width: 32px;\n",
              "      }\n",
              "\n",
              "      .colab-df-generate:hover {\n",
              "        background-color: #E2EBFA;\n",
              "        box-shadow: 0px 1px 2px rgba(60, 64, 67, 0.3), 0px 1px 3px 1px rgba(60, 64, 67, 0.15);\n",
              "        fill: #174EA6;\n",
              "      }\n",
              "\n",
              "      [theme=dark] .colab-df-generate {\n",
              "        background-color: #3B4455;\n",
              "        fill: #D2E3FC;\n",
              "      }\n",
              "\n",
              "      [theme=dark] .colab-df-generate:hover {\n",
              "        background-color: #434B5C;\n",
              "        box-shadow: 0px 1px 3px 1px rgba(0, 0, 0, 0.15);\n",
              "        filter: drop-shadow(0px 1px 2px rgba(0, 0, 0, 0.3));\n",
              "        fill: #FFFFFF;\n",
              "      }\n",
              "    </style>\n",
              "    <button class=\"colab-df-generate\" onclick=\"generateWithVariable('counts')\"\n",
              "            title=\"Generate code using this dataframe.\"\n",
              "            style=\"display:none;\">\n",
              "\n",
              "  <svg xmlns=\"http://www.w3.org/2000/svg\" height=\"24px\"viewBox=\"0 0 24 24\"\n",
              "       width=\"24px\">\n",
              "    <path d=\"M7,19H8.4L18.45,9,17,7.55,7,17.6ZM5,21V16.75L18.45,3.32a2,2,0,0,1,2.83,0l1.4,1.43a1.91,1.91,0,0,1,.58,1.4,1.91,1.91,0,0,1-.58,1.4L9.25,21ZM18.45,9,17,7.55Zm-12,3A5.31,5.31,0,0,0,4.9,8.1,5.31,5.31,0,0,0,1,6.5,5.31,5.31,0,0,0,4.9,4.9,5.31,5.31,0,0,0,6.5,1,5.31,5.31,0,0,0,8.1,4.9,5.31,5.31,0,0,0,12,6.5,5.46,5.46,0,0,0,6.5,12Z\"/>\n",
              "  </svg>\n",
              "    </button>\n",
              "    <script>\n",
              "      (() => {\n",
              "      const buttonEl =\n",
              "        document.querySelector('#id_5577a8f8-d862-4088-adae-425808e9c52d button.colab-df-generate');\n",
              "      buttonEl.style.display =\n",
              "        google.colab.kernel.accessAllowed ? 'block' : 'none';\n",
              "\n",
              "      buttonEl.onclick = () => {\n",
              "        google.colab.notebook.generateWithVariable('counts');\n",
              "      }\n",
              "      })();\n",
              "    </script>\n",
              "  </div>\n",
              "\n",
              "    </div>\n",
              "  </div>\n"
            ],
            "application/vnd.google.colaboratory.intrinsic+json": {
              "type": "dataframe",
              "variable_name": "counts",
              "summary": "{\n  \"name\": \"counts\",\n  \"rows\": 9,\n  \"fields\": [\n    {\n      \"column\": \"entity\",\n      \"properties\": {\n        \"dtype\": \"string\",\n        \"num_unique_values\": 9,\n        \"samples\": [\n          \"Other_Diagnoses\",\n          \"Perscription_Medications\",\n          \"Depression\"\n        ],\n        \"semantic_type\": \"\",\n        \"description\": \"\"\n      }\n    },\n    {\n      \"column\": \"Total_Tokens\",\n      \"properties\": {\n        \"dtype\": \"number\",\n        \"std\": 5592,\n        \"min\": 0,\n        \"max\": 17268,\n        \"num_unique_values\": 9,\n        \"samples\": [\n          133,\n          724,\n          151\n        ],\n        \"semantic_type\": \"\",\n        \"description\": \"\"\n      }\n    },\n    {\n      \"column\": \"Total_UNIQUE_Tokens\",\n      \"properties\": {\n        \"dtype\": \"number\",\n        \"std\": 55,\n        \"min\": 0,\n        \"max\": 137,\n        \"num_unique_values\": 9,\n        \"samples\": [\n          37,\n          114,\n          12\n        ],\n        \"semantic_type\": \"\",\n        \"description\": \"\"\n      }\n    }\n  ]\n}"
            }
          },
          "metadata": {},
          "execution_count": 15
        }
      ]
    },
    {
      "cell_type": "code",
      "source": [
        "categories = counts['entity'].unique()\n",
        "colors = ['r', 'g', 'b', 'y', 'c', 'm', 'aquamarine', 'mediumpurple', 'lightgreen']  # You can extend this list for more categories\n",
        "for i, category in enumerate(categories):\n",
        "  plt.scatter(counts[counts['entity'] == category]['Total_Tokens'], counts[counts['entity'] == category]['Total_UNIQUE_Tokens'], label=category, color=colors[i])\n",
        "plt.xlabel('Total Tokens Labeled')\n",
        "plt.ylabel('Total UNIQUE Tokens Labeled')\n",
        "plt.title('Number of Tokens Labeled Per Entity')\n",
        "plt.legend(loc='center left', bbox_to_anchor=(1, 0.5))\n",
        "#plt.grid(True)\n",
        "plt.savefig(out_dir+'plots/entity_tokens.png')\n",
        "plt.show()"
      ],
      "metadata": {
        "colab": {
          "base_uri": "https://localhost:8080/",
          "height": 474
        },
        "id": "fnUW2wOV6d2q",
        "outputId": "764e328c-97f7-4742-a1fd-0ca4c1662fdd"
      },
      "execution_count": null,
      "outputs": [
        {
          "output_type": "display_data",
          "data": {
            "text/plain": [
              "<Figure size 640x480 with 1 Axes>"
            ],
            "image/png": "[encoded data removed]"
          },
          "metadata": {}
        }
      ]
    },
    {
      "cell_type": "markdown",
      "source": [
        "Get only the unique labels in each set..."
      ],
      "metadata": {
        "id": "2ggnKJPk4CL8"
      }
    },
    {
      "cell_type": "code",
      "source": [
        "gold_labels_set = []\n",
        "for labels in gold_labels:\n",
        "  uniq = set(labels)\n",
        "  gold_labels_set.append(list(uniq))\n",
        "\n",
        "test_labels_set = []\n",
        "for labels in test_labels:\n",
        "  uniq = set(labels)\n",
        "  test_labels_set.append(list(uniq))"
      ],
      "metadata": {
        "id": "Ii4LyHob3qHg"
      },
      "execution_count": null,
      "outputs": []
    },
    {
      "cell_type": "code",
      "source": [
        "id_to_classes"
      ],
      "metadata": {
        "colab": {
          "base_uri": "https://localhost:8080/"
        },
        "id": "OfbHUXD53HFt",
        "outputId": "fc07f6d1-969c-45fd-87f3-08d255ddd013"
      },
      "execution_count": null,
      "outputs": [
        {
          "output_type": "execute_result",
          "data": {
            "text/plain": [
              "{0: 'Prescription_Stimulants',\n",
              " 1: 'Perscription_Medications',\n",
              " 2: 'OTCs',\n",
              " 3: 'Substances',\n",
              " 4: 'Anxiety',\n",
              " 5: 'Depression',\n",
              " 6: 'ADHD',\n",
              " 7: 'Other_Diagnoses',\n",
              " 8: 'WILD'}"
            ]
          },
          "metadata": {},
          "execution_count": 68
        }
      ]
    },
    {
      "cell_type": "code",
      "source": [
        "test_labels_set[10]"
      ],
      "metadata": {
        "colab": {
          "base_uri": "https://localhost:8080/"
        },
        "id": "g4WJSoYJ3ZFq",
        "outputId": "148fb518-20b7-47ef-aadb-72d913aafe53"
      },
      "execution_count": null,
      "outputs": [
        {
          "output_type": "execute_result",
          "data": {
            "text/plain": [
              "[8, 0, 3, 6]"
            ]
          },
          "metadata": {},
          "execution_count": 69
        }
      ]
    },
    {
      "cell_type": "code",
      "source": [
        "classes_to_id['Prescription_Stimulants']"
      ],
      "metadata": {
        "colab": {
          "base_uri": "https://localhost:8080/"
        },
        "id": "liv_iQECGmOw",
        "outputId": "e6748b28-2ac3-4f65-a11d-41debe234f87"
      },
      "execution_count": null,
      "outputs": [
        {
          "output_type": "execute_result",
          "data": {
            "text/plain": [
              "0"
            ]
          },
          "metadata": {},
          "execution_count": 72
        }
      ]
    },
    {
      "cell_type": "markdown",
      "source": [
        "**CALCULATE ONE ENTITY AT A TIME...**"
      ],
      "metadata": {
        "id": "fJ1jpws_PWBO"
      }
    },
    {
      "cell_type": "code",
      "source": [
        "entity = 'Prescription_Stimulants'\n",
        "fp, tp, fn, tn = 0, 0, 0, 0\n",
        "\n",
        "for i in range(0,len(test_labels_set)): # loops through all 401 posts\n",
        "  in_test = classes_to_id[entity] in test_labels_set[i]\n",
        "  in_gold = classes_to_id[entity] in gold_labels_set[i]\n",
        "\n",
        "  if in_test==False and in_gold==True: # is true but predicted false (FN)\n",
        "    fn = fn+1\n",
        "  elif in_test==True and in_gold==False: # is false but predicted true (FP)\n",
        "    fp = fp+1\n",
        "  elif in_test==False and in_gold==False: # true negative\n",
        "    tn = tn+1\n",
        "  elif in_test==True and in_gold==True: # true positive\n",
        "    tp = tp+1\n",
        "\n",
        "print(f\"True Positives: {tp}\")\n",
        "print(f\"False Positives: {fp}\")\n",
        "print(f\"True Negatives: {tn}\")\n",
        "print(f\"False Negatives: {fn}\")\n"
      ],
      "metadata": {
        "colab": {
          "base_uri": "https://localhost:8080/"
        },
        "id": "9Iwz7y0lCWrj",
        "outputId": "8a4d6e96-12ed-4d6b-dd07-5710ab0977af"
      },
      "execution_count": null,
      "outputs": [
        {
          "output_type": "stream",
          "name": "stdout",
          "text": [
            "True Positives: 312\n",
            "False Positives: 71\n",
            "True Negatives: 12\n",
            "False Negatives: 6\n"
          ]
        }
      ]
    },
    {
      "cell_type": "markdown",
      "source": [
        "**FINAL METHOD USED...**"
      ],
      "metadata": {
        "id": "3X1hYjNsPOkH"
      }
    },
    {
      "cell_type": "code",
      "source": [
        "# convert list of lists to numpy arrays for easier manipulation\n",
        "gold_array = np.array(gold_labels)\n",
        "test_array = np.array(test_labels)"
      ],
      "metadata": {
        "id": "pa7sNKC5z4rv"
      },
      "execution_count": null,
      "outputs": []
    },
    {
      "cell_type": "code",
      "source": [
        "# flatten arrays to get single list of predictions for all samples\n",
        "gold_flat = gold_array.flatten()\n",
        "test_flat = test_array.flatten()"
      ],
      "metadata": {
        "id": "Drqp3J1D0AUN"
      },
      "execution_count": null,
      "outputs": []
    },
    {
      "cell_type": "code",
      "source": [
        "accuracy = accuracy_score(gold_flat, test_flat) # calculate accuracy\n",
        "\n",
        "precision = precision_score(gold_flat, test_flat, average='weighted')\n",
        "recall = recall_score(gold_flat, test_flat, average='weighted')\n",
        "f1 = f1_score(gold_flat, test_flat, average='weighted')"
      ],
      "metadata": {
        "id": "cMpleSZPKKwA"
      },
      "execution_count": null,
      "outputs": []
    },
    {
      "cell_type": "code",
      "source": [
        "from sklearn.metrics import classification_report\n",
        "\n",
        "classification_report(gold_flat, test_flat)"
      ],
      "metadata": {
        "id": "3KmU1eppJBa0",
        "colab": {
          "base_uri": "https://localhost:8080/",
          "height": 130
        },
        "outputId": "afdc0710-2b6b-4099-d1ce-fb1018e4595a"
      },
      "execution_count": null,
      "outputs": [
        {
          "output_type": "execute_result",
          "data": {
            "text/plain": [
              "'              precision    recall  f1-score   support\\n\\n           0       0.10      0.09      0.10      3278\\n           1       0.18      0.40      0.24       112\\n           2       0.12      0.75      0.20        56\\n           3       0.11      0.76      0.19        80\\n           4       0.36      0.14      0.20        36\\n           5       0.62      0.83      0.71        36\\n           6       0.00      0.04      0.00       136\\n           7       0.04      0.44      0.07        25\\n           8       0.99      0.96      0.97    244861\\n\\n    accuracy                           0.95    248620\\n   macro avg       0.28      0.49      0.30    248620\\nweighted avg       0.97      0.95      0.96    248620\\n'"
            ],
            "application/vnd.google.colaboratory.intrinsic+json": {
              "type": "string"
            }
          },
          "metadata": {},
          "execution_count": 19
        }
      ]
    },
    {
      "cell_type": "code",
      "source": [
        "# Compute overall accuracy\n",
        "overall_accuracy = accuracy_score(gold_flat, test_flat)\n",
        "\n",
        "# Compute accuracy for each class\n",
        "class_accuracies = {}\n",
        "for class_label in range(N_LABELS):\n",
        "    # Extract indices corresponding to the current class\n",
        "    indices = [i for i, label in enumerate(gold_flat) if label == class_label]\n",
        "\n",
        "    # Extract true labels and predicted labels for the current class\n",
        "    class_y_true = [gold_flat[i] for i in indices]\n",
        "    class_y_pred = [test_flat[i] for i in indices]\n",
        "\n",
        "    # Compute accuracy for the current class\n",
        "    class_accuracy = accuracy_score(class_y_true, class_y_pred)\n",
        "\n",
        "    # Store the accuracy for the current class\n",
        "    class_accuracies[class_label] = class_accuracy\n",
        "\n",
        "# Print overall accuracy and class-wise accuracies\n",
        "print(\"Overall Accuracy:\", overall_accuracy)\n",
        "print(\"Class-wise Accuracies:\")\n",
        "for class_label, accuracy in class_accuracies.items():\n",
        "    print(f\"Class {class_label}: {accuracy}\")"
      ],
      "metadata": {
        "colab": {
          "base_uri": "https://localhost:8080/"
        },
        "id": "zQpuWBMB9k2P",
        "outputId": "a24be2e0-6a2d-4947-b346-bbe2e9defdc3"
      },
      "execution_count": null,
      "outputs": [
        {
          "output_type": "stream",
          "name": "stdout",
          "text": [
            "Overall Accuracy: 0.9509532620062746\n",
            "Class-wise Accuracies:\n",
            "Class 0: 0.09426479560707748\n",
            "Class 1: 0.4017857142857143\n",
            "Class 2: 0.75\n",
            "Class 3: 0.7625\n",
            "Class 4: 0.1388888888888889\n",
            "Class 5: 0.8333333333333334\n",
            "Class 6: 0.03676470588235294\n",
            "Class 7: 0.44\n",
            "Class 8: 0.9634772381065175\n"
          ]
        }
      ]
    },
    {
      "cell_type": "code",
      "source": [
        "gold_binarized = np.eye(9)[gold_flat]\n"
      ],
      "metadata": {
        "id": "9LnTm8eNt_Vl"
      },
      "execution_count": null,
      "outputs": []
    },
    {
      "cell_type": "code",
      "source": [
        "# Calculate AUROC and AUPRC\n",
        "# Binarize multiclass predictions because AUROC and AUPRC require binary classification!!!\n",
        "# One-vs-Rest strategy can be used here\n",
        "\n",
        "# np.eye creates a matrix of zeros (except for the diagonal=1) with 26 rows\n",
        "# each row represents a different entity\n",
        "gold_binarized = np.eye(9)[gold_flat]  # One-hot encode the true labels\n",
        "test_scores = np.eye(9)[test_flat]  # One-hot encode the predicted labels\n",
        "roc_auc = roc_auc_score(gold_binarized, test_scores, average='macro', multi_class='ovr')\n",
        "auprc = average_precision_score(gold_binarized, test_scores, average='macro')"
      ],
      "metadata": {
        "id": "HmJ9WLmDKXDd"
      },
      "execution_count": null,
      "outputs": []
    },
    {
      "cell_type": "markdown",
      "source": [
        "(17936/1070400)*100 = 16.75% of all tokens are labeled with an entity!!!"
      ],
      "metadata": {
        "id": "KDuVJpR2ONGU"
      }
    },
    {
      "cell_type": "code",
      "source": [
        "print(\"Accuracy:\", accuracy)\n",
        "print(\"Precision:\", precision)\n",
        "print(\"Recall:\", recall)\n",
        "print(\"F1-score:\", f1)\n",
        "print(\"AUROC:\", roc_auc)\n",
        "print(\"AUPRC:\", auprc)"
      ],
      "metadata": {
        "colab": {
          "base_uri": "https://localhost:8080/"
        },
        "id": "xHkpp5v2KaKr",
        "outputId": "fbbb2fa8-51d9-434e-9054-d8aeecfe5aec"
      },
      "execution_count": null,
      "outputs": [
        {
          "output_type": "stream",
          "name": "stdout",
          "text": [
            "Accuracy: 0.9509532620062746\n",
            "Precision: 0.9731228548911792\n",
            "Recall: 0.9509532620062746\n",
            "F1-score: 0.9617172151645983\n",
            "AUROC: 0.6957605022598817\n",
            "AUPRC: 0.20387086834617385\n"
          ]
        }
      ]
    },
    {
      "cell_type": "code",
      "source": [
        "gold_flat"
      ],
      "metadata": {
        "colab": {
          "base_uri": "https://localhost:8080/"
        },
        "id": "CWbX9-8jRl25",
        "outputId": "aeeb2911-11f9-492f-b68d-82063ab2b705"
      },
      "execution_count": null,
      "outputs": [
        {
          "output_type": "execute_result",
          "data": {
            "text/plain": [
              "array([25, 25, 25, ..., 25, 25, 25])"
            ]
          },
          "metadata": {},
          "execution_count": 56
        }
      ]
    },
    {
      "cell_type": "code",
      "source": [
        "test_scores[4]"
      ],
      "metadata": {
        "colab": {
          "base_uri": "https://localhost:8080/"
        },
        "id": "zA6Fxf5VOT8M",
        "outputId": "6ba5cec8-1c89-4560-98ac-3db83612a17b"
      },
      "execution_count": null,
      "outputs": [
        {
          "output_type": "execute_result",
          "data": {
            "text/plain": [
              "array([0., 0., 0., 0., 0., 0., 0., 0., 0., 0., 0., 0., 0., 0., 0., 0., 0.,\n",
              "       0., 0., 0., 0., 0., 0., 0., 0., 1.])"
            ]
          },
          "metadata": {},
          "execution_count": 71
        }
      ]
    }
  ]
}